{
 "cells": [
  {
   "cell_type": "code",
   "execution_count": 3,
   "metadata": {},
   "outputs": [],
   "source": [
    "%matplotlib inline\n",
    "import matplotlib as mpl\n",
    "import matplotlib.pyplot as plt\n",
    "\n",
    "import plotly.express as px\n",
    "import plotly.graph_objects as go\n",
    "from plotly.subplots import make_subplots\n",
    "\n",
    "import seaborn as sns\n",
    "\n",
    "import pandas as pd\n",
    "import numpy as np\n",
    "import datetime"
   ]
  },
  {
   "cell_type": "code",
   "execution_count": 4,
   "metadata": {},
   "outputs": [],
   "source": [
    "from models import Candle, MarketTrade\n",
    "from database import Database, MyWoWDatabase\n",
    "import services.coinbase_services as cb\n",
    "from coinbase.rest import RESTClient"
   ]
  },
  {
   "cell_type": "code",
   "execution_count": 5,
   "metadata": {},
   "outputs": [],
   "source": [
    "client = cb.get_client()\n",
    "db = Database('mywow.db')\n",
    "dbms = MyWoWDatabase('mywow.db')\n",
    "\n",
    "trading_pair = 'SWELL-USD'\n",
    "start = datetime.datetime(year=2025, month=2, day=10, hour=1, minute=30, second=0, tzinfo=cb.LOCAL_TZ)\n",
    "end = datetime.datetime(year=2025, month=2, day=10, hour=3, minute=00, second=0, tzinfo=cb.LOCAL_TZ)"
   ]
  },
  {
   "cell_type": "code",
   "execution_count": 6,
   "metadata": {},
   "outputs": [],
   "source": [
    "# Assuming at root of project directory: \"C:\\...\\MyWoW\\\"\n",
    "import os\n",
    "data_dir_path = os.path.join(os.getcwd(), 'data')\n",
    "if not os.path.exists(data_dir_path):\n",
    "    os.mkdir(data_dir_path)\n",
    "\n",
    "analysis_dir_path = os.path.join(data_dir_path, 'analysis')\n",
    "if not os.path.exists(analysis_dir_path):\n",
    "    os.mkdir(analysis_dir_path)\n",
    "\n",
    "DATA_FETCHED = False\n",
    "history_header = ','.join(['trading_pair', 'start_date', 'end_date', 'created_date', 'last_updated']) + '\\n'\n",
    "analysis_history_file = os.path.join(analysis_dir_path, 'history.csv')\n",
    "if not os.path.exists(analysis_history_file):\n",
    "    with open(analysis_history_file, 'x') as f:\n",
    "        f.write(history_header)\n",
    "        f.write(','.join([trading_pair, start.isoformat(), end.isoformat(), datetime.datetime.now(tz=cb.LOCAL_TZ).isoformat(), datetime.datetime.now(tz=cb.LOCAL_TZ).isoformat()]) + '\\n')\n",
    "else:\n",
    "    with open(analysis_history_file, 'r') as f:\n",
    "        header = f.readline()\n",
    "        for line in f.readlines():\n",
    "            prev_trading_pair, prev_start_date, prev_end_date, _, _ = line.strip('\\n').split(',')\n",
    "            if prev_trading_pair == trading_pair and prev_start_date == start.isoformat() and prev_end_date == end.isoformat():\n",
    "                DATA_FETCHED = True"
   ]
  },
  {
   "cell_type": "code",
   "execution_count": 7,
   "metadata": {},
   "outputs": [],
   "source": [
    "def fetch_and_upload_data(client: RESTClient, trading_pair: str, start_time: datetime.datetime, end_time: datetime.datetime):\n",
    "    # fetch all market trades between time range and upload to db\n",
    "    market_trades = cb.fetch_market_trades(client, trading_pair, start_time, end_time, cb.CANDLES_LIMIT_MAX)\n",
    "    for market_trade_data in market_trades:\n",
    "        market_trade = MarketTrade(market_trade_data)\n",
    "        dbms.add_item(table_name='market_trade', values=market_trade.get_values())\n",
    "    \n",
    "    # fetch candles between same time range as market trades and upload to db\n",
    "    candles = cb.fetch_market_trade_candles(client, trading_pair, start_time, end_time, cb.CANDLES_LIMIT_MAX)\n",
    "    for candle_data in candles:\n",
    "        candle = Candle(candle_data)\n",
    "        dbms.add_item(table_name='market_candles', values=candle.get_values(market_trade_candle=True))\n",
    "\n",
    "def reset_fetch_data(trading_pair: str, start_time: datetime.datetime, end_time: datetime.datetime):\n",
    "    res = dbms.get_items(\n",
    "        table_name='market_trade', \n",
    "        where_statement=f\"WHERE trading_pair='{trading_pair}' AND time BETWEEN '{start_time.isoformat()}' AND '{end_time.isoformat()}'\"\n",
    "        )\n",
    "    market_trades = [MarketTrade(data) for data in res] \n",
    "    for market_trade in market_trades:\n",
    "        dbms.remove_item(table_name='market_trade', values={'trade_id':market_trade.trade_id})\n",
    "\n",
    "    res = dbms.get_items(\n",
    "        table_name='market_candles',\n",
    "        where_statement=f\"WHERE trading_pair='{trading_pair}' AND time BETWEEN '{start_time.isoformat()}' AND '{end_time.isoformat()}'\"\n",
    "    )\n",
    "    candles = [Candle(data) for data in res]\n",
    "    for candle in candles:\n",
    "        dbms.remove_item(table_name='market_candles', values={'candle_id':candle.candle_id})"
   ]
  },
  {
   "cell_type": "code",
   "execution_count": 8,
   "metadata": {},
   "outputs": [],
   "source": [
    "# reset_fetch_data(trading_pair=trading_pair, start_time=start, end_time=end)\n",
    "if not DATA_FETCHED:\n",
    "    fetch_and_upload_data(trading_pair=trading_pair, start_time=start, end_time=end)"
   ]
  },
  {
   "cell_type": "code",
   "execution_count": 9,
   "metadata": {},
   "outputs": [
    {
     "data": {
      "text/html": [
       "<div>\n",
       "<style scoped>\n",
       "    .dataframe tbody tr th:only-of-type {\n",
       "        vertical-align: middle;\n",
       "    }\n",
       "\n",
       "    .dataframe tbody tr th {\n",
       "        vertical-align: top;\n",
       "    }\n",
       "\n",
       "    .dataframe thead th {\n",
       "        text-align: right;\n",
       "    }\n",
       "</style>\n",
       "<table border=\"1\" class=\"dataframe\">\n",
       "  <thead>\n",
       "    <tr style=\"text-align: right;\">\n",
       "      <th></th>\n",
       "      <th>candle_id</th>\n",
       "      <th>date</th>\n",
       "      <th>start</th>\n",
       "      <th>trading_pair</th>\n",
       "      <th>open</th>\n",
       "      <th>high</th>\n",
       "      <th>low</th>\n",
       "      <th>close</th>\n",
       "      <th>volume</th>\n",
       "      <th>timestamp</th>\n",
       "      <th>time</th>\n",
       "      <th>hour</th>\n",
       "      <th>minute</th>\n",
       "    </tr>\n",
       "  </thead>\n",
       "  <tbody>\n",
       "    <tr>\n",
       "      <th>66</th>\n",
       "      <td>SWELL-1739179800</td>\n",
       "      <td>2025-02-10 01:30:00-08:00</td>\n",
       "      <td>1739179800</td>\n",
       "      <td>SWELL-USD</td>\n",
       "      <td>0.01171</td>\n",
       "      <td>0.01172</td>\n",
       "      <td>0.01168</td>\n",
       "      <td>0.01172</td>\n",
       "      <td>12935.0</td>\n",
       "      <td>1.739180e+09</td>\n",
       "      <td>01:30:00</td>\n",
       "      <td>1</td>\n",
       "      <td>30</td>\n",
       "    </tr>\n",
       "    <tr>\n",
       "      <th>65</th>\n",
       "      <td>SWELL-1739179980</td>\n",
       "      <td>2025-02-10 01:33:00-08:00</td>\n",
       "      <td>1739179980</td>\n",
       "      <td>SWELL-USD</td>\n",
       "      <td>0.01173</td>\n",
       "      <td>0.01178</td>\n",
       "      <td>0.01172</td>\n",
       "      <td>0.01176</td>\n",
       "      <td>94445.0</td>\n",
       "      <td>1.739180e+09</td>\n",
       "      <td>01:33:00</td>\n",
       "      <td>1</td>\n",
       "      <td>33</td>\n",
       "    </tr>\n",
       "    <tr>\n",
       "      <th>64</th>\n",
       "      <td>SWELL-1739180220</td>\n",
       "      <td>2025-02-10 01:37:00-08:00</td>\n",
       "      <td>1739180220</td>\n",
       "      <td>SWELL-USD</td>\n",
       "      <td>0.01166</td>\n",
       "      <td>0.01166</td>\n",
       "      <td>0.01164</td>\n",
       "      <td>0.01164</td>\n",
       "      <td>149042.0</td>\n",
       "      <td>1.739180e+09</td>\n",
       "      <td>01:37:00</td>\n",
       "      <td>1</td>\n",
       "      <td>37</td>\n",
       "    </tr>\n",
       "    <tr>\n",
       "      <th>63</th>\n",
       "      <td>SWELL-1739180760</td>\n",
       "      <td>2025-02-10 01:46:00-08:00</td>\n",
       "      <td>1739180760</td>\n",
       "      <td>SWELL-USD</td>\n",
       "      <td>0.01173</td>\n",
       "      <td>0.01186</td>\n",
       "      <td>0.01173</td>\n",
       "      <td>0.01180</td>\n",
       "      <td>94002.0</td>\n",
       "      <td>1.739181e+09</td>\n",
       "      <td>01:46:00</td>\n",
       "      <td>1</td>\n",
       "      <td>46</td>\n",
       "    </tr>\n",
       "    <tr>\n",
       "      <th>62</th>\n",
       "      <td>SWELL-1739181060</td>\n",
       "      <td>2025-02-10 01:51:00-08:00</td>\n",
       "      <td>1739181060</td>\n",
       "      <td>SWELL-USD</td>\n",
       "      <td>0.01176</td>\n",
       "      <td>0.01176</td>\n",
       "      <td>0.01173</td>\n",
       "      <td>0.01176</td>\n",
       "      <td>43982.0</td>\n",
       "      <td>1.739181e+09</td>\n",
       "      <td>01:51:00</td>\n",
       "      <td>1</td>\n",
       "      <td>51</td>\n",
       "    </tr>\n",
       "  </tbody>\n",
       "</table>\n",
       "</div>"
      ],
      "text/plain": [
       "           candle_id                      date       start trading_pair  \\\n",
       "66  SWELL-1739179800 2025-02-10 01:30:00-08:00  1739179800    SWELL-USD   \n",
       "65  SWELL-1739179980 2025-02-10 01:33:00-08:00  1739179980    SWELL-USD   \n",
       "64  SWELL-1739180220 2025-02-10 01:37:00-08:00  1739180220    SWELL-USD   \n",
       "63  SWELL-1739180760 2025-02-10 01:46:00-08:00  1739180760    SWELL-USD   \n",
       "62  SWELL-1739181060 2025-02-10 01:51:00-08:00  1739181060    SWELL-USD   \n",
       "\n",
       "       open     high      low    close    volume     timestamp      time  \\\n",
       "66  0.01171  0.01172  0.01168  0.01172   12935.0  1.739180e+09  01:30:00   \n",
       "65  0.01173  0.01178  0.01172  0.01176   94445.0  1.739180e+09  01:33:00   \n",
       "64  0.01166  0.01166  0.01164  0.01164  149042.0  1.739180e+09  01:37:00   \n",
       "63  0.01173  0.01186  0.01173  0.01180   94002.0  1.739181e+09  01:46:00   \n",
       "62  0.01176  0.01176  0.01173  0.01176   43982.0  1.739181e+09  01:51:00   \n",
       "\n",
       "    hour  minute  \n",
       "66     1      30  \n",
       "65     1      33  \n",
       "64     1      37  \n",
       "63     1      46  \n",
       "62     1      51  "
      ]
     },
     "execution_count": 9,
     "metadata": {},
     "output_type": "execute_result"
    }
   ],
   "source": [
    "res = dbms.get_items( \n",
    "    table_name='market_candles', \n",
    "    where_statement=f\"WHERE trading_pair='{trading_pair}' AND time BETWEEN '{start.isoformat()}' AND '{end.isoformat()}'\")\n",
    "market_candles = [Candle(candle) for candle in res]\n",
    "\n",
    "df_candles = pd.DataFrame(data=[candle.to_dict() for candle in market_candles])\n",
    "df_candles['timestamp'] = df_candles['date'].transform(lambda x: x.timestamp())\n",
    "df_candles['time'] = df_candles['date'].transform(lambda x: x.strftime('%H:%M:%S'))\n",
    "df_candles['hour'] = df_candles['date'].transform(lambda x: x.hour)\n",
    "df_candles['minute'] = df_candles['date'].transform(lambda x: x.minute)\n",
    "df_candles.sort_values(by='date', inplace=True)\n",
    "df_candles.dtypes\n",
    "df_candles.head()"
   ]
  },
  {
   "cell_type": "code",
   "execution_count": 10,
   "metadata": {},
   "outputs": [
    {
     "data": {
      "text/html": [
       "<div>\n",
       "<style scoped>\n",
       "    .dataframe tbody tr th:only-of-type {\n",
       "        vertical-align: middle;\n",
       "    }\n",
       "\n",
       "    .dataframe tbody tr th {\n",
       "        vertical-align: top;\n",
       "    }\n",
       "\n",
       "    .dataframe thead th {\n",
       "        text-align: right;\n",
       "    }\n",
       "</style>\n",
       "<table border=\"1\" class=\"dataframe\">\n",
       "  <thead>\n",
       "    <tr style=\"text-align: right;\">\n",
       "      <th></th>\n",
       "      <th>trade_id</th>\n",
       "      <th>trading_pair</th>\n",
       "      <th>price</th>\n",
       "      <th>size</th>\n",
       "      <th>time</th>\n",
       "      <th>side</th>\n",
       "      <th>bid</th>\n",
       "      <th>ask</th>\n",
       "      <th>exchange</th>\n",
       "      <th>total</th>\n",
       "      <th>date</th>\n",
       "      <th>timestamp</th>\n",
       "      <th>hour</th>\n",
       "      <th>minute</th>\n",
       "      <th>second</th>\n",
       "    </tr>\n",
       "  </thead>\n",
       "  <tbody>\n",
       "    <tr>\n",
       "      <th>0</th>\n",
       "      <td>1135065</td>\n",
       "      <td>SWELL-USD</td>\n",
       "      <td>0.01194</td>\n",
       "      <td>6678.0</td>\n",
       "      <td>01:58:25</td>\n",
       "      <td>BUY</td>\n",
       "      <td>0.0</td>\n",
       "      <td>0.0</td>\n",
       "      <td>UKNOWN_EXCHANGE</td>\n",
       "      <td>79.73532</td>\n",
       "      <td>2025-02-10 01:58:25.908019-08:00</td>\n",
       "      <td>1.739182e+09</td>\n",
       "      <td>1</td>\n",
       "      <td>58</td>\n",
       "      <td>25</td>\n",
       "    </tr>\n",
       "    <tr>\n",
       "      <th>1</th>\n",
       "      <td>1135064</td>\n",
       "      <td>SWELL-USD</td>\n",
       "      <td>0.01200</td>\n",
       "      <td>9414.0</td>\n",
       "      <td>01:58:25</td>\n",
       "      <td>BUY</td>\n",
       "      <td>0.0</td>\n",
       "      <td>0.0</td>\n",
       "      <td>UKNOWN_EXCHANGE</td>\n",
       "      <td>112.96800</td>\n",
       "      <td>2025-02-10 01:58:25.737970-08:00</td>\n",
       "      <td>1.739182e+09</td>\n",
       "      <td>1</td>\n",
       "      <td>58</td>\n",
       "      <td>25</td>\n",
       "    </tr>\n",
       "    <tr>\n",
       "      <th>2</th>\n",
       "      <td>1135062</td>\n",
       "      <td>SWELL-USD</td>\n",
       "      <td>0.01203</td>\n",
       "      <td>9414.0</td>\n",
       "      <td>01:58:25</td>\n",
       "      <td>BUY</td>\n",
       "      <td>0.0</td>\n",
       "      <td>0.0</td>\n",
       "      <td>UKNOWN_EXCHANGE</td>\n",
       "      <td>113.25042</td>\n",
       "      <td>2025-02-10 01:58:25.732422-08:00</td>\n",
       "      <td>1.739182e+09</td>\n",
       "      <td>1</td>\n",
       "      <td>58</td>\n",
       "      <td>25</td>\n",
       "    </tr>\n",
       "    <tr>\n",
       "      <th>3</th>\n",
       "      <td>1135063</td>\n",
       "      <td>SWELL-USD</td>\n",
       "      <td>0.01200</td>\n",
       "      <td>12552.0</td>\n",
       "      <td>01:58:25</td>\n",
       "      <td>BUY</td>\n",
       "      <td>0.0</td>\n",
       "      <td>0.0</td>\n",
       "      <td>UKNOWN_EXCHANGE</td>\n",
       "      <td>150.62400</td>\n",
       "      <td>2025-02-10 01:58:25.732422-08:00</td>\n",
       "      <td>1.739182e+09</td>\n",
       "      <td>1</td>\n",
       "      <td>58</td>\n",
       "      <td>25</td>\n",
       "    </tr>\n",
       "    <tr>\n",
       "      <th>4</th>\n",
       "      <td>1135060</td>\n",
       "      <td>SWELL-USD</td>\n",
       "      <td>0.01199</td>\n",
       "      <td>767.0</td>\n",
       "      <td>01:58:25</td>\n",
       "      <td>SELL</td>\n",
       "      <td>0.0</td>\n",
       "      <td>0.0</td>\n",
       "      <td>UKNOWN_EXCHANGE</td>\n",
       "      <td>-9.19633</td>\n",
       "      <td>2025-02-10 01:58:25.647777-08:00</td>\n",
       "      <td>1.739182e+09</td>\n",
       "      <td>1</td>\n",
       "      <td>58</td>\n",
       "      <td>25</td>\n",
       "    </tr>\n",
       "  </tbody>\n",
       "</table>\n",
       "</div>"
      ],
      "text/plain": [
       "  trade_id trading_pair    price     size      time  side  bid  ask  \\\n",
       "0  1135065    SWELL-USD  0.01194   6678.0  01:58:25   BUY  0.0  0.0   \n",
       "1  1135064    SWELL-USD  0.01200   9414.0  01:58:25   BUY  0.0  0.0   \n",
       "2  1135062    SWELL-USD  0.01203   9414.0  01:58:25   BUY  0.0  0.0   \n",
       "3  1135063    SWELL-USD  0.01200  12552.0  01:58:25   BUY  0.0  0.0   \n",
       "4  1135060    SWELL-USD  0.01199    767.0  01:58:25  SELL  0.0  0.0   \n",
       "\n",
       "          exchange      total                             date     timestamp  \\\n",
       "0  UKNOWN_EXCHANGE   79.73532 2025-02-10 01:58:25.908019-08:00  1.739182e+09   \n",
       "1  UKNOWN_EXCHANGE  112.96800 2025-02-10 01:58:25.737970-08:00  1.739182e+09   \n",
       "2  UKNOWN_EXCHANGE  113.25042 2025-02-10 01:58:25.732422-08:00  1.739182e+09   \n",
       "3  UKNOWN_EXCHANGE  150.62400 2025-02-10 01:58:25.732422-08:00  1.739182e+09   \n",
       "4  UKNOWN_EXCHANGE   -9.19633 2025-02-10 01:58:25.647777-08:00  1.739182e+09   \n",
       "\n",
       "   hour  minute  second  \n",
       "0     1      58      25  \n",
       "1     1      58      25  \n",
       "2     1      58      25  \n",
       "3     1      58      25  \n",
       "4     1      58      25  "
      ]
     },
     "execution_count": 10,
     "metadata": {},
     "output_type": "execute_result"
    }
   ],
   "source": [
    "res = dbms.get_items(\n",
    "    table_name='market_trade',\n",
    "    where_statement=f\"WHERE trading_pair='{trading_pair}' AND time >= '{start.isoformat()}'\")\n",
    "market_trades = [MarketTrade(trade) for trade in res]\n",
    "market_trade_data = []\n",
    "for market_trade in market_trades:\n",
    "    data = market_trade.to_dict()\n",
    "    data['total'] = market_trade.total\n",
    "    market_trade_data.append(data)\n",
    "\n",
    "df_trades = pd.DataFrame(data=market_trade_data)\n",
    "df_trades['date'] = df_trades['time']\n",
    "df_trades['timestamp'] = df_trades['date'].transform(lambda x: x.timestamp())\n",
    "df_trades['time'] = df_trades['date'].transform(lambda x: x.strftime('%H:%M:%S'))\n",
    "df_trades['hour'] = df_trades['date'].transform(lambda x: x.hour)\n",
    "df_trades['minute'] = df_trades['date'].transform(lambda x: x.minute)\n",
    "df_trades['second'] = df_trades['date'].transform(lambda x: x.second)\n",
    "df_trades.head()"
   ]
  },
  {
   "cell_type": "code",
   "execution_count": 11,
   "metadata": {},
   "outputs": [],
   "source": [
    "fig_height = 550\n",
    "fig_width = 850"
   ]
  },
  {
   "cell_type": "code",
   "execution_count": 12,
   "metadata": {},
   "outputs": [
    {
     "data": {
      "application/vnd.plotly.v1+json": {
       "config": {
        "plotlyServerURL": "https://plot.ly"
       },
       "data": [
        {
         "close": {
          "bdata": "G0esxacAiD+EKjV7oBWIP0mAmlq21oc/7Q2+MJkqiD+EKjV7oBWIP40o7Q2+MIk/B/AWSFD8iD+qfToeM1CJP8RfkzXqIYo/HF97ZkmAij+JtfgUAOOJP33Qs1n1uYo/KdAn8iTpij9TliGOdXGLP68I/reSHYs/hc5r7BLViz9GsdzSakiMP3npJjEIrIw/IjfDDfj8kD+P39v0Zz+SP1Ou8C4X8Y0/j+TyH9Jvjz8VHcnlP6SPPxkEVg4tso0/96+sNCkFjT9gkzXqIRqNP7wFEhQ/xow/7rH0oQvqiz+WsgxxrIuLP83pspjYfIw/TyMtlbcjjD8QBp57D5eMP8l2vp8aL40/1VsDWyVYjD8xzt+EQgSMP5qxaDo7GYw/7rH0oQvqiz8UeZJ0zeSLPzHO34RCBIw/yOpWz0nviz/VWwNbJViMP31cGyrG+Ys/Ieo+AKlNjD8pXI/C9SiMP6ciFcYWgow/+yKhLedSjD/AeAYN/ROMP6MjufyH9Is/fVwbKsb5iz8UeZJ0zeSLP8jqVs9J74s/oyO5/If0iz/I6lbPSe+LP0ax3NJqSIw/TyMtlbcjjD+nIhXGFoKMP0ax3NJqSIw/Mc7fhEIEjD8h6j4AqU2MP7gGtkqwOIw/DAdCsoAJjD8h6j4AqU2MP08jLZW3I4w/dOrKZ3kejD/mP6Tfvg6MP5I/GHjuPYw/FHmSdM3kiz8=",
          "dtype": "f8"
         },
         "high": {
          "bdata": "G0esxacAiD85nPnVHCCIP/7xXrUy4Yc/C2MLQQ5KiD+EKjV7oBWIP40o7Q2+MIk/s++K4H8riT/htOBFX0GKP/Ik6ZrJN4s/HF97ZkmAij8HfH4YITyKP33Qs1n1uYo/rwj+t5Idiz9TliGOdXGLP45AvK5fsIs/hc5r7BLViz9GsdzSakiMP3npJjEIrIw/P4wQHm0ckT8730+Nl26SP/iImBJJ9JI/uarsuyL4jz+kqgmi7gOQP2kdVU0QdY8/0XR2MjhKjj8ZBFYOLbKNP3EDPj+MEI4/Qj7o2az6jD/3r6w0KQWNP83pspjYfIw/xHdi1ouhjD8QBp57D5eMP8l2vp8aL40/feiC+pY5jT9TIoleRrGMP/sioS3nUow/RrHc0mpIjD8pXI/C9SiMP7gGtkqwOIw/bHh6pSxDjD+Kzce1oWKMP/KwUGuad4w/Ieo+AKlNjD9GsdzSakiMP6ciFcYWgow/pyIVxhaCjD9GsdzSakiMP/sioS3nUow/3c1THXIzjD+asWg6OxmMPzHO34RCBIw/A5Xx7zMujD/AeAYN/ROMP0ax3NJqSIw/bHh6pSxDjD+BW3fzVIeMP2QGKuPfZ4w/KVyPwvUojD/7IqEt51KMPyHqPgCpTYw/uAa2SrA4jD8h6j4AqU2MP93NUx1yM4w/bHh6pSxDjD+SPxh47j2MP/sioS3nUow/bHh6pSxDjD8=",
          "dtype": "f8"
         },
         "low": {
          "bdata": "smMjEK/rhz8bR6zFpwCIP0mAmlq21oc/9n8O8+UFiD/2fw7z5QWIP5UO1v85zIc/NSkF3V7SiD89m1Wfq62IP2dhTzv8NYk/D+7O2m0Xij+JtfgUAOOJP+Un1T4dj4k/yF7v/nivij90XmOXqN6KP/uWOV0WE4s/lrIMcayLiz+FzmvsEtWLP+6x9KEL6os/pyIVxhaCjD8Z/z7jwoGQP1Ou8C4X8Y0/ilkvhnKijT82WaMeotGNP0uwOJz51Yw/kj8YeO49jD+vlGWIY12MP0KygAncuos//5WVJqWgiz9bCHJQwkyLP31cGyrG+Ys/aHke3J21iz/mP6Tfvg6MP0ax3NJqSIw/1VsDWyVYjD+jI7n8h/SLP9nO91PjpYs/7rH0oQvqiz9fB84ZUdqLPxR5knTN5Is/QrKACdy6iz99XBsqxvmLP31cGyrG+Ys/wHgGDf0TjD9fB84ZUdqLP93NUx1yM4w/XwfOGVHaiz/mP6Tfvg6MP8jqVs9J74s/7rH0oQvqiz86QDBHj9+LP6uVCb/Uz4s/yOpWz0nviz+rlQm/1M+LP1eVfVcE/4s/dOrKZ3kejD/VWwNbJViMP5qxaDo7GYw/OkAwR4/fiz8pXI/C9SiMP1eVfVcE/4s/DAdCsoAJjD8xzt+EQgSMP8B4Bg39E4w/oyO5/If0iz8MB0KygAmMP08jLZW3I4w/FHmSdM3kiz8=",
          "dtype": "f8"
         },
         "open": {
          "bdata": "QQ5KmGn7hz/2fw7z5QWIP/7xXrUy4Yc/9n8O8+UFiD+EKjV7oBWIP2fV52or9oc/2LYos0EmiT81KQXdXtKIP6p9Oh4zUIk/npj1Yignij8HfH4YITyKP4m1+BQA44k/fdCzWfW5ij8DCYofY+6KP4HPDyOER4s/lrIMcayLiz+FzmvsEtWLP2QGKuPfZ4w/Ns07TtGRjD9+qZ83FamQP4ums5PBUZI/gufewyXHjT+XVkPiHkuPP2kdVU0QdY8/AK5kx0Ygjj8l6ZrJN9uMP2CTNeohGo0/A5Xx7zMujD+fsMQDyqaMP1eVfVcE/4s/EAaeew+XjD8DlfHvMy6MP0ax3NJqSIw/vAUSFD/GjD8QBp57D5eMPzHO34RCBIw/A5Xx7zMujD/usfShC+qLPxR5knTN5Is/dOrKZ3kejD99XBsqxvmLP4rNx7WhYow/TyMtlbcjjD9GsdzSakiMPyHqPgCpTYw/pyIVxhaCjD+asWg6OxmMPwOV8e8zLow/Mc7fhEIEjD/AeAYN/ROMPxR5knTN5Is/Mc7fhEIEjD9XlX1XBP+LPwwHQrKACYw/bHh6pSxDjD/VWwNbJViMP4rNx7WhYow/KVyPwvUojD8pXI/C9SiMP7gGtkqwOIw/wHgGDf0TjD+asWg6OxmMP93NUx1yM4w/bHh6pSxDjD906spneR6MP08jLZW3I4w/kj8YeO49jD8=",
          "dtype": "f8"
         },
         "type": "candlestick",
         "x": [
          "2025-02-10T01:30:00-08:00",
          "2025-02-10T01:33:00-08:00",
          "2025-02-10T01:37:00-08:00",
          "2025-02-10T01:46:00-08:00",
          "2025-02-10T01:51:00-08:00",
          "2025-02-10T01:52:00-08:00",
          "2025-02-10T01:58:00-08:00",
          "2025-02-10T01:59:00-08:00",
          "2025-02-10T02:00:00-08:00",
          "2025-02-10T02:01:00-08:00",
          "2025-02-10T02:02:00-08:00",
          "2025-02-10T02:03:00-08:00",
          "2025-02-10T02:05:00-08:00",
          "2025-02-10T02:06:00-08:00",
          "2025-02-10T02:07:00-08:00",
          "2025-02-10T02:08:00-08:00",
          "2025-02-10T02:09:00-08:00",
          "2025-02-10T02:10:00-08:00",
          "2025-02-10T02:11:00-08:00",
          "2025-02-10T02:12:00-08:00",
          "2025-02-10T02:13:00-08:00",
          "2025-02-10T02:14:00-08:00",
          "2025-02-10T02:15:00-08:00",
          "2025-02-10T02:16:00-08:00",
          "2025-02-10T02:17:00-08:00",
          "2025-02-10T02:18:00-08:00",
          "2025-02-10T02:19:00-08:00",
          "2025-02-10T02:20:00-08:00",
          "2025-02-10T02:21:00-08:00",
          "2025-02-10T02:22:00-08:00",
          "2025-02-10T02:23:00-08:00",
          "2025-02-10T02:24:00-08:00",
          "2025-02-10T02:25:00-08:00",
          "2025-02-10T02:26:00-08:00",
          "2025-02-10T02:27:00-08:00",
          "2025-02-10T02:28:00-08:00",
          "2025-02-10T02:29:00-08:00",
          "2025-02-10T02:30:00-08:00",
          "2025-02-10T02:31:00-08:00",
          "2025-02-10T02:32:00-08:00",
          "2025-02-10T02:33:00-08:00",
          "2025-02-10T02:34:00-08:00",
          "2025-02-10T02:35:00-08:00",
          "2025-02-10T02:36:00-08:00",
          "2025-02-10T02:37:00-08:00",
          "2025-02-10T02:38:00-08:00",
          "2025-02-10T02:39:00-08:00",
          "2025-02-10T02:41:00-08:00",
          "2025-02-10T02:42:00-08:00",
          "2025-02-10T02:43:00-08:00",
          "2025-02-10T02:44:00-08:00",
          "2025-02-10T02:45:00-08:00",
          "2025-02-10T02:46:00-08:00",
          "2025-02-10T02:47:00-08:00",
          "2025-02-10T02:48:00-08:00",
          "2025-02-10T02:49:00-08:00",
          "2025-02-10T02:50:00-08:00",
          "2025-02-10T02:51:00-08:00",
          "2025-02-10T02:52:00-08:00",
          "2025-02-10T02:53:00-08:00",
          "2025-02-10T02:54:00-08:00",
          "2025-02-10T02:55:00-08:00",
          "2025-02-10T02:56:00-08:00",
          "2025-02-10T02:57:00-08:00",
          "2025-02-10T02:58:00-08:00",
          "2025-02-10T02:59:00-08:00",
          "2025-02-10T03:00:00-08:00"
         ]
        }
       ],
       "layout": {
        "height": 550,
        "template": {
         "data": {
          "bar": [
           {
            "error_x": {
             "color": "#2a3f5f"
            },
            "error_y": {
             "color": "#2a3f5f"
            },
            "marker": {
             "line": {
              "color": "#E5ECF6",
              "width": 0.5
             },
             "pattern": {
              "fillmode": "overlay",
              "size": 10,
              "solidity": 0.2
             }
            },
            "type": "bar"
           }
          ],
          "barpolar": [
           {
            "marker": {
             "line": {
              "color": "#E5ECF6",
              "width": 0.5
             },
             "pattern": {
              "fillmode": "overlay",
              "size": 10,
              "solidity": 0.2
             }
            },
            "type": "barpolar"
           }
          ],
          "carpet": [
           {
            "aaxis": {
             "endlinecolor": "#2a3f5f",
             "gridcolor": "white",
             "linecolor": "white",
             "minorgridcolor": "white",
             "startlinecolor": "#2a3f5f"
            },
            "baxis": {
             "endlinecolor": "#2a3f5f",
             "gridcolor": "white",
             "linecolor": "white",
             "minorgridcolor": "white",
             "startlinecolor": "#2a3f5f"
            },
            "type": "carpet"
           }
          ],
          "choropleth": [
           {
            "colorbar": {
             "outlinewidth": 0,
             "ticks": ""
            },
            "type": "choropleth"
           }
          ],
          "contour": [
           {
            "colorbar": {
             "outlinewidth": 0,
             "ticks": ""
            },
            "colorscale": [
             [
              0,
              "#0d0887"
             ],
             [
              0.1111111111111111,
              "#46039f"
             ],
             [
              0.2222222222222222,
              "#7201a8"
             ],
             [
              0.3333333333333333,
              "#9c179e"
             ],
             [
              0.4444444444444444,
              "#bd3786"
             ],
             [
              0.5555555555555556,
              "#d8576b"
             ],
             [
              0.6666666666666666,
              "#ed7953"
             ],
             [
              0.7777777777777778,
              "#fb9f3a"
             ],
             [
              0.8888888888888888,
              "#fdca26"
             ],
             [
              1,
              "#f0f921"
             ]
            ],
            "type": "contour"
           }
          ],
          "contourcarpet": [
           {
            "colorbar": {
             "outlinewidth": 0,
             "ticks": ""
            },
            "type": "contourcarpet"
           }
          ],
          "heatmap": [
           {
            "colorbar": {
             "outlinewidth": 0,
             "ticks": ""
            },
            "colorscale": [
             [
              0,
              "#0d0887"
             ],
             [
              0.1111111111111111,
              "#46039f"
             ],
             [
              0.2222222222222222,
              "#7201a8"
             ],
             [
              0.3333333333333333,
              "#9c179e"
             ],
             [
              0.4444444444444444,
              "#bd3786"
             ],
             [
              0.5555555555555556,
              "#d8576b"
             ],
             [
              0.6666666666666666,
              "#ed7953"
             ],
             [
              0.7777777777777778,
              "#fb9f3a"
             ],
             [
              0.8888888888888888,
              "#fdca26"
             ],
             [
              1,
              "#f0f921"
             ]
            ],
            "type": "heatmap"
           }
          ],
          "histogram": [
           {
            "marker": {
             "pattern": {
              "fillmode": "overlay",
              "size": 10,
              "solidity": 0.2
             }
            },
            "type": "histogram"
           }
          ],
          "histogram2d": [
           {
            "colorbar": {
             "outlinewidth": 0,
             "ticks": ""
            },
            "colorscale": [
             [
              0,
              "#0d0887"
             ],
             [
              0.1111111111111111,
              "#46039f"
             ],
             [
              0.2222222222222222,
              "#7201a8"
             ],
             [
              0.3333333333333333,
              "#9c179e"
             ],
             [
              0.4444444444444444,
              "#bd3786"
             ],
             [
              0.5555555555555556,
              "#d8576b"
             ],
             [
              0.6666666666666666,
              "#ed7953"
             ],
             [
              0.7777777777777778,
              "#fb9f3a"
             ],
             [
              0.8888888888888888,
              "#fdca26"
             ],
             [
              1,
              "#f0f921"
             ]
            ],
            "type": "histogram2d"
           }
          ],
          "histogram2dcontour": [
           {
            "colorbar": {
             "outlinewidth": 0,
             "ticks": ""
            },
            "colorscale": [
             [
              0,
              "#0d0887"
             ],
             [
              0.1111111111111111,
              "#46039f"
             ],
             [
              0.2222222222222222,
              "#7201a8"
             ],
             [
              0.3333333333333333,
              "#9c179e"
             ],
             [
              0.4444444444444444,
              "#bd3786"
             ],
             [
              0.5555555555555556,
              "#d8576b"
             ],
             [
              0.6666666666666666,
              "#ed7953"
             ],
             [
              0.7777777777777778,
              "#fb9f3a"
             ],
             [
              0.8888888888888888,
              "#fdca26"
             ],
             [
              1,
              "#f0f921"
             ]
            ],
            "type": "histogram2dcontour"
           }
          ],
          "mesh3d": [
           {
            "colorbar": {
             "outlinewidth": 0,
             "ticks": ""
            },
            "type": "mesh3d"
           }
          ],
          "parcoords": [
           {
            "line": {
             "colorbar": {
              "outlinewidth": 0,
              "ticks": ""
             }
            },
            "type": "parcoords"
           }
          ],
          "pie": [
           {
            "automargin": true,
            "type": "pie"
           }
          ],
          "scatter": [
           {
            "fillpattern": {
             "fillmode": "overlay",
             "size": 10,
             "solidity": 0.2
            },
            "type": "scatter"
           }
          ],
          "scatter3d": [
           {
            "line": {
             "colorbar": {
              "outlinewidth": 0,
              "ticks": ""
             }
            },
            "marker": {
             "colorbar": {
              "outlinewidth": 0,
              "ticks": ""
             }
            },
            "type": "scatter3d"
           }
          ],
          "scattercarpet": [
           {
            "marker": {
             "colorbar": {
              "outlinewidth": 0,
              "ticks": ""
             }
            },
            "type": "scattercarpet"
           }
          ],
          "scattergeo": [
           {
            "marker": {
             "colorbar": {
              "outlinewidth": 0,
              "ticks": ""
             }
            },
            "type": "scattergeo"
           }
          ],
          "scattergl": [
           {
            "marker": {
             "colorbar": {
              "outlinewidth": 0,
              "ticks": ""
             }
            },
            "type": "scattergl"
           }
          ],
          "scattermap": [
           {
            "marker": {
             "colorbar": {
              "outlinewidth": 0,
              "ticks": ""
             }
            },
            "type": "scattermap"
           }
          ],
          "scattermapbox": [
           {
            "marker": {
             "colorbar": {
              "outlinewidth": 0,
              "ticks": ""
             }
            },
            "type": "scattermapbox"
           }
          ],
          "scatterpolar": [
           {
            "marker": {
             "colorbar": {
              "outlinewidth": 0,
              "ticks": ""
             }
            },
            "type": "scatterpolar"
           }
          ],
          "scatterpolargl": [
           {
            "marker": {
             "colorbar": {
              "outlinewidth": 0,
              "ticks": ""
             }
            },
            "type": "scatterpolargl"
           }
          ],
          "scatterternary": [
           {
            "marker": {
             "colorbar": {
              "outlinewidth": 0,
              "ticks": ""
             }
            },
            "type": "scatterternary"
           }
          ],
          "surface": [
           {
            "colorbar": {
             "outlinewidth": 0,
             "ticks": ""
            },
            "colorscale": [
             [
              0,
              "#0d0887"
             ],
             [
              0.1111111111111111,
              "#46039f"
             ],
             [
              0.2222222222222222,
              "#7201a8"
             ],
             [
              0.3333333333333333,
              "#9c179e"
             ],
             [
              0.4444444444444444,
              "#bd3786"
             ],
             [
              0.5555555555555556,
              "#d8576b"
             ],
             [
              0.6666666666666666,
              "#ed7953"
             ],
             [
              0.7777777777777778,
              "#fb9f3a"
             ],
             [
              0.8888888888888888,
              "#fdca26"
             ],
             [
              1,
              "#f0f921"
             ]
            ],
            "type": "surface"
           }
          ],
          "table": [
           {
            "cells": {
             "fill": {
              "color": "#EBF0F8"
             },
             "line": {
              "color": "white"
             }
            },
            "header": {
             "fill": {
              "color": "#C8D4E3"
             },
             "line": {
              "color": "white"
             }
            },
            "type": "table"
           }
          ]
         },
         "layout": {
          "annotationdefaults": {
           "arrowcolor": "#2a3f5f",
           "arrowhead": 0,
           "arrowwidth": 1
          },
          "autotypenumbers": "strict",
          "coloraxis": {
           "colorbar": {
            "outlinewidth": 0,
            "ticks": ""
           }
          },
          "colorscale": {
           "diverging": [
            [
             0,
             "#8e0152"
            ],
            [
             0.1,
             "#c51b7d"
            ],
            [
             0.2,
             "#de77ae"
            ],
            [
             0.3,
             "#f1b6da"
            ],
            [
             0.4,
             "#fde0ef"
            ],
            [
             0.5,
             "#f7f7f7"
            ],
            [
             0.6,
             "#e6f5d0"
            ],
            [
             0.7,
             "#b8e186"
            ],
            [
             0.8,
             "#7fbc41"
            ],
            [
             0.9,
             "#4d9221"
            ],
            [
             1,
             "#276419"
            ]
           ],
           "sequential": [
            [
             0,
             "#0d0887"
            ],
            [
             0.1111111111111111,
             "#46039f"
            ],
            [
             0.2222222222222222,
             "#7201a8"
            ],
            [
             0.3333333333333333,
             "#9c179e"
            ],
            [
             0.4444444444444444,
             "#bd3786"
            ],
            [
             0.5555555555555556,
             "#d8576b"
            ],
            [
             0.6666666666666666,
             "#ed7953"
            ],
            [
             0.7777777777777778,
             "#fb9f3a"
            ],
            [
             0.8888888888888888,
             "#fdca26"
            ],
            [
             1,
             "#f0f921"
            ]
           ],
           "sequentialminus": [
            [
             0,
             "#0d0887"
            ],
            [
             0.1111111111111111,
             "#46039f"
            ],
            [
             0.2222222222222222,
             "#7201a8"
            ],
            [
             0.3333333333333333,
             "#9c179e"
            ],
            [
             0.4444444444444444,
             "#bd3786"
            ],
            [
             0.5555555555555556,
             "#d8576b"
            ],
            [
             0.6666666666666666,
             "#ed7953"
            ],
            [
             0.7777777777777778,
             "#fb9f3a"
            ],
            [
             0.8888888888888888,
             "#fdca26"
            ],
            [
             1,
             "#f0f921"
            ]
           ]
          },
          "colorway": [
           "#636efa",
           "#EF553B",
           "#00cc96",
           "#ab63fa",
           "#FFA15A",
           "#19d3f3",
           "#FF6692",
           "#B6E880",
           "#FF97FF",
           "#FECB52"
          ],
          "font": {
           "color": "#2a3f5f"
          },
          "geo": {
           "bgcolor": "white",
           "lakecolor": "white",
           "landcolor": "#E5ECF6",
           "showlakes": true,
           "showland": true,
           "subunitcolor": "white"
          },
          "hoverlabel": {
           "align": "left"
          },
          "hovermode": "closest",
          "mapbox": {
           "style": "light"
          },
          "paper_bgcolor": "white",
          "plot_bgcolor": "#E5ECF6",
          "polar": {
           "angularaxis": {
            "gridcolor": "white",
            "linecolor": "white",
            "ticks": ""
           },
           "bgcolor": "#E5ECF6",
           "radialaxis": {
            "gridcolor": "white",
            "linecolor": "white",
            "ticks": ""
           }
          },
          "scene": {
           "xaxis": {
            "backgroundcolor": "#E5ECF6",
            "gridcolor": "white",
            "gridwidth": 2,
            "linecolor": "white",
            "showbackground": true,
            "ticks": "",
            "zerolinecolor": "white"
           },
           "yaxis": {
            "backgroundcolor": "#E5ECF6",
            "gridcolor": "white",
            "gridwidth": 2,
            "linecolor": "white",
            "showbackground": true,
            "ticks": "",
            "zerolinecolor": "white"
           },
           "zaxis": {
            "backgroundcolor": "#E5ECF6",
            "gridcolor": "white",
            "gridwidth": 2,
            "linecolor": "white",
            "showbackground": true,
            "ticks": "",
            "zerolinecolor": "white"
           }
          },
          "shapedefaults": {
           "line": {
            "color": "#2a3f5f"
           }
          },
          "ternary": {
           "aaxis": {
            "gridcolor": "white",
            "linecolor": "white",
            "ticks": ""
           },
           "baxis": {
            "gridcolor": "white",
            "linecolor": "white",
            "ticks": ""
           },
           "bgcolor": "#E5ECF6",
           "caxis": {
            "gridcolor": "white",
            "linecolor": "white",
            "ticks": ""
           }
          },
          "title": {
           "x": 0.05
          },
          "xaxis": {
           "automargin": true,
           "gridcolor": "white",
           "linecolor": "white",
           "ticks": "",
           "title": {
            "standoff": 15
           },
           "zerolinecolor": "white",
           "zerolinewidth": 2
          },
          "yaxis": {
           "automargin": true,
           "gridcolor": "white",
           "linecolor": "white",
           "ticks": "",
           "title": {
            "standoff": 15
           },
           "zerolinecolor": "white",
           "zerolinewidth": 2
          }
         }
        },
        "title": {
         "text": "Price Change for SWELL-USD on 02/10/25 between 01:30 and 03:00"
        },
        "width": 850,
        "xaxis": {
         "dtick": 300000,
         "rangeslider": {
          "visible": false
         },
         "title": {
          "text": "Time"
         }
        },
        "yaxis": {
         "title": {
          "text": "Price"
         }
        }
       }
      }
     },
     "metadata": {},
     "output_type": "display_data"
    }
   ],
   "source": [
    "fig_pricechange = go.Figure(\n",
    "    data=[go.Candlestick(\n",
    "        x=df_candles.date,\n",
    "        open=df_candles.open,\n",
    "        high=df_candles.high,\n",
    "        low=df_candles.low,\n",
    "        close=df_candles.close\n",
    ")])\n",
    "fig_pricechange.update_layout(\n",
    "    title=f'Price Change for {trading_pair} on {start.strftime('%m/%d/%y')} between {start.strftime('%H:%M')} and {end.strftime('%H:%M')}',\n",
    "    yaxis=dict(\n",
    "        title=dict(text='Price')\n",
    "    ),\n",
    "    xaxis=dict(\n",
    "        title=dict(text='Time'),\n",
    "        dtick=5*60*1000.0\n",
    "    ),\n",
    "    height=fig_height,\n",
    "    width=fig_width,\n",
    "    xaxis_rangeslider_visible=False)\n",
    "fig_pricechange.show()"
   ]
  },
  {
   "cell_type": "code",
   "execution_count": 13,
   "metadata": {},
   "outputs": [
    {
     "data": {
      "text/html": [
       "<div>\n",
       "<style scoped>\n",
       "    .dataframe tbody tr th:only-of-type {\n",
       "        vertical-align: middle;\n",
       "    }\n",
       "\n",
       "    .dataframe tbody tr th {\n",
       "        vertical-align: top;\n",
       "    }\n",
       "\n",
       "    .dataframe thead th {\n",
       "        text-align: right;\n",
       "    }\n",
       "</style>\n",
       "<table border=\"1\" class=\"dataframe\">\n",
       "  <thead>\n",
       "    <tr style=\"text-align: right;\">\n",
       "      <th></th>\n",
       "      <th>hm_time</th>\n",
       "      <th>side</th>\n",
       "      <th>counts</th>\n",
       "    </tr>\n",
       "  </thead>\n",
       "  <tbody>\n",
       "    <tr>\n",
       "      <th>0</th>\n",
       "      <td>01:30:00</td>\n",
       "      <td>BUY</td>\n",
       "      <td>1</td>\n",
       "    </tr>\n",
       "    <tr>\n",
       "      <th>1</th>\n",
       "      <td>01:30:00</td>\n",
       "      <td>SELL</td>\n",
       "      <td>1</td>\n",
       "    </tr>\n",
       "    <tr>\n",
       "      <th>2</th>\n",
       "      <td>01:32:00</td>\n",
       "      <td>SELL</td>\n",
       "      <td>2</td>\n",
       "    </tr>\n",
       "    <tr>\n",
       "      <th>3</th>\n",
       "      <td>01:33:00</td>\n",
       "      <td>SELL</td>\n",
       "      <td>4</td>\n",
       "    </tr>\n",
       "    <tr>\n",
       "      <th>4</th>\n",
       "      <td>01:36:00</td>\n",
       "      <td>SELL</td>\n",
       "      <td>4</td>\n",
       "    </tr>\n",
       "  </tbody>\n",
       "</table>\n",
       "</div>"
      ],
      "text/plain": [
       "    hm_time  side  counts\n",
       "0  01:30:00   BUY       1\n",
       "1  01:30:00  SELL       1\n",
       "2  01:32:00  SELL       2\n",
       "3  01:33:00  SELL       4\n",
       "4  01:36:00  SELL       4"
      ]
     },
     "execution_count": 13,
     "metadata": {},
     "output_type": "execute_result"
    }
   ],
   "source": [
    "df_trades['hm_time'] = df_trades['date'].transform(lambda x:datetime.time(hour=x.hour, minute=x.minute))\n",
    "df_trade_counts = df_trades.groupby(['hm_time', 'side'], as_index=False)['trade_id'].count()\n",
    "df_trade_counts.rename(columns={'trade_id':'counts'}, inplace=True)\n",
    "df_trade_counts.head()"
   ]
  },
  {
   "cell_type": "code",
   "execution_count": 14,
   "metadata": {},
   "outputs": [
    {
     "data": {
      "application/vnd.plotly.v1+json": {
       "config": {
        "plotlyServerURL": "https://plot.ly"
       },
       "data": [
        {
         "hovertemplate": "side=BUY<br>hm_time=%{x}<br>counts=%{y}<extra></extra>",
         "legendgroup": "BUY",
         "marker": {
          "color": "#636efa",
          "pattern": {
           "shape": ""
          }
         },
         "name": "BUY",
         "orientation": "v",
         "showlegend": true,
         "textposition": "auto",
         "type": "bar",
         "x": [
          "01:30:00",
          "01:37:00",
          "01:45:00",
          "01:51:00",
          "01:52:00",
          "01:58:00",
          "01:59:00",
          "02:00:00",
          "02:01:00",
          "02:02:00",
          "02:03:00",
          "02:05:00",
          "02:06:00",
          "02:07:00",
          "02:08:00",
          "02:09:00",
          "02:10:00",
          "02:11:00",
          "02:12:00",
          "02:13:00",
          "02:14:00",
          "02:15:00",
          "02:16:00",
          "02:17:00",
          "02:18:00",
          "02:19:00",
          "02:20:00",
          "02:21:00",
          "02:22:00",
          "02:23:00",
          "02:24:00",
          "02:25:00",
          "02:26:00",
          "02:27:00",
          "02:28:00",
          "02:29:00",
          "02:30:00",
          "02:31:00",
          "02:32:00",
          "02:33:00",
          "02:34:00",
          "02:35:00",
          "02:36:00",
          "02:37:00",
          "02:38:00",
          "02:39:00",
          "02:41:00",
          "02:42:00",
          "02:43:00",
          "02:44:00",
          "02:45:00",
          "02:46:00",
          "02:47:00",
          "02:48:00",
          "02:50:00",
          "02:51:00",
          "02:52:00",
          "02:53:00",
          "02:54:00",
          "02:55:00",
          "02:56:00",
          "02:58:00",
          "02:59:00"
         ],
         "xaxis": "x",
         "y": {
          "bdata": "AQABAAUACgAKADAAYgA1AD4AFgARABYAEwAMAAkABwAeAJAATABvADUARgBCAIUAMABVAA8AEQA7AHgAHgAQAK4BnABGAAkAnwB9AEkAGgAoABUAJAABADAABgAXAAYABwACAAgACAAJAAEACAALAAEAAwAIAAsABgAIAAYA",
          "dtype": "i2"
         },
         "yaxis": "y"
        },
        {
         "hovertemplate": "side=SELL<br>hm_time=%{x}<br>counts=%{y}<extra></extra>",
         "legendgroup": "SELL",
         "marker": {
          "color": "#EF553B",
          "pattern": {
           "shape": ""
          }
         },
         "name": "SELL",
         "orientation": "v",
         "showlegend": true,
         "textposition": "auto",
         "type": "bar",
         "x": [
          "01:30:00",
          "01:32:00",
          "01:33:00",
          "01:36:00",
          "01:46:00",
          "01:51:00",
          "01:52:00",
          "01:58:00",
          "01:59:00",
          "02:00:00",
          "02:02:00",
          "02:03:00",
          "02:05:00",
          "02:06:00",
          "02:07:00",
          "02:08:00",
          "02:09:00",
          "02:10:00",
          "02:11:00",
          "02:12:00",
          "02:13:00",
          "02:14:00",
          "02:15:00",
          "02:16:00",
          "02:17:00",
          "02:18:00",
          "02:19:00",
          "02:20:00",
          "02:21:00",
          "02:22:00",
          "02:23:00",
          "02:24:00",
          "02:25:00",
          "02:26:00",
          "02:27:00",
          "02:28:00",
          "02:29:00",
          "02:30:00",
          "02:31:00",
          "02:32:00",
          "02:33:00",
          "02:34:00",
          "02:35:00",
          "02:36:00",
          "02:37:00",
          "02:38:00",
          "02:39:00",
          "02:41:00",
          "02:42:00",
          "02:43:00",
          "02:44:00",
          "02:45:00",
          "02:46:00",
          "02:47:00",
          "02:48:00",
          "02:49:00",
          "02:50:00",
          "02:51:00",
          "02:52:00",
          "02:53:00",
          "02:54:00",
          "02:55:00",
          "02:56:00",
          "02:57:00",
          "02:58:00",
          "02:59:00"
         ],
         "xaxis": "x",
         "y": {
          "bdata": "AQACAAQABAABAAQABAA0AE8AOAADAAMAHgAIAAoABAAMAB0AxgD0AFoAQgBbAIcARAAuABgAHAAbADsAJAALABsALAAmABYABwAOAAwAJAAVABAABgACAAkAAgABAAMACAAEAAUAEgAIAAQAFQAFAAUAAQAEABAACQABAAcAAQANAAkA",
          "dtype": "i2"
         },
         "yaxis": "y"
        }
       ],
       "layout": {
        "barmode": "relative",
        "height": 550,
        "legend": {
         "title": {
          "text": "side"
         },
         "tracegroupgap": 0
        },
        "margin": {
         "t": 60
        },
        "template": {
         "data": {
          "bar": [
           {
            "error_x": {
             "color": "#2a3f5f"
            },
            "error_y": {
             "color": "#2a3f5f"
            },
            "marker": {
             "line": {
              "color": "#E5ECF6",
              "width": 0.5
             },
             "pattern": {
              "fillmode": "overlay",
              "size": 10,
              "solidity": 0.2
             }
            },
            "type": "bar"
           }
          ],
          "barpolar": [
           {
            "marker": {
             "line": {
              "color": "#E5ECF6",
              "width": 0.5
             },
             "pattern": {
              "fillmode": "overlay",
              "size": 10,
              "solidity": 0.2
             }
            },
            "type": "barpolar"
           }
          ],
          "carpet": [
           {
            "aaxis": {
             "endlinecolor": "#2a3f5f",
             "gridcolor": "white",
             "linecolor": "white",
             "minorgridcolor": "white",
             "startlinecolor": "#2a3f5f"
            },
            "baxis": {
             "endlinecolor": "#2a3f5f",
             "gridcolor": "white",
             "linecolor": "white",
             "minorgridcolor": "white",
             "startlinecolor": "#2a3f5f"
            },
            "type": "carpet"
           }
          ],
          "choropleth": [
           {
            "colorbar": {
             "outlinewidth": 0,
             "ticks": ""
            },
            "type": "choropleth"
           }
          ],
          "contour": [
           {
            "colorbar": {
             "outlinewidth": 0,
             "ticks": ""
            },
            "colorscale": [
             [
              0,
              "#0d0887"
             ],
             [
              0.1111111111111111,
              "#46039f"
             ],
             [
              0.2222222222222222,
              "#7201a8"
             ],
             [
              0.3333333333333333,
              "#9c179e"
             ],
             [
              0.4444444444444444,
              "#bd3786"
             ],
             [
              0.5555555555555556,
              "#d8576b"
             ],
             [
              0.6666666666666666,
              "#ed7953"
             ],
             [
              0.7777777777777778,
              "#fb9f3a"
             ],
             [
              0.8888888888888888,
              "#fdca26"
             ],
             [
              1,
              "#f0f921"
             ]
            ],
            "type": "contour"
           }
          ],
          "contourcarpet": [
           {
            "colorbar": {
             "outlinewidth": 0,
             "ticks": ""
            },
            "type": "contourcarpet"
           }
          ],
          "heatmap": [
           {
            "colorbar": {
             "outlinewidth": 0,
             "ticks": ""
            },
            "colorscale": [
             [
              0,
              "#0d0887"
             ],
             [
              0.1111111111111111,
              "#46039f"
             ],
             [
              0.2222222222222222,
              "#7201a8"
             ],
             [
              0.3333333333333333,
              "#9c179e"
             ],
             [
              0.4444444444444444,
              "#bd3786"
             ],
             [
              0.5555555555555556,
              "#d8576b"
             ],
             [
              0.6666666666666666,
              "#ed7953"
             ],
             [
              0.7777777777777778,
              "#fb9f3a"
             ],
             [
              0.8888888888888888,
              "#fdca26"
             ],
             [
              1,
              "#f0f921"
             ]
            ],
            "type": "heatmap"
           }
          ],
          "histogram": [
           {
            "marker": {
             "pattern": {
              "fillmode": "overlay",
              "size": 10,
              "solidity": 0.2
             }
            },
            "type": "histogram"
           }
          ],
          "histogram2d": [
           {
            "colorbar": {
             "outlinewidth": 0,
             "ticks": ""
            },
            "colorscale": [
             [
              0,
              "#0d0887"
             ],
             [
              0.1111111111111111,
              "#46039f"
             ],
             [
              0.2222222222222222,
              "#7201a8"
             ],
             [
              0.3333333333333333,
              "#9c179e"
             ],
             [
              0.4444444444444444,
              "#bd3786"
             ],
             [
              0.5555555555555556,
              "#d8576b"
             ],
             [
              0.6666666666666666,
              "#ed7953"
             ],
             [
              0.7777777777777778,
              "#fb9f3a"
             ],
             [
              0.8888888888888888,
              "#fdca26"
             ],
             [
              1,
              "#f0f921"
             ]
            ],
            "type": "histogram2d"
           }
          ],
          "histogram2dcontour": [
           {
            "colorbar": {
             "outlinewidth": 0,
             "ticks": ""
            },
            "colorscale": [
             [
              0,
              "#0d0887"
             ],
             [
              0.1111111111111111,
              "#46039f"
             ],
             [
              0.2222222222222222,
              "#7201a8"
             ],
             [
              0.3333333333333333,
              "#9c179e"
             ],
             [
              0.4444444444444444,
              "#bd3786"
             ],
             [
              0.5555555555555556,
              "#d8576b"
             ],
             [
              0.6666666666666666,
              "#ed7953"
             ],
             [
              0.7777777777777778,
              "#fb9f3a"
             ],
             [
              0.8888888888888888,
              "#fdca26"
             ],
             [
              1,
              "#f0f921"
             ]
            ],
            "type": "histogram2dcontour"
           }
          ],
          "mesh3d": [
           {
            "colorbar": {
             "outlinewidth": 0,
             "ticks": ""
            },
            "type": "mesh3d"
           }
          ],
          "parcoords": [
           {
            "line": {
             "colorbar": {
              "outlinewidth": 0,
              "ticks": ""
             }
            },
            "type": "parcoords"
           }
          ],
          "pie": [
           {
            "automargin": true,
            "type": "pie"
           }
          ],
          "scatter": [
           {
            "fillpattern": {
             "fillmode": "overlay",
             "size": 10,
             "solidity": 0.2
            },
            "type": "scatter"
           }
          ],
          "scatter3d": [
           {
            "line": {
             "colorbar": {
              "outlinewidth": 0,
              "ticks": ""
             }
            },
            "marker": {
             "colorbar": {
              "outlinewidth": 0,
              "ticks": ""
             }
            },
            "type": "scatter3d"
           }
          ],
          "scattercarpet": [
           {
            "marker": {
             "colorbar": {
              "outlinewidth": 0,
              "ticks": ""
             }
            },
            "type": "scattercarpet"
           }
          ],
          "scattergeo": [
           {
            "marker": {
             "colorbar": {
              "outlinewidth": 0,
              "ticks": ""
             }
            },
            "type": "scattergeo"
           }
          ],
          "scattergl": [
           {
            "marker": {
             "colorbar": {
              "outlinewidth": 0,
              "ticks": ""
             }
            },
            "type": "scattergl"
           }
          ],
          "scattermap": [
           {
            "marker": {
             "colorbar": {
              "outlinewidth": 0,
              "ticks": ""
             }
            },
            "type": "scattermap"
           }
          ],
          "scattermapbox": [
           {
            "marker": {
             "colorbar": {
              "outlinewidth": 0,
              "ticks": ""
             }
            },
            "type": "scattermapbox"
           }
          ],
          "scatterpolar": [
           {
            "marker": {
             "colorbar": {
              "outlinewidth": 0,
              "ticks": ""
             }
            },
            "type": "scatterpolar"
           }
          ],
          "scatterpolargl": [
           {
            "marker": {
             "colorbar": {
              "outlinewidth": 0,
              "ticks": ""
             }
            },
            "type": "scatterpolargl"
           }
          ],
          "scatterternary": [
           {
            "marker": {
             "colorbar": {
              "outlinewidth": 0,
              "ticks": ""
             }
            },
            "type": "scatterternary"
           }
          ],
          "surface": [
           {
            "colorbar": {
             "outlinewidth": 0,
             "ticks": ""
            },
            "colorscale": [
             [
              0,
              "#0d0887"
             ],
             [
              0.1111111111111111,
              "#46039f"
             ],
             [
              0.2222222222222222,
              "#7201a8"
             ],
             [
              0.3333333333333333,
              "#9c179e"
             ],
             [
              0.4444444444444444,
              "#bd3786"
             ],
             [
              0.5555555555555556,
              "#d8576b"
             ],
             [
              0.6666666666666666,
              "#ed7953"
             ],
             [
              0.7777777777777778,
              "#fb9f3a"
             ],
             [
              0.8888888888888888,
              "#fdca26"
             ],
             [
              1,
              "#f0f921"
             ]
            ],
            "type": "surface"
           }
          ],
          "table": [
           {
            "cells": {
             "fill": {
              "color": "#EBF0F8"
             },
             "line": {
              "color": "white"
             }
            },
            "header": {
             "fill": {
              "color": "#C8D4E3"
             },
             "line": {
              "color": "white"
             }
            },
            "type": "table"
           }
          ]
         },
         "layout": {
          "annotationdefaults": {
           "arrowcolor": "#2a3f5f",
           "arrowhead": 0,
           "arrowwidth": 1
          },
          "autotypenumbers": "strict",
          "coloraxis": {
           "colorbar": {
            "outlinewidth": 0,
            "ticks": ""
           }
          },
          "colorscale": {
           "diverging": [
            [
             0,
             "#8e0152"
            ],
            [
             0.1,
             "#c51b7d"
            ],
            [
             0.2,
             "#de77ae"
            ],
            [
             0.3,
             "#f1b6da"
            ],
            [
             0.4,
             "#fde0ef"
            ],
            [
             0.5,
             "#f7f7f7"
            ],
            [
             0.6,
             "#e6f5d0"
            ],
            [
             0.7,
             "#b8e186"
            ],
            [
             0.8,
             "#7fbc41"
            ],
            [
             0.9,
             "#4d9221"
            ],
            [
             1,
             "#276419"
            ]
           ],
           "sequential": [
            [
             0,
             "#0d0887"
            ],
            [
             0.1111111111111111,
             "#46039f"
            ],
            [
             0.2222222222222222,
             "#7201a8"
            ],
            [
             0.3333333333333333,
             "#9c179e"
            ],
            [
             0.4444444444444444,
             "#bd3786"
            ],
            [
             0.5555555555555556,
             "#d8576b"
            ],
            [
             0.6666666666666666,
             "#ed7953"
            ],
            [
             0.7777777777777778,
             "#fb9f3a"
            ],
            [
             0.8888888888888888,
             "#fdca26"
            ],
            [
             1,
             "#f0f921"
            ]
           ],
           "sequentialminus": [
            [
             0,
             "#0d0887"
            ],
            [
             0.1111111111111111,
             "#46039f"
            ],
            [
             0.2222222222222222,
             "#7201a8"
            ],
            [
             0.3333333333333333,
             "#9c179e"
            ],
            [
             0.4444444444444444,
             "#bd3786"
            ],
            [
             0.5555555555555556,
             "#d8576b"
            ],
            [
             0.6666666666666666,
             "#ed7953"
            ],
            [
             0.7777777777777778,
             "#fb9f3a"
            ],
            [
             0.8888888888888888,
             "#fdca26"
            ],
            [
             1,
             "#f0f921"
            ]
           ]
          },
          "colorway": [
           "#636efa",
           "#EF553B",
           "#00cc96",
           "#ab63fa",
           "#FFA15A",
           "#19d3f3",
           "#FF6692",
           "#B6E880",
           "#FF97FF",
           "#FECB52"
          ],
          "font": {
           "color": "#2a3f5f"
          },
          "geo": {
           "bgcolor": "white",
           "lakecolor": "white",
           "landcolor": "#E5ECF6",
           "showlakes": true,
           "showland": true,
           "subunitcolor": "white"
          },
          "hoverlabel": {
           "align": "left"
          },
          "hovermode": "closest",
          "mapbox": {
           "style": "light"
          },
          "paper_bgcolor": "white",
          "plot_bgcolor": "#E5ECF6",
          "polar": {
           "angularaxis": {
            "gridcolor": "white",
            "linecolor": "white",
            "ticks": ""
           },
           "bgcolor": "#E5ECF6",
           "radialaxis": {
            "gridcolor": "white",
            "linecolor": "white",
            "ticks": ""
           }
          },
          "scene": {
           "xaxis": {
            "backgroundcolor": "#E5ECF6",
            "gridcolor": "white",
            "gridwidth": 2,
            "linecolor": "white",
            "showbackground": true,
            "ticks": "",
            "zerolinecolor": "white"
           },
           "yaxis": {
            "backgroundcolor": "#E5ECF6",
            "gridcolor": "white",
            "gridwidth": 2,
            "linecolor": "white",
            "showbackground": true,
            "ticks": "",
            "zerolinecolor": "white"
           },
           "zaxis": {
            "backgroundcolor": "#E5ECF6",
            "gridcolor": "white",
            "gridwidth": 2,
            "linecolor": "white",
            "showbackground": true,
            "ticks": "",
            "zerolinecolor": "white"
           }
          },
          "shapedefaults": {
           "line": {
            "color": "#2a3f5f"
           }
          },
          "ternary": {
           "aaxis": {
            "gridcolor": "white",
            "linecolor": "white",
            "ticks": ""
           },
           "baxis": {
            "gridcolor": "white",
            "linecolor": "white",
            "ticks": ""
           },
           "bgcolor": "#E5ECF6",
           "caxis": {
            "gridcolor": "white",
            "linecolor": "white",
            "ticks": ""
           }
          },
          "title": {
           "x": 0.05
          },
          "xaxis": {
           "automargin": true,
           "gridcolor": "white",
           "linecolor": "white",
           "ticks": "",
           "title": {
            "standoff": 15
           },
           "zerolinecolor": "white",
           "zerolinewidth": 2
          },
          "yaxis": {
           "automargin": true,
           "gridcolor": "white",
           "linecolor": "white",
           "ticks": "",
           "title": {
            "standoff": 15
           },
           "zerolinecolor": "white",
           "zerolinewidth": 2
          }
         }
        },
        "title": {
         "text": "SWELL-USD Market Trade Counts on 02/10/25 between 01:30 and 03:00"
        },
        "width": 850,
        "xaxis": {
         "anchor": "y",
         "domain": [
          0,
          1
         ],
         "title": {
          "text": "Time"
         }
        },
        "yaxis": {
         "anchor": "x",
         "domain": [
          0,
          1
         ],
         "title": {
          "text": "Counts"
         }
        }
       }
      }
     },
     "metadata": {},
     "output_type": "display_data"
    }
   ],
   "source": [
    "fig_tradecounts = px.bar(df_trade_counts, x='hm_time', y='counts', color='side')\n",
    "fig_tradecounts.update_layout(\n",
    "    title=f'{trading_pair} Market Trade Counts on {start.strftime('%m/%d/%y')} between {start.strftime('%H:%M')} and {end.strftime('%H:%M')}',\n",
    "    yaxis=dict(\n",
    "        title=dict(text='Counts')\n",
    "    ),\n",
    "    xaxis=dict(\n",
    "        title=dict(text='Time')\n",
    "    ),\n",
    "    height=fig_height,\n",
    "    width=fig_width\n",
    ")\n",
    "fig_tradecounts.show()"
   ]
  },
  {
   "cell_type": "code",
   "execution_count": 15,
   "metadata": {},
   "outputs": [
    {
     "data": {
      "text/html": [
       "<div>\n",
       "<style scoped>\n",
       "    .dataframe tbody tr th:only-of-type {\n",
       "        vertical-align: middle;\n",
       "    }\n",
       "\n",
       "    .dataframe tbody tr th {\n",
       "        vertical-align: top;\n",
       "    }\n",
       "\n",
       "    .dataframe thead th {\n",
       "        text-align: right;\n",
       "    }\n",
       "</style>\n",
       "<table border=\"1\" class=\"dataframe\">\n",
       "  <thead>\n",
       "    <tr style=\"text-align: right;\">\n",
       "      <th></th>\n",
       "      <th>hm_time</th>\n",
       "      <th>side</th>\n",
       "      <th>total</th>\n",
       "    </tr>\n",
       "  </thead>\n",
       "  <tbody>\n",
       "    <tr>\n",
       "      <th>0</th>\n",
       "      <td>01:30:00</td>\n",
       "      <td>BUY</td>\n",
       "      <td>11.23616</td>\n",
       "    </tr>\n",
       "    <tr>\n",
       "      <th>1</th>\n",
       "      <td>01:30:00</td>\n",
       "      <td>SELL</td>\n",
       "      <td>-2.92750</td>\n",
       "    </tr>\n",
       "    <tr>\n",
       "      <th>2</th>\n",
       "      <td>01:32:00</td>\n",
       "      <td>SELL</td>\n",
       "      <td>-137.34356</td>\n",
       "    </tr>\n",
       "    <tr>\n",
       "      <th>3</th>\n",
       "      <td>01:33:00</td>\n",
       "      <td>SELL</td>\n",
       "      <td>-505.74156</td>\n",
       "    </tr>\n",
       "    <tr>\n",
       "      <th>4</th>\n",
       "      <td>01:36:00</td>\n",
       "      <td>SELL</td>\n",
       "      <td>-601.94368</td>\n",
       "    </tr>\n",
       "  </tbody>\n",
       "</table>\n",
       "</div>"
      ],
      "text/plain": [
       "    hm_time  side      total\n",
       "0  01:30:00   BUY   11.23616\n",
       "1  01:30:00  SELL   -2.92750\n",
       "2  01:32:00  SELL -137.34356\n",
       "3  01:33:00  SELL -505.74156\n",
       "4  01:36:00  SELL -601.94368"
      ]
     },
     "execution_count": 15,
     "metadata": {},
     "output_type": "execute_result"
    }
   ],
   "source": [
    "df_trade_totals = df_trades.groupby(['hm_time', 'side'], as_index=False)['total'].sum()\n",
    "df_trade_totals.head()"
   ]
  },
  {
   "cell_type": "code",
   "execution_count": 16,
   "metadata": {},
   "outputs": [
    {
     "data": {
      "application/vnd.plotly.v1+json": {
       "config": {
        "plotlyServerURL": "https://plot.ly"
       },
       "data": [
        {
         "hovertemplate": "side=BUY<br>hm_time=%{x}<br>total=%{y}<extra></extra>",
         "legendgroup": "BUY",
         "marker": {
          "color": "#636efa",
          "pattern": {
           "shape": ""
          }
         },
         "name": "BUY",
         "orientation": "v",
         "showlegend": true,
         "textposition": "auto",
         "type": "bar",
         "x": [
          "01:30:00",
          "01:37:00",
          "01:45:00",
          "01:51:00",
          "01:52:00",
          "01:58:00",
          "01:59:00",
          "02:00:00",
          "02:01:00",
          "02:02:00",
          "02:03:00",
          "02:05:00",
          "02:06:00",
          "02:07:00",
          "02:08:00",
          "02:09:00",
          "02:10:00",
          "02:11:00",
          "02:12:00",
          "02:13:00",
          "02:14:00",
          "02:15:00",
          "02:16:00",
          "02:17:00",
          "02:18:00",
          "02:19:00",
          "02:20:00",
          "02:21:00",
          "02:22:00",
          "02:23:00",
          "02:24:00",
          "02:25:00",
          "02:26:00",
          "02:27:00",
          "02:28:00",
          "02:29:00",
          "02:30:00",
          "02:31:00",
          "02:32:00",
          "02:33:00",
          "02:34:00",
          "02:35:00",
          "02:36:00",
          "02:37:00",
          "02:38:00",
          "02:39:00",
          "02:41:00",
          "02:42:00",
          "02:43:00",
          "02:44:00",
          "02:45:00",
          "02:46:00",
          "02:47:00",
          "02:48:00",
          "02:50:00",
          "02:51:00",
          "02:52:00",
          "02:53:00",
          "02:54:00",
          "02:55:00",
          "02:56:00",
          "02:58:00",
          "02:59:00"
         ],
         "xaxis": "x",
         "y": {
          "bdata": "KT+p9ul4JkD+8V61MuG3P794Bg2dHZtALv8h/fYiikBPATCeQUWDQGalSSmoANdAx/SEJU4Ez0AueNFXuMu/QHo2qz6nerVAg6Pk1RlCoEBgzQGCGReYQFKWIY6VepxA85Nqn45Ok0AWNZiGIde/QHWTGASms7hAmEwVjMqrikB481SHfBe4QIxn0NDoiOJAnRGlvf0/7UCOI9biZd/VQJ30vvFHn95AbZBJRrKS3EDV52ordmbUQABvgQT5fd1AQSswZD1MxEB2q+ekzXLZQNPB+j/H05FAPPceLtlyk0A+XHLceQLJQIMXfQU7pORAsYo3Mg9mtECZ9WIoAzjFQINMMnIcMuBAIGPuWvZXwECcUIiAYzyvQNyAzw+jmnVABd1e0i5O3kDY8PRKodi2QJ+wxAOChMBAuw9AagP+o0CyYyMQjw61QBzO/Gq+cKdA78nDQs2PqUDSxhFr8WkAQEQ0uoNITaVA0m9fB84CfkASoKaWzYWoQIeiQJ/IimRAZqVJKcgqk0A9D+7O2uFWQKgwthBkYYlAPQrXo/BbkkCoOuRm+EmSQM3MzMzMLGFAfJv+7LfZrEAgKSLDyqmjQBWuR+F6LEFAehSuR+HGaEBi83FtqEWQQAn5oGezRqZAPCzUmgYKkUDVz5uKTNmxQELsTKFT6JdA",
          "dtype": "f8"
         },
         "yaxis": "y"
        },
        {
         "hovertemplate": "side=SELL<br>hm_time=%{x}<br>total=%{y}<extra></extra>",
         "legendgroup": "SELL",
         "marker": {
          "color": "#EF553B",
          "pattern": {
           "shape": ""
          }
         },
         "name": "SELL",
         "orientation": "v",
         "showlegend": true,
         "textposition": "auto",
         "type": "bar",
         "x": [
          "01:30:00",
          "01:32:00",
          "01:33:00",
          "01:36:00",
          "01:46:00",
          "01:51:00",
          "01:52:00",
          "01:58:00",
          "01:59:00",
          "02:00:00",
          "02:02:00",
          "02:03:00",
          "02:05:00",
          "02:06:00",
          "02:07:00",
          "02:08:00",
          "02:09:00",
          "02:10:00",
          "02:11:00",
          "02:12:00",
          "02:13:00",
          "02:14:00",
          "02:15:00",
          "02:16:00",
          "02:17:00",
          "02:18:00",
          "02:19:00",
          "02:20:00",
          "02:21:00",
          "02:22:00",
          "02:23:00",
          "02:24:00",
          "02:25:00",
          "02:26:00",
          "02:27:00",
          "02:28:00",
          "02:29:00",
          "02:30:00",
          "02:31:00",
          "02:32:00",
          "02:33:00",
          "02:34:00",
          "02:35:00",
          "02:36:00",
          "02:37:00",
          "02:38:00",
          "02:39:00",
          "02:41:00",
          "02:42:00",
          "02:43:00",
          "02:44:00",
          "02:45:00",
          "02:46:00",
          "02:47:00",
          "02:48:00",
          "02:49:00",
          "02:50:00",
          "02:51:00",
          "02:52:00",
          "02:53:00",
          "02:54:00",
          "02:55:00",
          "02:56:00",
          "02:57:00",
          "02:58:00",
          "02:59:00"
         ],
         "xaxis": "x",
         "y": {
          "bdata": "61G4HoVrB8DXhopx/iphwFrABG7dm3/AHY8ZqIzPgsD2fw7z5QXIv8doHVVNPn/AYhBYObRGcsACt+7mcSzjwBHkoISZ4OXAYcPTK8UX2sD0bFZ9rjlrwJSfVPt0X3LA5lyKq/p7wMCM8zehsNySwNAKDFlNZqXALDBkdasXNcDlfoeioGyVwKGhf4JbELrAKEnXTP8v9cBTrvCuG6cHwb6kMVr9GtPABi/6CtY/wsDZmULn85DZwPQ3oRDpWszAqdkDrUgRvsAIlE25CuTKwO7O2m3XYpnArJDyk3oNqMDNx7WhQkuZwBGN7iCmVMPABHP0+K1xwMDQ0D/BRWCdwD3yBwO/17vAr0LKT1qVwcBDOdGugne2wFTBqKS2BbfAq7LviuBIa8B7whIPyPitwFMFo5Ia75zAGkzD8DHPv8B+dOrKV4i7wJ4kXTM5BKfA0m9fB05HhMASMSWS6B07wPs/h/kyY4DA0QoMWd2CUMAUBfpEnqT/v5xyhXe5r3bAh0uOO+XJn8CvQspPqvx0wPeSxmgduoDAQDBHj49gscCWPnRB3cmZwNJSeTuC+YvAw4GQLCDZuMDUSEvl7QaMwEyOO6XjDpTAXYqryr5LPMCuDRXjfHOBwFwDWyXETcDACKwcWqSyncBmZmZmZiaBwN+mP/uRC4TAXkvIBz1LRsCgoX+Ce9yuwIsVNZiGb6TA",
          "dtype": "f8"
         },
         "yaxis": "y"
        }
       ],
       "layout": {
        "barmode": "relative",
        "height": 550,
        "legend": {
         "title": {
          "text": "side"
         },
         "tracegroupgap": 0
        },
        "margin": {
         "t": 60
        },
        "template": {
         "data": {
          "bar": [
           {
            "error_x": {
             "color": "#2a3f5f"
            },
            "error_y": {
             "color": "#2a3f5f"
            },
            "marker": {
             "line": {
              "color": "#E5ECF6",
              "width": 0.5
             },
             "pattern": {
              "fillmode": "overlay",
              "size": 10,
              "solidity": 0.2
             }
            },
            "type": "bar"
           }
          ],
          "barpolar": [
           {
            "marker": {
             "line": {
              "color": "#E5ECF6",
              "width": 0.5
             },
             "pattern": {
              "fillmode": "overlay",
              "size": 10,
              "solidity": 0.2
             }
            },
            "type": "barpolar"
           }
          ],
          "carpet": [
           {
            "aaxis": {
             "endlinecolor": "#2a3f5f",
             "gridcolor": "white",
             "linecolor": "white",
             "minorgridcolor": "white",
             "startlinecolor": "#2a3f5f"
            },
            "baxis": {
             "endlinecolor": "#2a3f5f",
             "gridcolor": "white",
             "linecolor": "white",
             "minorgridcolor": "white",
             "startlinecolor": "#2a3f5f"
            },
            "type": "carpet"
           }
          ],
          "choropleth": [
           {
            "colorbar": {
             "outlinewidth": 0,
             "ticks": ""
            },
            "type": "choropleth"
           }
          ],
          "contour": [
           {
            "colorbar": {
             "outlinewidth": 0,
             "ticks": ""
            },
            "colorscale": [
             [
              0,
              "#0d0887"
             ],
             [
              0.1111111111111111,
              "#46039f"
             ],
             [
              0.2222222222222222,
              "#7201a8"
             ],
             [
              0.3333333333333333,
              "#9c179e"
             ],
             [
              0.4444444444444444,
              "#bd3786"
             ],
             [
              0.5555555555555556,
              "#d8576b"
             ],
             [
              0.6666666666666666,
              "#ed7953"
             ],
             [
              0.7777777777777778,
              "#fb9f3a"
             ],
             [
              0.8888888888888888,
              "#fdca26"
             ],
             [
              1,
              "#f0f921"
             ]
            ],
            "type": "contour"
           }
          ],
          "contourcarpet": [
           {
            "colorbar": {
             "outlinewidth": 0,
             "ticks": ""
            },
            "type": "contourcarpet"
           }
          ],
          "heatmap": [
           {
            "colorbar": {
             "outlinewidth": 0,
             "ticks": ""
            },
            "colorscale": [
             [
              0,
              "#0d0887"
             ],
             [
              0.1111111111111111,
              "#46039f"
             ],
             [
              0.2222222222222222,
              "#7201a8"
             ],
             [
              0.3333333333333333,
              "#9c179e"
             ],
             [
              0.4444444444444444,
              "#bd3786"
             ],
             [
              0.5555555555555556,
              "#d8576b"
             ],
             [
              0.6666666666666666,
              "#ed7953"
             ],
             [
              0.7777777777777778,
              "#fb9f3a"
             ],
             [
              0.8888888888888888,
              "#fdca26"
             ],
             [
              1,
              "#f0f921"
             ]
            ],
            "type": "heatmap"
           }
          ],
          "histogram": [
           {
            "marker": {
             "pattern": {
              "fillmode": "overlay",
              "size": 10,
              "solidity": 0.2
             }
            },
            "type": "histogram"
           }
          ],
          "histogram2d": [
           {
            "colorbar": {
             "outlinewidth": 0,
             "ticks": ""
            },
            "colorscale": [
             [
              0,
              "#0d0887"
             ],
             [
              0.1111111111111111,
              "#46039f"
             ],
             [
              0.2222222222222222,
              "#7201a8"
             ],
             [
              0.3333333333333333,
              "#9c179e"
             ],
             [
              0.4444444444444444,
              "#bd3786"
             ],
             [
              0.5555555555555556,
              "#d8576b"
             ],
             [
              0.6666666666666666,
              "#ed7953"
             ],
             [
              0.7777777777777778,
              "#fb9f3a"
             ],
             [
              0.8888888888888888,
              "#fdca26"
             ],
             [
              1,
              "#f0f921"
             ]
            ],
            "type": "histogram2d"
           }
          ],
          "histogram2dcontour": [
           {
            "colorbar": {
             "outlinewidth": 0,
             "ticks": ""
            },
            "colorscale": [
             [
              0,
              "#0d0887"
             ],
             [
              0.1111111111111111,
              "#46039f"
             ],
             [
              0.2222222222222222,
              "#7201a8"
             ],
             [
              0.3333333333333333,
              "#9c179e"
             ],
             [
              0.4444444444444444,
              "#bd3786"
             ],
             [
              0.5555555555555556,
              "#d8576b"
             ],
             [
              0.6666666666666666,
              "#ed7953"
             ],
             [
              0.7777777777777778,
              "#fb9f3a"
             ],
             [
              0.8888888888888888,
              "#fdca26"
             ],
             [
              1,
              "#f0f921"
             ]
            ],
            "type": "histogram2dcontour"
           }
          ],
          "mesh3d": [
           {
            "colorbar": {
             "outlinewidth": 0,
             "ticks": ""
            },
            "type": "mesh3d"
           }
          ],
          "parcoords": [
           {
            "line": {
             "colorbar": {
              "outlinewidth": 0,
              "ticks": ""
             }
            },
            "type": "parcoords"
           }
          ],
          "pie": [
           {
            "automargin": true,
            "type": "pie"
           }
          ],
          "scatter": [
           {
            "fillpattern": {
             "fillmode": "overlay",
             "size": 10,
             "solidity": 0.2
            },
            "type": "scatter"
           }
          ],
          "scatter3d": [
           {
            "line": {
             "colorbar": {
              "outlinewidth": 0,
              "ticks": ""
             }
            },
            "marker": {
             "colorbar": {
              "outlinewidth": 0,
              "ticks": ""
             }
            },
            "type": "scatter3d"
           }
          ],
          "scattercarpet": [
           {
            "marker": {
             "colorbar": {
              "outlinewidth": 0,
              "ticks": ""
             }
            },
            "type": "scattercarpet"
           }
          ],
          "scattergeo": [
           {
            "marker": {
             "colorbar": {
              "outlinewidth": 0,
              "ticks": ""
             }
            },
            "type": "scattergeo"
           }
          ],
          "scattergl": [
           {
            "marker": {
             "colorbar": {
              "outlinewidth": 0,
              "ticks": ""
             }
            },
            "type": "scattergl"
           }
          ],
          "scattermap": [
           {
            "marker": {
             "colorbar": {
              "outlinewidth": 0,
              "ticks": ""
             }
            },
            "type": "scattermap"
           }
          ],
          "scattermapbox": [
           {
            "marker": {
             "colorbar": {
              "outlinewidth": 0,
              "ticks": ""
             }
            },
            "type": "scattermapbox"
           }
          ],
          "scatterpolar": [
           {
            "marker": {
             "colorbar": {
              "outlinewidth": 0,
              "ticks": ""
             }
            },
            "type": "scatterpolar"
           }
          ],
          "scatterpolargl": [
           {
            "marker": {
             "colorbar": {
              "outlinewidth": 0,
              "ticks": ""
             }
            },
            "type": "scatterpolargl"
           }
          ],
          "scatterternary": [
           {
            "marker": {
             "colorbar": {
              "outlinewidth": 0,
              "ticks": ""
             }
            },
            "type": "scatterternary"
           }
          ],
          "surface": [
           {
            "colorbar": {
             "outlinewidth": 0,
             "ticks": ""
            },
            "colorscale": [
             [
              0,
              "#0d0887"
             ],
             [
              0.1111111111111111,
              "#46039f"
             ],
             [
              0.2222222222222222,
              "#7201a8"
             ],
             [
              0.3333333333333333,
              "#9c179e"
             ],
             [
              0.4444444444444444,
              "#bd3786"
             ],
             [
              0.5555555555555556,
              "#d8576b"
             ],
             [
              0.6666666666666666,
              "#ed7953"
             ],
             [
              0.7777777777777778,
              "#fb9f3a"
             ],
             [
              0.8888888888888888,
              "#fdca26"
             ],
             [
              1,
              "#f0f921"
             ]
            ],
            "type": "surface"
           }
          ],
          "table": [
           {
            "cells": {
             "fill": {
              "color": "#EBF0F8"
             },
             "line": {
              "color": "white"
             }
            },
            "header": {
             "fill": {
              "color": "#C8D4E3"
             },
             "line": {
              "color": "white"
             }
            },
            "type": "table"
           }
          ]
         },
         "layout": {
          "annotationdefaults": {
           "arrowcolor": "#2a3f5f",
           "arrowhead": 0,
           "arrowwidth": 1
          },
          "autotypenumbers": "strict",
          "coloraxis": {
           "colorbar": {
            "outlinewidth": 0,
            "ticks": ""
           }
          },
          "colorscale": {
           "diverging": [
            [
             0,
             "#8e0152"
            ],
            [
             0.1,
             "#c51b7d"
            ],
            [
             0.2,
             "#de77ae"
            ],
            [
             0.3,
             "#f1b6da"
            ],
            [
             0.4,
             "#fde0ef"
            ],
            [
             0.5,
             "#f7f7f7"
            ],
            [
             0.6,
             "#e6f5d0"
            ],
            [
             0.7,
             "#b8e186"
            ],
            [
             0.8,
             "#7fbc41"
            ],
            [
             0.9,
             "#4d9221"
            ],
            [
             1,
             "#276419"
            ]
           ],
           "sequential": [
            [
             0,
             "#0d0887"
            ],
            [
             0.1111111111111111,
             "#46039f"
            ],
            [
             0.2222222222222222,
             "#7201a8"
            ],
            [
             0.3333333333333333,
             "#9c179e"
            ],
            [
             0.4444444444444444,
             "#bd3786"
            ],
            [
             0.5555555555555556,
             "#d8576b"
            ],
            [
             0.6666666666666666,
             "#ed7953"
            ],
            [
             0.7777777777777778,
             "#fb9f3a"
            ],
            [
             0.8888888888888888,
             "#fdca26"
            ],
            [
             1,
             "#f0f921"
            ]
           ],
           "sequentialminus": [
            [
             0,
             "#0d0887"
            ],
            [
             0.1111111111111111,
             "#46039f"
            ],
            [
             0.2222222222222222,
             "#7201a8"
            ],
            [
             0.3333333333333333,
             "#9c179e"
            ],
            [
             0.4444444444444444,
             "#bd3786"
            ],
            [
             0.5555555555555556,
             "#d8576b"
            ],
            [
             0.6666666666666666,
             "#ed7953"
            ],
            [
             0.7777777777777778,
             "#fb9f3a"
            ],
            [
             0.8888888888888888,
             "#fdca26"
            ],
            [
             1,
             "#f0f921"
            ]
           ]
          },
          "colorway": [
           "#636efa",
           "#EF553B",
           "#00cc96",
           "#ab63fa",
           "#FFA15A",
           "#19d3f3",
           "#FF6692",
           "#B6E880",
           "#FF97FF",
           "#FECB52"
          ],
          "font": {
           "color": "#2a3f5f"
          },
          "geo": {
           "bgcolor": "white",
           "lakecolor": "white",
           "landcolor": "#E5ECF6",
           "showlakes": true,
           "showland": true,
           "subunitcolor": "white"
          },
          "hoverlabel": {
           "align": "left"
          },
          "hovermode": "closest",
          "mapbox": {
           "style": "light"
          },
          "paper_bgcolor": "white",
          "plot_bgcolor": "#E5ECF6",
          "polar": {
           "angularaxis": {
            "gridcolor": "white",
            "linecolor": "white",
            "ticks": ""
           },
           "bgcolor": "#E5ECF6",
           "radialaxis": {
            "gridcolor": "white",
            "linecolor": "white",
            "ticks": ""
           }
          },
          "scene": {
           "xaxis": {
            "backgroundcolor": "#E5ECF6",
            "gridcolor": "white",
            "gridwidth": 2,
            "linecolor": "white",
            "showbackground": true,
            "ticks": "",
            "zerolinecolor": "white"
           },
           "yaxis": {
            "backgroundcolor": "#E5ECF6",
            "gridcolor": "white",
            "gridwidth": 2,
            "linecolor": "white",
            "showbackground": true,
            "ticks": "",
            "zerolinecolor": "white"
           },
           "zaxis": {
            "backgroundcolor": "#E5ECF6",
            "gridcolor": "white",
            "gridwidth": 2,
            "linecolor": "white",
            "showbackground": true,
            "ticks": "",
            "zerolinecolor": "white"
           }
          },
          "shapedefaults": {
           "line": {
            "color": "#2a3f5f"
           }
          },
          "ternary": {
           "aaxis": {
            "gridcolor": "white",
            "linecolor": "white",
            "ticks": ""
           },
           "baxis": {
            "gridcolor": "white",
            "linecolor": "white",
            "ticks": ""
           },
           "bgcolor": "#E5ECF6",
           "caxis": {
            "gridcolor": "white",
            "linecolor": "white",
            "ticks": ""
           }
          },
          "title": {
           "x": 0.05
          },
          "xaxis": {
           "automargin": true,
           "gridcolor": "white",
           "linecolor": "white",
           "ticks": "",
           "title": {
            "standoff": 15
           },
           "zerolinecolor": "white",
           "zerolinewidth": 2
          },
          "yaxis": {
           "automargin": true,
           "gridcolor": "white",
           "linecolor": "white",
           "ticks": "",
           "title": {
            "standoff": 15
           },
           "zerolinecolor": "white",
           "zerolinewidth": 2
          }
         }
        },
        "title": {
         "text": "SWELL-USD Market Trade Totals on Feb 10 between 01:30 and 03:00"
        },
        "width": 850,
        "xaxis": {
         "anchor": "y",
         "domain": [
          0,
          1
         ],
         "title": {
          "text": "Time"
         }
        },
        "yaxis": {
         "anchor": "x",
         "domain": [
          0,
          1
         ],
         "title": {
          "text": "Total"
         }
        }
       }
      }
     },
     "metadata": {},
     "output_type": "display_data"
    }
   ],
   "source": [
    "fig_tradetotals = px.bar(\n",
    "    df_trade_totals,\n",
    "    x='hm_time',\n",
    "    y='total',\n",
    "    color='side'\n",
    ")\n",
    "fig_tradetotals.update_layout(\n",
    "    title=f\"{trading_pair} Market Trade Totals on {start.strftime('%b %d')} between {start.strftime('%H:%M')} and {end.strftime('%H:%M')}\",\n",
    "    xaxis=dict(\n",
    "        title=dict(text='Time')\n",
    "    ),\n",
    "    yaxis=dict(\n",
    "        title=dict(text='Total')\n",
    "    ),\n",
    "    height=fig_height,\n",
    "    width=fig_width,\n",
    ")\n",
    "fig_tradetotals.show()"
   ]
  },
  {
   "cell_type": "code",
   "execution_count": 17,
   "metadata": {},
   "outputs": [
    {
     "data": {
      "application/vnd.plotly.v1+json": {
       "config": {
        "plotlyServerURL": "https://plot.ly"
       },
       "data": [
        {
         "close": {
          "bdata": "G0esxacAiD+EKjV7oBWIP0mAmlq21oc/7Q2+MJkqiD+EKjV7oBWIP40o7Q2+MIk/B/AWSFD8iD+qfToeM1CJP8RfkzXqIYo/HF97ZkmAij+JtfgUAOOJP33Qs1n1uYo/KdAn8iTpij9TliGOdXGLP68I/reSHYs/hc5r7BLViz9GsdzSakiMP3npJjEIrIw/IjfDDfj8kD+P39v0Zz+SP1Ou8C4X8Y0/j+TyH9Jvjz8VHcnlP6SPPxkEVg4tso0/96+sNCkFjT9gkzXqIRqNP7wFEhQ/xow/7rH0oQvqiz+WsgxxrIuLP83pspjYfIw/TyMtlbcjjD8QBp57D5eMP8l2vp8aL40/1VsDWyVYjD8xzt+EQgSMP5qxaDo7GYw/7rH0oQvqiz8UeZJ0zeSLPzHO34RCBIw/yOpWz0nviz/VWwNbJViMP31cGyrG+Ys/Ieo+AKlNjD8pXI/C9SiMP6ciFcYWgow/+yKhLedSjD/AeAYN/ROMP6MjufyH9Is/fVwbKsb5iz8UeZJ0zeSLP8jqVs9J74s/oyO5/If0iz/I6lbPSe+LP0ax3NJqSIw/TyMtlbcjjD+nIhXGFoKMP0ax3NJqSIw/Mc7fhEIEjD8h6j4AqU2MP7gGtkqwOIw/DAdCsoAJjD8h6j4AqU2MP08jLZW3I4w/dOrKZ3kejD/mP6Tfvg6MP5I/GHjuPYw/FHmSdM3kiz8=",
          "dtype": "f8"
         },
         "high": {
          "bdata": "G0esxacAiD85nPnVHCCIP/7xXrUy4Yc/C2MLQQ5KiD+EKjV7oBWIP40o7Q2+MIk/s++K4H8riT/htOBFX0GKP/Ik6ZrJN4s/HF97ZkmAij8HfH4YITyKP33Qs1n1uYo/rwj+t5Idiz9TliGOdXGLP45AvK5fsIs/hc5r7BLViz9GsdzSakiMP3npJjEIrIw/P4wQHm0ckT8730+Nl26SP/iImBJJ9JI/uarsuyL4jz+kqgmi7gOQP2kdVU0QdY8/0XR2MjhKjj8ZBFYOLbKNP3EDPj+MEI4/Qj7o2az6jD/3r6w0KQWNP83pspjYfIw/xHdi1ouhjD8QBp57D5eMP8l2vp8aL40/feiC+pY5jT9TIoleRrGMP/sioS3nUow/RrHc0mpIjD8pXI/C9SiMP7gGtkqwOIw/bHh6pSxDjD+Kzce1oWKMP/KwUGuad4w/Ieo+AKlNjD9GsdzSakiMP6ciFcYWgow/pyIVxhaCjD9GsdzSakiMP/sioS3nUow/3c1THXIzjD+asWg6OxmMPzHO34RCBIw/A5Xx7zMujD/AeAYN/ROMP0ax3NJqSIw/bHh6pSxDjD+BW3fzVIeMP2QGKuPfZ4w/KVyPwvUojD/7IqEt51KMPyHqPgCpTYw/uAa2SrA4jD8h6j4AqU2MP93NUx1yM4w/bHh6pSxDjD+SPxh47j2MP/sioS3nUow/bHh6pSxDjD8=",
          "dtype": "f8"
         },
         "low": {
          "bdata": "smMjEK/rhz8bR6zFpwCIP0mAmlq21oc/9n8O8+UFiD/2fw7z5QWIP5UO1v85zIc/NSkF3V7SiD89m1Wfq62IP2dhTzv8NYk/D+7O2m0Xij+JtfgUAOOJP+Un1T4dj4k/yF7v/nivij90XmOXqN6KP/uWOV0WE4s/lrIMcayLiz+FzmvsEtWLP+6x9KEL6os/pyIVxhaCjD8Z/z7jwoGQP1Ou8C4X8Y0/ilkvhnKijT82WaMeotGNP0uwOJz51Yw/kj8YeO49jD+vlGWIY12MP0KygAncuos//5WVJqWgiz9bCHJQwkyLP31cGyrG+Ys/aHke3J21iz/mP6Tfvg6MP0ax3NJqSIw/1VsDWyVYjD+jI7n8h/SLP9nO91PjpYs/7rH0oQvqiz9fB84ZUdqLPxR5knTN5Is/QrKACdy6iz99XBsqxvmLP31cGyrG+Ys/wHgGDf0TjD9fB84ZUdqLP93NUx1yM4w/XwfOGVHaiz/mP6Tfvg6MP8jqVs9J74s/7rH0oQvqiz86QDBHj9+LP6uVCb/Uz4s/yOpWz0nviz+rlQm/1M+LP1eVfVcE/4s/dOrKZ3kejD/VWwNbJViMP5qxaDo7GYw/OkAwR4/fiz8pXI/C9SiMP1eVfVcE/4s/DAdCsoAJjD8xzt+EQgSMP8B4Bg39E4w/oyO5/If0iz8MB0KygAmMP08jLZW3I4w/FHmSdM3kiz8=",
          "dtype": "f8"
         },
         "open": {
          "bdata": "QQ5KmGn7hz/2fw7z5QWIP/7xXrUy4Yc/9n8O8+UFiD+EKjV7oBWIP2fV52or9oc/2LYos0EmiT81KQXdXtKIP6p9Oh4zUIk/npj1Yignij8HfH4YITyKP4m1+BQA44k/fdCzWfW5ij8DCYofY+6KP4HPDyOER4s/lrIMcayLiz+FzmvsEtWLP2QGKuPfZ4w/Ns07TtGRjD9+qZ83FamQP4ums5PBUZI/gufewyXHjT+XVkPiHkuPP2kdVU0QdY8/AK5kx0Ygjj8l6ZrJN9uMP2CTNeohGo0/A5Xx7zMujD+fsMQDyqaMP1eVfVcE/4s/EAaeew+XjD8DlfHvMy6MP0ax3NJqSIw/vAUSFD/GjD8QBp57D5eMPzHO34RCBIw/A5Xx7zMujD/usfShC+qLPxR5knTN5Is/dOrKZ3kejD99XBsqxvmLP4rNx7WhYow/TyMtlbcjjD9GsdzSakiMPyHqPgCpTYw/pyIVxhaCjD+asWg6OxmMPwOV8e8zLow/Mc7fhEIEjD/AeAYN/ROMPxR5knTN5Is/Mc7fhEIEjD9XlX1XBP+LPwwHQrKACYw/bHh6pSxDjD/VWwNbJViMP4rNx7WhYow/KVyPwvUojD8pXI/C9SiMP7gGtkqwOIw/wHgGDf0TjD+asWg6OxmMP93NUx1yM4w/bHh6pSxDjD906spneR6MP08jLZW3I4w/kj8YeO49jD8=",
          "dtype": "f8"
         },
         "type": "candlestick",
         "x": [
          "2025-02-10T01:30:00-08:00",
          "2025-02-10T01:33:00-08:00",
          "2025-02-10T01:37:00-08:00",
          "2025-02-10T01:46:00-08:00",
          "2025-02-10T01:51:00-08:00",
          "2025-02-10T01:52:00-08:00",
          "2025-02-10T01:58:00-08:00",
          "2025-02-10T01:59:00-08:00",
          "2025-02-10T02:00:00-08:00",
          "2025-02-10T02:01:00-08:00",
          "2025-02-10T02:02:00-08:00",
          "2025-02-10T02:03:00-08:00",
          "2025-02-10T02:05:00-08:00",
          "2025-02-10T02:06:00-08:00",
          "2025-02-10T02:07:00-08:00",
          "2025-02-10T02:08:00-08:00",
          "2025-02-10T02:09:00-08:00",
          "2025-02-10T02:10:00-08:00",
          "2025-02-10T02:11:00-08:00",
          "2025-02-10T02:12:00-08:00",
          "2025-02-10T02:13:00-08:00",
          "2025-02-10T02:14:00-08:00",
          "2025-02-10T02:15:00-08:00",
          "2025-02-10T02:16:00-08:00",
          "2025-02-10T02:17:00-08:00",
          "2025-02-10T02:18:00-08:00",
          "2025-02-10T02:19:00-08:00",
          "2025-02-10T02:20:00-08:00",
          "2025-02-10T02:21:00-08:00",
          "2025-02-10T02:22:00-08:00",
          "2025-02-10T02:23:00-08:00",
          "2025-02-10T02:24:00-08:00",
          "2025-02-10T02:25:00-08:00",
          "2025-02-10T02:26:00-08:00",
          "2025-02-10T02:27:00-08:00",
          "2025-02-10T02:28:00-08:00",
          "2025-02-10T02:29:00-08:00",
          "2025-02-10T02:30:00-08:00",
          "2025-02-10T02:31:00-08:00",
          "2025-02-10T02:32:00-08:00",
          "2025-02-10T02:33:00-08:00",
          "2025-02-10T02:34:00-08:00",
          "2025-02-10T02:35:00-08:00",
          "2025-02-10T02:36:00-08:00",
          "2025-02-10T02:37:00-08:00",
          "2025-02-10T02:38:00-08:00",
          "2025-02-10T02:39:00-08:00",
          "2025-02-10T02:41:00-08:00",
          "2025-02-10T02:42:00-08:00",
          "2025-02-10T02:43:00-08:00",
          "2025-02-10T02:44:00-08:00",
          "2025-02-10T02:45:00-08:00",
          "2025-02-10T02:46:00-08:00",
          "2025-02-10T02:47:00-08:00",
          "2025-02-10T02:48:00-08:00",
          "2025-02-10T02:49:00-08:00",
          "2025-02-10T02:50:00-08:00",
          "2025-02-10T02:51:00-08:00",
          "2025-02-10T02:52:00-08:00",
          "2025-02-10T02:53:00-08:00",
          "2025-02-10T02:54:00-08:00",
          "2025-02-10T02:55:00-08:00",
          "2025-02-10T02:56:00-08:00",
          "2025-02-10T02:57:00-08:00",
          "2025-02-10T02:58:00-08:00",
          "2025-02-10T02:59:00-08:00",
          "2025-02-10T03:00:00-08:00"
         ]
        }
       ],
       "layout": {
        "height": 550,
        "template": {
         "data": {
          "bar": [
           {
            "error_x": {
             "color": "#2a3f5f"
            },
            "error_y": {
             "color": "#2a3f5f"
            },
            "marker": {
             "line": {
              "color": "#E5ECF6",
              "width": 0.5
             },
             "pattern": {
              "fillmode": "overlay",
              "size": 10,
              "solidity": 0.2
             }
            },
            "type": "bar"
           }
          ],
          "barpolar": [
           {
            "marker": {
             "line": {
              "color": "#E5ECF6",
              "width": 0.5
             },
             "pattern": {
              "fillmode": "overlay",
              "size": 10,
              "solidity": 0.2
             }
            },
            "type": "barpolar"
           }
          ],
          "carpet": [
           {
            "aaxis": {
             "endlinecolor": "#2a3f5f",
             "gridcolor": "white",
             "linecolor": "white",
             "minorgridcolor": "white",
             "startlinecolor": "#2a3f5f"
            },
            "baxis": {
             "endlinecolor": "#2a3f5f",
             "gridcolor": "white",
             "linecolor": "white",
             "minorgridcolor": "white",
             "startlinecolor": "#2a3f5f"
            },
            "type": "carpet"
           }
          ],
          "choropleth": [
           {
            "colorbar": {
             "outlinewidth": 0,
             "ticks": ""
            },
            "type": "choropleth"
           }
          ],
          "contour": [
           {
            "colorbar": {
             "outlinewidth": 0,
             "ticks": ""
            },
            "colorscale": [
             [
              0,
              "#0d0887"
             ],
             [
              0.1111111111111111,
              "#46039f"
             ],
             [
              0.2222222222222222,
              "#7201a8"
             ],
             [
              0.3333333333333333,
              "#9c179e"
             ],
             [
              0.4444444444444444,
              "#bd3786"
             ],
             [
              0.5555555555555556,
              "#d8576b"
             ],
             [
              0.6666666666666666,
              "#ed7953"
             ],
             [
              0.7777777777777778,
              "#fb9f3a"
             ],
             [
              0.8888888888888888,
              "#fdca26"
             ],
             [
              1,
              "#f0f921"
             ]
            ],
            "type": "contour"
           }
          ],
          "contourcarpet": [
           {
            "colorbar": {
             "outlinewidth": 0,
             "ticks": ""
            },
            "type": "contourcarpet"
           }
          ],
          "heatmap": [
           {
            "colorbar": {
             "outlinewidth": 0,
             "ticks": ""
            },
            "colorscale": [
             [
              0,
              "#0d0887"
             ],
             [
              0.1111111111111111,
              "#46039f"
             ],
             [
              0.2222222222222222,
              "#7201a8"
             ],
             [
              0.3333333333333333,
              "#9c179e"
             ],
             [
              0.4444444444444444,
              "#bd3786"
             ],
             [
              0.5555555555555556,
              "#d8576b"
             ],
             [
              0.6666666666666666,
              "#ed7953"
             ],
             [
              0.7777777777777778,
              "#fb9f3a"
             ],
             [
              0.8888888888888888,
              "#fdca26"
             ],
             [
              1,
              "#f0f921"
             ]
            ],
            "type": "heatmap"
           }
          ],
          "histogram": [
           {
            "marker": {
             "pattern": {
              "fillmode": "overlay",
              "size": 10,
              "solidity": 0.2
             }
            },
            "type": "histogram"
           }
          ],
          "histogram2d": [
           {
            "colorbar": {
             "outlinewidth": 0,
             "ticks": ""
            },
            "colorscale": [
             [
              0,
              "#0d0887"
             ],
             [
              0.1111111111111111,
              "#46039f"
             ],
             [
              0.2222222222222222,
              "#7201a8"
             ],
             [
              0.3333333333333333,
              "#9c179e"
             ],
             [
              0.4444444444444444,
              "#bd3786"
             ],
             [
              0.5555555555555556,
              "#d8576b"
             ],
             [
              0.6666666666666666,
              "#ed7953"
             ],
             [
              0.7777777777777778,
              "#fb9f3a"
             ],
             [
              0.8888888888888888,
              "#fdca26"
             ],
             [
              1,
              "#f0f921"
             ]
            ],
            "type": "histogram2d"
           }
          ],
          "histogram2dcontour": [
           {
            "colorbar": {
             "outlinewidth": 0,
             "ticks": ""
            },
            "colorscale": [
             [
              0,
              "#0d0887"
             ],
             [
              0.1111111111111111,
              "#46039f"
             ],
             [
              0.2222222222222222,
              "#7201a8"
             ],
             [
              0.3333333333333333,
              "#9c179e"
             ],
             [
              0.4444444444444444,
              "#bd3786"
             ],
             [
              0.5555555555555556,
              "#d8576b"
             ],
             [
              0.6666666666666666,
              "#ed7953"
             ],
             [
              0.7777777777777778,
              "#fb9f3a"
             ],
             [
              0.8888888888888888,
              "#fdca26"
             ],
             [
              1,
              "#f0f921"
             ]
            ],
            "type": "histogram2dcontour"
           }
          ],
          "mesh3d": [
           {
            "colorbar": {
             "outlinewidth": 0,
             "ticks": ""
            },
            "type": "mesh3d"
           }
          ],
          "parcoords": [
           {
            "line": {
             "colorbar": {
              "outlinewidth": 0,
              "ticks": ""
             }
            },
            "type": "parcoords"
           }
          ],
          "pie": [
           {
            "automargin": true,
            "type": "pie"
           }
          ],
          "scatter": [
           {
            "fillpattern": {
             "fillmode": "overlay",
             "size": 10,
             "solidity": 0.2
            },
            "type": "scatter"
           }
          ],
          "scatter3d": [
           {
            "line": {
             "colorbar": {
              "outlinewidth": 0,
              "ticks": ""
             }
            },
            "marker": {
             "colorbar": {
              "outlinewidth": 0,
              "ticks": ""
             }
            },
            "type": "scatter3d"
           }
          ],
          "scattercarpet": [
           {
            "marker": {
             "colorbar": {
              "outlinewidth": 0,
              "ticks": ""
             }
            },
            "type": "scattercarpet"
           }
          ],
          "scattergeo": [
           {
            "marker": {
             "colorbar": {
              "outlinewidth": 0,
              "ticks": ""
             }
            },
            "type": "scattergeo"
           }
          ],
          "scattergl": [
           {
            "marker": {
             "colorbar": {
              "outlinewidth": 0,
              "ticks": ""
             }
            },
            "type": "scattergl"
           }
          ],
          "scattermap": [
           {
            "marker": {
             "colorbar": {
              "outlinewidth": 0,
              "ticks": ""
             }
            },
            "type": "scattermap"
           }
          ],
          "scattermapbox": [
           {
            "marker": {
             "colorbar": {
              "outlinewidth": 0,
              "ticks": ""
             }
            },
            "type": "scattermapbox"
           }
          ],
          "scatterpolar": [
           {
            "marker": {
             "colorbar": {
              "outlinewidth": 0,
              "ticks": ""
             }
            },
            "type": "scatterpolar"
           }
          ],
          "scatterpolargl": [
           {
            "marker": {
             "colorbar": {
              "outlinewidth": 0,
              "ticks": ""
             }
            },
            "type": "scatterpolargl"
           }
          ],
          "scatterternary": [
           {
            "marker": {
             "colorbar": {
              "outlinewidth": 0,
              "ticks": ""
             }
            },
            "type": "scatterternary"
           }
          ],
          "surface": [
           {
            "colorbar": {
             "outlinewidth": 0,
             "ticks": ""
            },
            "colorscale": [
             [
              0,
              "#0d0887"
             ],
             [
              0.1111111111111111,
              "#46039f"
             ],
             [
              0.2222222222222222,
              "#7201a8"
             ],
             [
              0.3333333333333333,
              "#9c179e"
             ],
             [
              0.4444444444444444,
              "#bd3786"
             ],
             [
              0.5555555555555556,
              "#d8576b"
             ],
             [
              0.6666666666666666,
              "#ed7953"
             ],
             [
              0.7777777777777778,
              "#fb9f3a"
             ],
             [
              0.8888888888888888,
              "#fdca26"
             ],
             [
              1,
              "#f0f921"
             ]
            ],
            "type": "surface"
           }
          ],
          "table": [
           {
            "cells": {
             "fill": {
              "color": "#EBF0F8"
             },
             "line": {
              "color": "white"
             }
            },
            "header": {
             "fill": {
              "color": "#C8D4E3"
             },
             "line": {
              "color": "white"
             }
            },
            "type": "table"
           }
          ]
         },
         "layout": {
          "annotationdefaults": {
           "arrowcolor": "#2a3f5f",
           "arrowhead": 0,
           "arrowwidth": 1
          },
          "autotypenumbers": "strict",
          "coloraxis": {
           "colorbar": {
            "outlinewidth": 0,
            "ticks": ""
           }
          },
          "colorscale": {
           "diverging": [
            [
             0,
             "#8e0152"
            ],
            [
             0.1,
             "#c51b7d"
            ],
            [
             0.2,
             "#de77ae"
            ],
            [
             0.3,
             "#f1b6da"
            ],
            [
             0.4,
             "#fde0ef"
            ],
            [
             0.5,
             "#f7f7f7"
            ],
            [
             0.6,
             "#e6f5d0"
            ],
            [
             0.7,
             "#b8e186"
            ],
            [
             0.8,
             "#7fbc41"
            ],
            [
             0.9,
             "#4d9221"
            ],
            [
             1,
             "#276419"
            ]
           ],
           "sequential": [
            [
             0,
             "#0d0887"
            ],
            [
             0.1111111111111111,
             "#46039f"
            ],
            [
             0.2222222222222222,
             "#7201a8"
            ],
            [
             0.3333333333333333,
             "#9c179e"
            ],
            [
             0.4444444444444444,
             "#bd3786"
            ],
            [
             0.5555555555555556,
             "#d8576b"
            ],
            [
             0.6666666666666666,
             "#ed7953"
            ],
            [
             0.7777777777777778,
             "#fb9f3a"
            ],
            [
             0.8888888888888888,
             "#fdca26"
            ],
            [
             1,
             "#f0f921"
            ]
           ],
           "sequentialminus": [
            [
             0,
             "#0d0887"
            ],
            [
             0.1111111111111111,
             "#46039f"
            ],
            [
             0.2222222222222222,
             "#7201a8"
            ],
            [
             0.3333333333333333,
             "#9c179e"
            ],
            [
             0.4444444444444444,
             "#bd3786"
            ],
            [
             0.5555555555555556,
             "#d8576b"
            ],
            [
             0.6666666666666666,
             "#ed7953"
            ],
            [
             0.7777777777777778,
             "#fb9f3a"
            ],
            [
             0.8888888888888888,
             "#fdca26"
            ],
            [
             1,
             "#f0f921"
            ]
           ]
          },
          "colorway": [
           "#636efa",
           "#EF553B",
           "#00cc96",
           "#ab63fa",
           "#FFA15A",
           "#19d3f3",
           "#FF6692",
           "#B6E880",
           "#FF97FF",
           "#FECB52"
          ],
          "font": {
           "color": "#2a3f5f"
          },
          "geo": {
           "bgcolor": "white",
           "lakecolor": "white",
           "landcolor": "#E5ECF6",
           "showlakes": true,
           "showland": true,
           "subunitcolor": "white"
          },
          "hoverlabel": {
           "align": "left"
          },
          "hovermode": "closest",
          "mapbox": {
           "style": "light"
          },
          "paper_bgcolor": "white",
          "plot_bgcolor": "#E5ECF6",
          "polar": {
           "angularaxis": {
            "gridcolor": "white",
            "linecolor": "white",
            "ticks": ""
           },
           "bgcolor": "#E5ECF6",
           "radialaxis": {
            "gridcolor": "white",
            "linecolor": "white",
            "ticks": ""
           }
          },
          "scene": {
           "xaxis": {
            "backgroundcolor": "#E5ECF6",
            "gridcolor": "white",
            "gridwidth": 2,
            "linecolor": "white",
            "showbackground": true,
            "ticks": "",
            "zerolinecolor": "white"
           },
           "yaxis": {
            "backgroundcolor": "#E5ECF6",
            "gridcolor": "white",
            "gridwidth": 2,
            "linecolor": "white",
            "showbackground": true,
            "ticks": "",
            "zerolinecolor": "white"
           },
           "zaxis": {
            "backgroundcolor": "#E5ECF6",
            "gridcolor": "white",
            "gridwidth": 2,
            "linecolor": "white",
            "showbackground": true,
            "ticks": "",
            "zerolinecolor": "white"
           }
          },
          "shapedefaults": {
           "line": {
            "color": "#2a3f5f"
           }
          },
          "ternary": {
           "aaxis": {
            "gridcolor": "white",
            "linecolor": "white",
            "ticks": ""
           },
           "baxis": {
            "gridcolor": "white",
            "linecolor": "white",
            "ticks": ""
           },
           "bgcolor": "#E5ECF6",
           "caxis": {
            "gridcolor": "white",
            "linecolor": "white",
            "ticks": ""
           }
          },
          "title": {
           "x": 0.05
          },
          "xaxis": {
           "automargin": true,
           "gridcolor": "white",
           "linecolor": "white",
           "ticks": "",
           "title": {
            "standoff": 15
           },
           "zerolinecolor": "white",
           "zerolinewidth": 2
          },
          "yaxis": {
           "automargin": true,
           "gridcolor": "white",
           "linecolor": "white",
           "ticks": "",
           "title": {
            "standoff": 15
           },
           "zerolinecolor": "white",
           "zerolinewidth": 2
          }
         }
        },
        "title": {
         "text": "Price Change for SWELL-USD on 02/10/25 between 01:30 and 03:00"
        },
        "width": 850,
        "xaxis": {
         "dtick": 300000,
         "rangeslider": {
          "visible": false
         },
         "title": {
          "text": "Time"
         }
        },
        "yaxis": {
         "title": {
          "text": "Price"
         }
        }
       }
      }
     },
     "metadata": {},
     "output_type": "display_data"
    },
    {
     "data": {
      "application/vnd.plotly.v1+json": {
       "config": {
        "plotlyServerURL": "https://plot.ly"
       },
       "data": [
        {
         "hovertemplate": "side=BUY<br>hm_time=%{x}<br>counts=%{y}<extra></extra>",
         "legendgroup": "BUY",
         "marker": {
          "color": "#636efa",
          "pattern": {
           "shape": ""
          }
         },
         "name": "BUY",
         "orientation": "v",
         "showlegend": true,
         "textposition": "auto",
         "type": "bar",
         "x": [
          "01:30:00",
          "01:37:00",
          "01:45:00",
          "01:51:00",
          "01:52:00",
          "01:58:00",
          "01:59:00",
          "02:00:00",
          "02:01:00",
          "02:02:00",
          "02:03:00",
          "02:05:00",
          "02:06:00",
          "02:07:00",
          "02:08:00",
          "02:09:00",
          "02:10:00",
          "02:11:00",
          "02:12:00",
          "02:13:00",
          "02:14:00",
          "02:15:00",
          "02:16:00",
          "02:17:00",
          "02:18:00",
          "02:19:00",
          "02:20:00",
          "02:21:00",
          "02:22:00",
          "02:23:00",
          "02:24:00",
          "02:25:00",
          "02:26:00",
          "02:27:00",
          "02:28:00",
          "02:29:00",
          "02:30:00",
          "02:31:00",
          "02:32:00",
          "02:33:00",
          "02:34:00",
          "02:35:00",
          "02:36:00",
          "02:37:00",
          "02:38:00",
          "02:39:00",
          "02:41:00",
          "02:42:00",
          "02:43:00",
          "02:44:00",
          "02:45:00",
          "02:46:00",
          "02:47:00",
          "02:48:00",
          "02:50:00",
          "02:51:00",
          "02:52:00",
          "02:53:00",
          "02:54:00",
          "02:55:00",
          "02:56:00",
          "02:58:00",
          "02:59:00"
         ],
         "xaxis": "x",
         "y": {
          "bdata": "AQABAAUACgAKADAAYgA1AD4AFgARABYAEwAMAAkABwAeAJAATABvADUARgBCAIUAMABVAA8AEQA7AHgAHgAQAK4BnABGAAkAnwB9AEkAGgAoABUAJAABADAABgAXAAYABwACAAgACAAJAAEACAALAAEAAwAIAAsABgAIAAYA",
          "dtype": "i2"
         },
         "yaxis": "y"
        },
        {
         "hovertemplate": "side=SELL<br>hm_time=%{x}<br>counts=%{y}<extra></extra>",
         "legendgroup": "SELL",
         "marker": {
          "color": "#EF553B",
          "pattern": {
           "shape": ""
          }
         },
         "name": "SELL",
         "orientation": "v",
         "showlegend": true,
         "textposition": "auto",
         "type": "bar",
         "x": [
          "01:30:00",
          "01:32:00",
          "01:33:00",
          "01:36:00",
          "01:46:00",
          "01:51:00",
          "01:52:00",
          "01:58:00",
          "01:59:00",
          "02:00:00",
          "02:02:00",
          "02:03:00",
          "02:05:00",
          "02:06:00",
          "02:07:00",
          "02:08:00",
          "02:09:00",
          "02:10:00",
          "02:11:00",
          "02:12:00",
          "02:13:00",
          "02:14:00",
          "02:15:00",
          "02:16:00",
          "02:17:00",
          "02:18:00",
          "02:19:00",
          "02:20:00",
          "02:21:00",
          "02:22:00",
          "02:23:00",
          "02:24:00",
          "02:25:00",
          "02:26:00",
          "02:27:00",
          "02:28:00",
          "02:29:00",
          "02:30:00",
          "02:31:00",
          "02:32:00",
          "02:33:00",
          "02:34:00",
          "02:35:00",
          "02:36:00",
          "02:37:00",
          "02:38:00",
          "02:39:00",
          "02:41:00",
          "02:42:00",
          "02:43:00",
          "02:44:00",
          "02:45:00",
          "02:46:00",
          "02:47:00",
          "02:48:00",
          "02:49:00",
          "02:50:00",
          "02:51:00",
          "02:52:00",
          "02:53:00",
          "02:54:00",
          "02:55:00",
          "02:56:00",
          "02:57:00",
          "02:58:00",
          "02:59:00"
         ],
         "xaxis": "x",
         "y": {
          "bdata": "AQACAAQABAABAAQABAA0AE8AOAADAAMAHgAIAAoABAAMAB0AxgD0AFoAQgBbAIcARAAuABgAHAAbADsAJAALABsALAAmABYABwAOAAwAJAAVABAABgACAAkAAgABAAMACAAEAAUAEgAIAAQAFQAFAAUAAQAEABAACQABAAcAAQANAAkA",
          "dtype": "i2"
         },
         "yaxis": "y"
        }
       ],
       "layout": {
        "barmode": "relative",
        "height": 550,
        "legend": {
         "title": {
          "text": "side"
         },
         "tracegroupgap": 0
        },
        "margin": {
         "t": 60
        },
        "template": {
         "data": {
          "bar": [
           {
            "error_x": {
             "color": "#2a3f5f"
            },
            "error_y": {
             "color": "#2a3f5f"
            },
            "marker": {
             "line": {
              "color": "#E5ECF6",
              "width": 0.5
             },
             "pattern": {
              "fillmode": "overlay",
              "size": 10,
              "solidity": 0.2
             }
            },
            "type": "bar"
           }
          ],
          "barpolar": [
           {
            "marker": {
             "line": {
              "color": "#E5ECF6",
              "width": 0.5
             },
             "pattern": {
              "fillmode": "overlay",
              "size": 10,
              "solidity": 0.2
             }
            },
            "type": "barpolar"
           }
          ],
          "carpet": [
           {
            "aaxis": {
             "endlinecolor": "#2a3f5f",
             "gridcolor": "white",
             "linecolor": "white",
             "minorgridcolor": "white",
             "startlinecolor": "#2a3f5f"
            },
            "baxis": {
             "endlinecolor": "#2a3f5f",
             "gridcolor": "white",
             "linecolor": "white",
             "minorgridcolor": "white",
             "startlinecolor": "#2a3f5f"
            },
            "type": "carpet"
           }
          ],
          "choropleth": [
           {
            "colorbar": {
             "outlinewidth": 0,
             "ticks": ""
            },
            "type": "choropleth"
           }
          ],
          "contour": [
           {
            "colorbar": {
             "outlinewidth": 0,
             "ticks": ""
            },
            "colorscale": [
             [
              0,
              "#0d0887"
             ],
             [
              0.1111111111111111,
              "#46039f"
             ],
             [
              0.2222222222222222,
              "#7201a8"
             ],
             [
              0.3333333333333333,
              "#9c179e"
             ],
             [
              0.4444444444444444,
              "#bd3786"
             ],
             [
              0.5555555555555556,
              "#d8576b"
             ],
             [
              0.6666666666666666,
              "#ed7953"
             ],
             [
              0.7777777777777778,
              "#fb9f3a"
             ],
             [
              0.8888888888888888,
              "#fdca26"
             ],
             [
              1,
              "#f0f921"
             ]
            ],
            "type": "contour"
           }
          ],
          "contourcarpet": [
           {
            "colorbar": {
             "outlinewidth": 0,
             "ticks": ""
            },
            "type": "contourcarpet"
           }
          ],
          "heatmap": [
           {
            "colorbar": {
             "outlinewidth": 0,
             "ticks": ""
            },
            "colorscale": [
             [
              0,
              "#0d0887"
             ],
             [
              0.1111111111111111,
              "#46039f"
             ],
             [
              0.2222222222222222,
              "#7201a8"
             ],
             [
              0.3333333333333333,
              "#9c179e"
             ],
             [
              0.4444444444444444,
              "#bd3786"
             ],
             [
              0.5555555555555556,
              "#d8576b"
             ],
             [
              0.6666666666666666,
              "#ed7953"
             ],
             [
              0.7777777777777778,
              "#fb9f3a"
             ],
             [
              0.8888888888888888,
              "#fdca26"
             ],
             [
              1,
              "#f0f921"
             ]
            ],
            "type": "heatmap"
           }
          ],
          "histogram": [
           {
            "marker": {
             "pattern": {
              "fillmode": "overlay",
              "size": 10,
              "solidity": 0.2
             }
            },
            "type": "histogram"
           }
          ],
          "histogram2d": [
           {
            "colorbar": {
             "outlinewidth": 0,
             "ticks": ""
            },
            "colorscale": [
             [
              0,
              "#0d0887"
             ],
             [
              0.1111111111111111,
              "#46039f"
             ],
             [
              0.2222222222222222,
              "#7201a8"
             ],
             [
              0.3333333333333333,
              "#9c179e"
             ],
             [
              0.4444444444444444,
              "#bd3786"
             ],
             [
              0.5555555555555556,
              "#d8576b"
             ],
             [
              0.6666666666666666,
              "#ed7953"
             ],
             [
              0.7777777777777778,
              "#fb9f3a"
             ],
             [
              0.8888888888888888,
              "#fdca26"
             ],
             [
              1,
              "#f0f921"
             ]
            ],
            "type": "histogram2d"
           }
          ],
          "histogram2dcontour": [
           {
            "colorbar": {
             "outlinewidth": 0,
             "ticks": ""
            },
            "colorscale": [
             [
              0,
              "#0d0887"
             ],
             [
              0.1111111111111111,
              "#46039f"
             ],
             [
              0.2222222222222222,
              "#7201a8"
             ],
             [
              0.3333333333333333,
              "#9c179e"
             ],
             [
              0.4444444444444444,
              "#bd3786"
             ],
             [
              0.5555555555555556,
              "#d8576b"
             ],
             [
              0.6666666666666666,
              "#ed7953"
             ],
             [
              0.7777777777777778,
              "#fb9f3a"
             ],
             [
              0.8888888888888888,
              "#fdca26"
             ],
             [
              1,
              "#f0f921"
             ]
            ],
            "type": "histogram2dcontour"
           }
          ],
          "mesh3d": [
           {
            "colorbar": {
             "outlinewidth": 0,
             "ticks": ""
            },
            "type": "mesh3d"
           }
          ],
          "parcoords": [
           {
            "line": {
             "colorbar": {
              "outlinewidth": 0,
              "ticks": ""
             }
            },
            "type": "parcoords"
           }
          ],
          "pie": [
           {
            "automargin": true,
            "type": "pie"
           }
          ],
          "scatter": [
           {
            "fillpattern": {
             "fillmode": "overlay",
             "size": 10,
             "solidity": 0.2
            },
            "type": "scatter"
           }
          ],
          "scatter3d": [
           {
            "line": {
             "colorbar": {
              "outlinewidth": 0,
              "ticks": ""
             }
            },
            "marker": {
             "colorbar": {
              "outlinewidth": 0,
              "ticks": ""
             }
            },
            "type": "scatter3d"
           }
          ],
          "scattercarpet": [
           {
            "marker": {
             "colorbar": {
              "outlinewidth": 0,
              "ticks": ""
             }
            },
            "type": "scattercarpet"
           }
          ],
          "scattergeo": [
           {
            "marker": {
             "colorbar": {
              "outlinewidth": 0,
              "ticks": ""
             }
            },
            "type": "scattergeo"
           }
          ],
          "scattergl": [
           {
            "marker": {
             "colorbar": {
              "outlinewidth": 0,
              "ticks": ""
             }
            },
            "type": "scattergl"
           }
          ],
          "scattermap": [
           {
            "marker": {
             "colorbar": {
              "outlinewidth": 0,
              "ticks": ""
             }
            },
            "type": "scattermap"
           }
          ],
          "scattermapbox": [
           {
            "marker": {
             "colorbar": {
              "outlinewidth": 0,
              "ticks": ""
             }
            },
            "type": "scattermapbox"
           }
          ],
          "scatterpolar": [
           {
            "marker": {
             "colorbar": {
              "outlinewidth": 0,
              "ticks": ""
             }
            },
            "type": "scatterpolar"
           }
          ],
          "scatterpolargl": [
           {
            "marker": {
             "colorbar": {
              "outlinewidth": 0,
              "ticks": ""
             }
            },
            "type": "scatterpolargl"
           }
          ],
          "scatterternary": [
           {
            "marker": {
             "colorbar": {
              "outlinewidth": 0,
              "ticks": ""
             }
            },
            "type": "scatterternary"
           }
          ],
          "surface": [
           {
            "colorbar": {
             "outlinewidth": 0,
             "ticks": ""
            },
            "colorscale": [
             [
              0,
              "#0d0887"
             ],
             [
              0.1111111111111111,
              "#46039f"
             ],
             [
              0.2222222222222222,
              "#7201a8"
             ],
             [
              0.3333333333333333,
              "#9c179e"
             ],
             [
              0.4444444444444444,
              "#bd3786"
             ],
             [
              0.5555555555555556,
              "#d8576b"
             ],
             [
              0.6666666666666666,
              "#ed7953"
             ],
             [
              0.7777777777777778,
              "#fb9f3a"
             ],
             [
              0.8888888888888888,
              "#fdca26"
             ],
             [
              1,
              "#f0f921"
             ]
            ],
            "type": "surface"
           }
          ],
          "table": [
           {
            "cells": {
             "fill": {
              "color": "#EBF0F8"
             },
             "line": {
              "color": "white"
             }
            },
            "header": {
             "fill": {
              "color": "#C8D4E3"
             },
             "line": {
              "color": "white"
             }
            },
            "type": "table"
           }
          ]
         },
         "layout": {
          "annotationdefaults": {
           "arrowcolor": "#2a3f5f",
           "arrowhead": 0,
           "arrowwidth": 1
          },
          "autotypenumbers": "strict",
          "coloraxis": {
           "colorbar": {
            "outlinewidth": 0,
            "ticks": ""
           }
          },
          "colorscale": {
           "diverging": [
            [
             0,
             "#8e0152"
            ],
            [
             0.1,
             "#c51b7d"
            ],
            [
             0.2,
             "#de77ae"
            ],
            [
             0.3,
             "#f1b6da"
            ],
            [
             0.4,
             "#fde0ef"
            ],
            [
             0.5,
             "#f7f7f7"
            ],
            [
             0.6,
             "#e6f5d0"
            ],
            [
             0.7,
             "#b8e186"
            ],
            [
             0.8,
             "#7fbc41"
            ],
            [
             0.9,
             "#4d9221"
            ],
            [
             1,
             "#276419"
            ]
           ],
           "sequential": [
            [
             0,
             "#0d0887"
            ],
            [
             0.1111111111111111,
             "#46039f"
            ],
            [
             0.2222222222222222,
             "#7201a8"
            ],
            [
             0.3333333333333333,
             "#9c179e"
            ],
            [
             0.4444444444444444,
             "#bd3786"
            ],
            [
             0.5555555555555556,
             "#d8576b"
            ],
            [
             0.6666666666666666,
             "#ed7953"
            ],
            [
             0.7777777777777778,
             "#fb9f3a"
            ],
            [
             0.8888888888888888,
             "#fdca26"
            ],
            [
             1,
             "#f0f921"
            ]
           ],
           "sequentialminus": [
            [
             0,
             "#0d0887"
            ],
            [
             0.1111111111111111,
             "#46039f"
            ],
            [
             0.2222222222222222,
             "#7201a8"
            ],
            [
             0.3333333333333333,
             "#9c179e"
            ],
            [
             0.4444444444444444,
             "#bd3786"
            ],
            [
             0.5555555555555556,
             "#d8576b"
            ],
            [
             0.6666666666666666,
             "#ed7953"
            ],
            [
             0.7777777777777778,
             "#fb9f3a"
            ],
            [
             0.8888888888888888,
             "#fdca26"
            ],
            [
             1,
             "#f0f921"
            ]
           ]
          },
          "colorway": [
           "#636efa",
           "#EF553B",
           "#00cc96",
           "#ab63fa",
           "#FFA15A",
           "#19d3f3",
           "#FF6692",
           "#B6E880",
           "#FF97FF",
           "#FECB52"
          ],
          "font": {
           "color": "#2a3f5f"
          },
          "geo": {
           "bgcolor": "white",
           "lakecolor": "white",
           "landcolor": "#E5ECF6",
           "showlakes": true,
           "showland": true,
           "subunitcolor": "white"
          },
          "hoverlabel": {
           "align": "left"
          },
          "hovermode": "closest",
          "mapbox": {
           "style": "light"
          },
          "paper_bgcolor": "white",
          "plot_bgcolor": "#E5ECF6",
          "polar": {
           "angularaxis": {
            "gridcolor": "white",
            "linecolor": "white",
            "ticks": ""
           },
           "bgcolor": "#E5ECF6",
           "radialaxis": {
            "gridcolor": "white",
            "linecolor": "white",
            "ticks": ""
           }
          },
          "scene": {
           "xaxis": {
            "backgroundcolor": "#E5ECF6",
            "gridcolor": "white",
            "gridwidth": 2,
            "linecolor": "white",
            "showbackground": true,
            "ticks": "",
            "zerolinecolor": "white"
           },
           "yaxis": {
            "backgroundcolor": "#E5ECF6",
            "gridcolor": "white",
            "gridwidth": 2,
            "linecolor": "white",
            "showbackground": true,
            "ticks": "",
            "zerolinecolor": "white"
           },
           "zaxis": {
            "backgroundcolor": "#E5ECF6",
            "gridcolor": "white",
            "gridwidth": 2,
            "linecolor": "white",
            "showbackground": true,
            "ticks": "",
            "zerolinecolor": "white"
           }
          },
          "shapedefaults": {
           "line": {
            "color": "#2a3f5f"
           }
          },
          "ternary": {
           "aaxis": {
            "gridcolor": "white",
            "linecolor": "white",
            "ticks": ""
           },
           "baxis": {
            "gridcolor": "white",
            "linecolor": "white",
            "ticks": ""
           },
           "bgcolor": "#E5ECF6",
           "caxis": {
            "gridcolor": "white",
            "linecolor": "white",
            "ticks": ""
           }
          },
          "title": {
           "x": 0.05
          },
          "xaxis": {
           "automargin": true,
           "gridcolor": "white",
           "linecolor": "white",
           "ticks": "",
           "title": {
            "standoff": 15
           },
           "zerolinecolor": "white",
           "zerolinewidth": 2
          },
          "yaxis": {
           "automargin": true,
           "gridcolor": "white",
           "linecolor": "white",
           "ticks": "",
           "title": {
            "standoff": 15
           },
           "zerolinecolor": "white",
           "zerolinewidth": 2
          }
         }
        },
        "title": {
         "text": "SWELL-USD Market Trade Counts on 02/10/25 between 01:30 and 03:00"
        },
        "width": 850,
        "xaxis": {
         "anchor": "y",
         "domain": [
          0,
          1
         ],
         "title": {
          "text": "Time"
         }
        },
        "yaxis": {
         "anchor": "x",
         "domain": [
          0,
          1
         ],
         "title": {
          "text": "Counts"
         }
        }
       }
      }
     },
     "metadata": {},
     "output_type": "display_data"
    },
    {
     "data": {
      "application/vnd.plotly.v1+json": {
       "config": {
        "plotlyServerURL": "https://plot.ly"
       },
       "data": [
        {
         "hovertemplate": "side=BUY<br>hm_time=%{x}<br>total=%{y}<extra></extra>",
         "legendgroup": "BUY",
         "marker": {
          "color": "#636efa",
          "pattern": {
           "shape": ""
          }
         },
         "name": "BUY",
         "orientation": "v",
         "showlegend": true,
         "textposition": "auto",
         "type": "bar",
         "x": [
          "01:30:00",
          "01:37:00",
          "01:45:00",
          "01:51:00",
          "01:52:00",
          "01:58:00",
          "01:59:00",
          "02:00:00",
          "02:01:00",
          "02:02:00",
          "02:03:00",
          "02:05:00",
          "02:06:00",
          "02:07:00",
          "02:08:00",
          "02:09:00",
          "02:10:00",
          "02:11:00",
          "02:12:00",
          "02:13:00",
          "02:14:00",
          "02:15:00",
          "02:16:00",
          "02:17:00",
          "02:18:00",
          "02:19:00",
          "02:20:00",
          "02:21:00",
          "02:22:00",
          "02:23:00",
          "02:24:00",
          "02:25:00",
          "02:26:00",
          "02:27:00",
          "02:28:00",
          "02:29:00",
          "02:30:00",
          "02:31:00",
          "02:32:00",
          "02:33:00",
          "02:34:00",
          "02:35:00",
          "02:36:00",
          "02:37:00",
          "02:38:00",
          "02:39:00",
          "02:41:00",
          "02:42:00",
          "02:43:00",
          "02:44:00",
          "02:45:00",
          "02:46:00",
          "02:47:00",
          "02:48:00",
          "02:50:00",
          "02:51:00",
          "02:52:00",
          "02:53:00",
          "02:54:00",
          "02:55:00",
          "02:56:00",
          "02:58:00",
          "02:59:00"
         ],
         "xaxis": "x",
         "y": {
          "bdata": "KT+p9ul4JkD+8V61MuG3P794Bg2dHZtALv8h/fYiikBPATCeQUWDQGalSSmoANdAx/SEJU4Ez0AueNFXuMu/QHo2qz6nerVAg6Pk1RlCoEBgzQGCGReYQFKWIY6VepxA85Nqn45Ok0AWNZiGIde/QHWTGASms7hAmEwVjMqrikB481SHfBe4QIxn0NDoiOJAnRGlvf0/7UCOI9biZd/VQJ30vvFHn95AbZBJRrKS3EDV52ordmbUQABvgQT5fd1AQSswZD1MxEB2q+ekzXLZQNPB+j/H05FAPPceLtlyk0A+XHLceQLJQIMXfQU7pORAsYo3Mg9mtECZ9WIoAzjFQINMMnIcMuBAIGPuWvZXwECcUIiAYzyvQNyAzw+jmnVABd1e0i5O3kDY8PRKodi2QJ+wxAOChMBAuw9AagP+o0CyYyMQjw61QBzO/Gq+cKdA78nDQs2PqUDSxhFr8WkAQEQ0uoNITaVA0m9fB84CfkASoKaWzYWoQIeiQJ/IimRAZqVJKcgqk0A9D+7O2uFWQKgwthBkYYlAPQrXo/BbkkCoOuRm+EmSQM3MzMzMLGFAfJv+7LfZrEAgKSLDyqmjQBWuR+F6LEFAehSuR+HGaEBi83FtqEWQQAn5oGezRqZAPCzUmgYKkUDVz5uKTNmxQELsTKFT6JdA",
          "dtype": "f8"
         },
         "yaxis": "y"
        },
        {
         "hovertemplate": "side=SELL<br>hm_time=%{x}<br>total=%{y}<extra></extra>",
         "legendgroup": "SELL",
         "marker": {
          "color": "#EF553B",
          "pattern": {
           "shape": ""
          }
         },
         "name": "SELL",
         "orientation": "v",
         "showlegend": true,
         "textposition": "auto",
         "type": "bar",
         "x": [
          "01:30:00",
          "01:32:00",
          "01:33:00",
          "01:36:00",
          "01:46:00",
          "01:51:00",
          "01:52:00",
          "01:58:00",
          "01:59:00",
          "02:00:00",
          "02:02:00",
          "02:03:00",
          "02:05:00",
          "02:06:00",
          "02:07:00",
          "02:08:00",
          "02:09:00",
          "02:10:00",
          "02:11:00",
          "02:12:00",
          "02:13:00",
          "02:14:00",
          "02:15:00",
          "02:16:00",
          "02:17:00",
          "02:18:00",
          "02:19:00",
          "02:20:00",
          "02:21:00",
          "02:22:00",
          "02:23:00",
          "02:24:00",
          "02:25:00",
          "02:26:00",
          "02:27:00",
          "02:28:00",
          "02:29:00",
          "02:30:00",
          "02:31:00",
          "02:32:00",
          "02:33:00",
          "02:34:00",
          "02:35:00",
          "02:36:00",
          "02:37:00",
          "02:38:00",
          "02:39:00",
          "02:41:00",
          "02:42:00",
          "02:43:00",
          "02:44:00",
          "02:45:00",
          "02:46:00",
          "02:47:00",
          "02:48:00",
          "02:49:00",
          "02:50:00",
          "02:51:00",
          "02:52:00",
          "02:53:00",
          "02:54:00",
          "02:55:00",
          "02:56:00",
          "02:57:00",
          "02:58:00",
          "02:59:00"
         ],
         "xaxis": "x",
         "y": {
          "bdata": "61G4HoVrB8DXhopx/iphwFrABG7dm3/AHY8ZqIzPgsD2fw7z5QXIv8doHVVNPn/AYhBYObRGcsACt+7mcSzjwBHkoISZ4OXAYcPTK8UX2sD0bFZ9rjlrwJSfVPt0X3LA5lyKq/p7wMCM8zehsNySwNAKDFlNZqXALDBkdasXNcDlfoeioGyVwKGhf4JbELrAKEnXTP8v9cBTrvCuG6cHwb6kMVr9GtPABi/6CtY/wsDZmULn85DZwPQ3oRDpWszAqdkDrUgRvsAIlE25CuTKwO7O2m3XYpnArJDyk3oNqMDNx7WhQkuZwBGN7iCmVMPABHP0+K1xwMDQ0D/BRWCdwD3yBwO/17vAr0LKT1qVwcBDOdGugne2wFTBqKS2BbfAq7LviuBIa8B7whIPyPitwFMFo5Ia75zAGkzD8DHPv8B+dOrKV4i7wJ4kXTM5BKfA0m9fB05HhMASMSWS6B07wPs/h/kyY4DA0QoMWd2CUMAUBfpEnqT/v5xyhXe5r3bAh0uOO+XJn8CvQspPqvx0wPeSxmgduoDAQDBHj49gscCWPnRB3cmZwNJSeTuC+YvAw4GQLCDZuMDUSEvl7QaMwEyOO6XjDpTAXYqryr5LPMCuDRXjfHOBwFwDWyXETcDACKwcWqSyncBmZmZmZiaBwN+mP/uRC4TAXkvIBz1LRsCgoX+Ce9yuwIsVNZiGb6TA",
          "dtype": "f8"
         },
         "yaxis": "y"
        }
       ],
       "layout": {
        "barmode": "relative",
        "height": 550,
        "legend": {
         "title": {
          "text": "side"
         },
         "tracegroupgap": 0
        },
        "margin": {
         "t": 60
        },
        "template": {
         "data": {
          "bar": [
           {
            "error_x": {
             "color": "#2a3f5f"
            },
            "error_y": {
             "color": "#2a3f5f"
            },
            "marker": {
             "line": {
              "color": "#E5ECF6",
              "width": 0.5
             },
             "pattern": {
              "fillmode": "overlay",
              "size": 10,
              "solidity": 0.2
             }
            },
            "type": "bar"
           }
          ],
          "barpolar": [
           {
            "marker": {
             "line": {
              "color": "#E5ECF6",
              "width": 0.5
             },
             "pattern": {
              "fillmode": "overlay",
              "size": 10,
              "solidity": 0.2
             }
            },
            "type": "barpolar"
           }
          ],
          "carpet": [
           {
            "aaxis": {
             "endlinecolor": "#2a3f5f",
             "gridcolor": "white",
             "linecolor": "white",
             "minorgridcolor": "white",
             "startlinecolor": "#2a3f5f"
            },
            "baxis": {
             "endlinecolor": "#2a3f5f",
             "gridcolor": "white",
             "linecolor": "white",
             "minorgridcolor": "white",
             "startlinecolor": "#2a3f5f"
            },
            "type": "carpet"
           }
          ],
          "choropleth": [
           {
            "colorbar": {
             "outlinewidth": 0,
             "ticks": ""
            },
            "type": "choropleth"
           }
          ],
          "contour": [
           {
            "colorbar": {
             "outlinewidth": 0,
             "ticks": ""
            },
            "colorscale": [
             [
              0,
              "#0d0887"
             ],
             [
              0.1111111111111111,
              "#46039f"
             ],
             [
              0.2222222222222222,
              "#7201a8"
             ],
             [
              0.3333333333333333,
              "#9c179e"
             ],
             [
              0.4444444444444444,
              "#bd3786"
             ],
             [
              0.5555555555555556,
              "#d8576b"
             ],
             [
              0.6666666666666666,
              "#ed7953"
             ],
             [
              0.7777777777777778,
              "#fb9f3a"
             ],
             [
              0.8888888888888888,
              "#fdca26"
             ],
             [
              1,
              "#f0f921"
             ]
            ],
            "type": "contour"
           }
          ],
          "contourcarpet": [
           {
            "colorbar": {
             "outlinewidth": 0,
             "ticks": ""
            },
            "type": "contourcarpet"
           }
          ],
          "heatmap": [
           {
            "colorbar": {
             "outlinewidth": 0,
             "ticks": ""
            },
            "colorscale": [
             [
              0,
              "#0d0887"
             ],
             [
              0.1111111111111111,
              "#46039f"
             ],
             [
              0.2222222222222222,
              "#7201a8"
             ],
             [
              0.3333333333333333,
              "#9c179e"
             ],
             [
              0.4444444444444444,
              "#bd3786"
             ],
             [
              0.5555555555555556,
              "#d8576b"
             ],
             [
              0.6666666666666666,
              "#ed7953"
             ],
             [
              0.7777777777777778,
              "#fb9f3a"
             ],
             [
              0.8888888888888888,
              "#fdca26"
             ],
             [
              1,
              "#f0f921"
             ]
            ],
            "type": "heatmap"
           }
          ],
          "histogram": [
           {
            "marker": {
             "pattern": {
              "fillmode": "overlay",
              "size": 10,
              "solidity": 0.2
             }
            },
            "type": "histogram"
           }
          ],
          "histogram2d": [
           {
            "colorbar": {
             "outlinewidth": 0,
             "ticks": ""
            },
            "colorscale": [
             [
              0,
              "#0d0887"
             ],
             [
              0.1111111111111111,
              "#46039f"
             ],
             [
              0.2222222222222222,
              "#7201a8"
             ],
             [
              0.3333333333333333,
              "#9c179e"
             ],
             [
              0.4444444444444444,
              "#bd3786"
             ],
             [
              0.5555555555555556,
              "#d8576b"
             ],
             [
              0.6666666666666666,
              "#ed7953"
             ],
             [
              0.7777777777777778,
              "#fb9f3a"
             ],
             [
              0.8888888888888888,
              "#fdca26"
             ],
             [
              1,
              "#f0f921"
             ]
            ],
            "type": "histogram2d"
           }
          ],
          "histogram2dcontour": [
           {
            "colorbar": {
             "outlinewidth": 0,
             "ticks": ""
            },
            "colorscale": [
             [
              0,
              "#0d0887"
             ],
             [
              0.1111111111111111,
              "#46039f"
             ],
             [
              0.2222222222222222,
              "#7201a8"
             ],
             [
              0.3333333333333333,
              "#9c179e"
             ],
             [
              0.4444444444444444,
              "#bd3786"
             ],
             [
              0.5555555555555556,
              "#d8576b"
             ],
             [
              0.6666666666666666,
              "#ed7953"
             ],
             [
              0.7777777777777778,
              "#fb9f3a"
             ],
             [
              0.8888888888888888,
              "#fdca26"
             ],
             [
              1,
              "#f0f921"
             ]
            ],
            "type": "histogram2dcontour"
           }
          ],
          "mesh3d": [
           {
            "colorbar": {
             "outlinewidth": 0,
             "ticks": ""
            },
            "type": "mesh3d"
           }
          ],
          "parcoords": [
           {
            "line": {
             "colorbar": {
              "outlinewidth": 0,
              "ticks": ""
             }
            },
            "type": "parcoords"
           }
          ],
          "pie": [
           {
            "automargin": true,
            "type": "pie"
           }
          ],
          "scatter": [
           {
            "fillpattern": {
             "fillmode": "overlay",
             "size": 10,
             "solidity": 0.2
            },
            "type": "scatter"
           }
          ],
          "scatter3d": [
           {
            "line": {
             "colorbar": {
              "outlinewidth": 0,
              "ticks": ""
             }
            },
            "marker": {
             "colorbar": {
              "outlinewidth": 0,
              "ticks": ""
             }
            },
            "type": "scatter3d"
           }
          ],
          "scattercarpet": [
           {
            "marker": {
             "colorbar": {
              "outlinewidth": 0,
              "ticks": ""
             }
            },
            "type": "scattercarpet"
           }
          ],
          "scattergeo": [
           {
            "marker": {
             "colorbar": {
              "outlinewidth": 0,
              "ticks": ""
             }
            },
            "type": "scattergeo"
           }
          ],
          "scattergl": [
           {
            "marker": {
             "colorbar": {
              "outlinewidth": 0,
              "ticks": ""
             }
            },
            "type": "scattergl"
           }
          ],
          "scattermap": [
           {
            "marker": {
             "colorbar": {
              "outlinewidth": 0,
              "ticks": ""
             }
            },
            "type": "scattermap"
           }
          ],
          "scattermapbox": [
           {
            "marker": {
             "colorbar": {
              "outlinewidth": 0,
              "ticks": ""
             }
            },
            "type": "scattermapbox"
           }
          ],
          "scatterpolar": [
           {
            "marker": {
             "colorbar": {
              "outlinewidth": 0,
              "ticks": ""
             }
            },
            "type": "scatterpolar"
           }
          ],
          "scatterpolargl": [
           {
            "marker": {
             "colorbar": {
              "outlinewidth": 0,
              "ticks": ""
             }
            },
            "type": "scatterpolargl"
           }
          ],
          "scatterternary": [
           {
            "marker": {
             "colorbar": {
              "outlinewidth": 0,
              "ticks": ""
             }
            },
            "type": "scatterternary"
           }
          ],
          "surface": [
           {
            "colorbar": {
             "outlinewidth": 0,
             "ticks": ""
            },
            "colorscale": [
             [
              0,
              "#0d0887"
             ],
             [
              0.1111111111111111,
              "#46039f"
             ],
             [
              0.2222222222222222,
              "#7201a8"
             ],
             [
              0.3333333333333333,
              "#9c179e"
             ],
             [
              0.4444444444444444,
              "#bd3786"
             ],
             [
              0.5555555555555556,
              "#d8576b"
             ],
             [
              0.6666666666666666,
              "#ed7953"
             ],
             [
              0.7777777777777778,
              "#fb9f3a"
             ],
             [
              0.8888888888888888,
              "#fdca26"
             ],
             [
              1,
              "#f0f921"
             ]
            ],
            "type": "surface"
           }
          ],
          "table": [
           {
            "cells": {
             "fill": {
              "color": "#EBF0F8"
             },
             "line": {
              "color": "white"
             }
            },
            "header": {
             "fill": {
              "color": "#C8D4E3"
             },
             "line": {
              "color": "white"
             }
            },
            "type": "table"
           }
          ]
         },
         "layout": {
          "annotationdefaults": {
           "arrowcolor": "#2a3f5f",
           "arrowhead": 0,
           "arrowwidth": 1
          },
          "autotypenumbers": "strict",
          "coloraxis": {
           "colorbar": {
            "outlinewidth": 0,
            "ticks": ""
           }
          },
          "colorscale": {
           "diverging": [
            [
             0,
             "#8e0152"
            ],
            [
             0.1,
             "#c51b7d"
            ],
            [
             0.2,
             "#de77ae"
            ],
            [
             0.3,
             "#f1b6da"
            ],
            [
             0.4,
             "#fde0ef"
            ],
            [
             0.5,
             "#f7f7f7"
            ],
            [
             0.6,
             "#e6f5d0"
            ],
            [
             0.7,
             "#b8e186"
            ],
            [
             0.8,
             "#7fbc41"
            ],
            [
             0.9,
             "#4d9221"
            ],
            [
             1,
             "#276419"
            ]
           ],
           "sequential": [
            [
             0,
             "#0d0887"
            ],
            [
             0.1111111111111111,
             "#46039f"
            ],
            [
             0.2222222222222222,
             "#7201a8"
            ],
            [
             0.3333333333333333,
             "#9c179e"
            ],
            [
             0.4444444444444444,
             "#bd3786"
            ],
            [
             0.5555555555555556,
             "#d8576b"
            ],
            [
             0.6666666666666666,
             "#ed7953"
            ],
            [
             0.7777777777777778,
             "#fb9f3a"
            ],
            [
             0.8888888888888888,
             "#fdca26"
            ],
            [
             1,
             "#f0f921"
            ]
           ],
           "sequentialminus": [
            [
             0,
             "#0d0887"
            ],
            [
             0.1111111111111111,
             "#46039f"
            ],
            [
             0.2222222222222222,
             "#7201a8"
            ],
            [
             0.3333333333333333,
             "#9c179e"
            ],
            [
             0.4444444444444444,
             "#bd3786"
            ],
            [
             0.5555555555555556,
             "#d8576b"
            ],
            [
             0.6666666666666666,
             "#ed7953"
            ],
            [
             0.7777777777777778,
             "#fb9f3a"
            ],
            [
             0.8888888888888888,
             "#fdca26"
            ],
            [
             1,
             "#f0f921"
            ]
           ]
          },
          "colorway": [
           "#636efa",
           "#EF553B",
           "#00cc96",
           "#ab63fa",
           "#FFA15A",
           "#19d3f3",
           "#FF6692",
           "#B6E880",
           "#FF97FF",
           "#FECB52"
          ],
          "font": {
           "color": "#2a3f5f"
          },
          "geo": {
           "bgcolor": "white",
           "lakecolor": "white",
           "landcolor": "#E5ECF6",
           "showlakes": true,
           "showland": true,
           "subunitcolor": "white"
          },
          "hoverlabel": {
           "align": "left"
          },
          "hovermode": "closest",
          "mapbox": {
           "style": "light"
          },
          "paper_bgcolor": "white",
          "plot_bgcolor": "#E5ECF6",
          "polar": {
           "angularaxis": {
            "gridcolor": "white",
            "linecolor": "white",
            "ticks": ""
           },
           "bgcolor": "#E5ECF6",
           "radialaxis": {
            "gridcolor": "white",
            "linecolor": "white",
            "ticks": ""
           }
          },
          "scene": {
           "xaxis": {
            "backgroundcolor": "#E5ECF6",
            "gridcolor": "white",
            "gridwidth": 2,
            "linecolor": "white",
            "showbackground": true,
            "ticks": "",
            "zerolinecolor": "white"
           },
           "yaxis": {
            "backgroundcolor": "#E5ECF6",
            "gridcolor": "white",
            "gridwidth": 2,
            "linecolor": "white",
            "showbackground": true,
            "ticks": "",
            "zerolinecolor": "white"
           },
           "zaxis": {
            "backgroundcolor": "#E5ECF6",
            "gridcolor": "white",
            "gridwidth": 2,
            "linecolor": "white",
            "showbackground": true,
            "ticks": "",
            "zerolinecolor": "white"
           }
          },
          "shapedefaults": {
           "line": {
            "color": "#2a3f5f"
           }
          },
          "ternary": {
           "aaxis": {
            "gridcolor": "white",
            "linecolor": "white",
            "ticks": ""
           },
           "baxis": {
            "gridcolor": "white",
            "linecolor": "white",
            "ticks": ""
           },
           "bgcolor": "#E5ECF6",
           "caxis": {
            "gridcolor": "white",
            "linecolor": "white",
            "ticks": ""
           }
          },
          "title": {
           "x": 0.05
          },
          "xaxis": {
           "automargin": true,
           "gridcolor": "white",
           "linecolor": "white",
           "ticks": "",
           "title": {
            "standoff": 15
           },
           "zerolinecolor": "white",
           "zerolinewidth": 2
          },
          "yaxis": {
           "automargin": true,
           "gridcolor": "white",
           "linecolor": "white",
           "ticks": "",
           "title": {
            "standoff": 15
           },
           "zerolinecolor": "white",
           "zerolinewidth": 2
          }
         }
        },
        "title": {
         "text": "SWELL-USD Market Trade Totals on Feb 10 between 01:30 and 03:00"
        },
        "width": 850,
        "xaxis": {
         "anchor": "y",
         "domain": [
          0,
          1
         ],
         "title": {
          "text": "Time"
         }
        },
        "yaxis": {
         "anchor": "x",
         "domain": [
          0,
          1
         ],
         "title": {
          "text": "Total"
         }
        }
       }
      }
     },
     "metadata": {},
     "output_type": "display_data"
    }
   ],
   "source": [
    "fig_pricechange.show()\n",
    "fig_tradecounts.show()\n",
    "fig_tradetotals.show()"
   ]
  },
  {
   "cell_type": "code",
   "execution_count": 18,
   "metadata": {},
   "outputs": [
    {
     "name": "stdout",
     "output_type": "stream",
     "text": [
      "ARB-USD\n",
      "2024-08-01 00:00:00-08:00\n",
      "2025-01-31 23:59:59-08:00\n"
     ]
    }
   ],
   "source": [
    "# Weekday Analysis\n",
    "trading_pair = 'ARB-USD'\n",
    "weekday_start = datetime.datetime(year=2024, month=8, day=1, tzinfo=cb.LOCAL_TZ)\n",
    "weekday_end = datetime.datetime(year=2025, month=2, day=1, tzinfo=cb.LOCAL_TZ) - datetime.timedelta(seconds=1)\n",
    "print(trading_pair)\n",
    "print(weekday_start)\n",
    "print(weekday_end)"
   ]
  },
  {
   "cell_type": "code",
   "execution_count": 19,
   "metadata": {},
   "outputs": [],
   "source": [
    "# candles = cb.get_asset_candles(client=client, product_id=trading_pair, granularity=cb.Granularity.ONE_DAY, start=weekday_start, end=weekday_end)\n",
    "# for candle_data in candles:\n",
    "#     candle = Candle(candle_data)\n",
    "#     dbms.add_item(table_name='candles', values=candle.get_values())\n",
    "# print(f'Fetched and uploaded {len(candles)} candles')"
   ]
  },
  {
   "cell_type": "code",
   "execution_count": 20,
   "metadata": {},
   "outputs": [
    {
     "data": {
      "text/html": [
       "<div>\n",
       "<style scoped>\n",
       "    .dataframe tbody tr th:only-of-type {\n",
       "        vertical-align: middle;\n",
       "    }\n",
       "\n",
       "    .dataframe tbody tr th {\n",
       "        vertical-align: top;\n",
       "    }\n",
       "\n",
       "    .dataframe thead th {\n",
       "        text-align: right;\n",
       "    }\n",
       "</style>\n",
       "<table border=\"1\" class=\"dataframe\">\n",
       "  <thead>\n",
       "    <tr style=\"text-align: right;\">\n",
       "      <th></th>\n",
       "      <th>candle_id</th>\n",
       "      <th>date</th>\n",
       "      <th>start</th>\n",
       "      <th>trading_pair</th>\n",
       "      <th>open</th>\n",
       "      <th>high</th>\n",
       "      <th>low</th>\n",
       "      <th>close</th>\n",
       "      <th>volume</th>\n",
       "      <th>price_change</th>\n",
       "      <th>price_direction</th>\n",
       "      <th>weekday</th>\n",
       "      <th>month</th>\n",
       "      <th>month-year</th>\n",
       "      <th>percent_change</th>\n",
       "    </tr>\n",
       "  </thead>\n",
       "  <tbody>\n",
       "    <tr>\n",
       "      <th>0</th>\n",
       "      <td>ARB-1734480000</td>\n",
       "      <td>2024-12-17 16:00:00-08:00</td>\n",
       "      <td>1734480000</td>\n",
       "      <td>ARB-USD</td>\n",
       "      <td>0.9492</td>\n",
       "      <td>0.9558</td>\n",
       "      <td>0.8510</td>\n",
       "      <td>0.8615</td>\n",
       "      <td>9782590.86</td>\n",
       "      <td>-0.0877</td>\n",
       "      <td>Negative</td>\n",
       "      <td>Tuesday</td>\n",
       "      <td>12</td>\n",
       "      <td>2024-12</td>\n",
       "      <td>-9.239359</td>\n",
       "    </tr>\n",
       "    <tr>\n",
       "      <th>1</th>\n",
       "      <td>ARB-1734393600</td>\n",
       "      <td>2024-12-16 16:00:00-08:00</td>\n",
       "      <td>1734393600</td>\n",
       "      <td>ARB-USD</td>\n",
       "      <td>1.0034</td>\n",
       "      <td>1.0167</td>\n",
       "      <td>0.9343</td>\n",
       "      <td>0.9489</td>\n",
       "      <td>6079050.40</td>\n",
       "      <td>-0.0545</td>\n",
       "      <td>Negative</td>\n",
       "      <td>Monday</td>\n",
       "      <td>12</td>\n",
       "      <td>2024-12</td>\n",
       "      <td>-5.431533</td>\n",
       "    </tr>\n",
       "    <tr>\n",
       "      <th>2</th>\n",
       "      <td>ARB-1734307200</td>\n",
       "      <td>2024-12-15 16:00:00-08:00</td>\n",
       "      <td>1734307200</td>\n",
       "      <td>ARB-USD</td>\n",
       "      <td>1.0169</td>\n",
       "      <td>1.0546</td>\n",
       "      <td>0.9643</td>\n",
       "      <td>1.0032</td>\n",
       "      <td>11107753.24</td>\n",
       "      <td>-0.0137</td>\n",
       "      <td>Negative</td>\n",
       "      <td>Sunday</td>\n",
       "      <td>12</td>\n",
       "      <td>2024-12</td>\n",
       "      <td>-1.347232</td>\n",
       "    </tr>\n",
       "    <tr>\n",
       "      <th>3</th>\n",
       "      <td>ARB-1735516800</td>\n",
       "      <td>2024-12-29 16:00:00-08:00</td>\n",
       "      <td>1735516800</td>\n",
       "      <td>ARB-USD</td>\n",
       "      <td>0.7414</td>\n",
       "      <td>0.7702</td>\n",
       "      <td>0.7161</td>\n",
       "      <td>0.7319</td>\n",
       "      <td>14215223.65</td>\n",
       "      <td>-0.0095</td>\n",
       "      <td>Negative</td>\n",
       "      <td>Sunday</td>\n",
       "      <td>12</td>\n",
       "      <td>2024-12</td>\n",
       "      <td>-1.281360</td>\n",
       "    </tr>\n",
       "    <tr>\n",
       "      <th>4</th>\n",
       "      <td>ARB-1735430400</td>\n",
       "      <td>2024-12-28 16:00:00-08:00</td>\n",
       "      <td>1735430400</td>\n",
       "      <td>ARB-USD</td>\n",
       "      <td>0.7755</td>\n",
       "      <td>0.7819</td>\n",
       "      <td>0.7326</td>\n",
       "      <td>0.7411</td>\n",
       "      <td>2435685.80</td>\n",
       "      <td>-0.0344</td>\n",
       "      <td>Negative</td>\n",
       "      <td>Saturday</td>\n",
       "      <td>12</td>\n",
       "      <td>2024-12</td>\n",
       "      <td>-4.435848</td>\n",
       "    </tr>\n",
       "  </tbody>\n",
       "</table>\n",
       "</div>"
      ],
      "text/plain": [
       "        candle_id                       date       start trading_pair    open  \\\n",
       "0  ARB-1734480000  2024-12-17 16:00:00-08:00  1734480000      ARB-USD  0.9492   \n",
       "1  ARB-1734393600  2024-12-16 16:00:00-08:00  1734393600      ARB-USD  1.0034   \n",
       "2  ARB-1734307200  2024-12-15 16:00:00-08:00  1734307200      ARB-USD  1.0169   \n",
       "3  ARB-1735516800  2024-12-29 16:00:00-08:00  1735516800      ARB-USD  0.7414   \n",
       "4  ARB-1735430400  2024-12-28 16:00:00-08:00  1735430400      ARB-USD  0.7755   \n",
       "\n",
       "     high     low   close       volume  price_change price_direction  \\\n",
       "0  0.9558  0.8510  0.8615   9782590.86       -0.0877        Negative   \n",
       "1  1.0167  0.9343  0.9489   6079050.40       -0.0545        Negative   \n",
       "2  1.0546  0.9643  1.0032  11107753.24       -0.0137        Negative   \n",
       "3  0.7702  0.7161  0.7319  14215223.65       -0.0095        Negative   \n",
       "4  0.7819  0.7326  0.7411   2435685.80       -0.0344        Negative   \n",
       "\n",
       "    weekday  month month-year  percent_change  \n",
       "0   Tuesday     12    2024-12       -9.239359  \n",
       "1    Monday     12    2024-12       -5.431533  \n",
       "2    Sunday     12    2024-12       -1.347232  \n",
       "3    Sunday     12    2024-12       -1.281360  \n",
       "4  Saturday     12    2024-12       -4.435848  "
      ]
     },
     "execution_count": 20,
     "metadata": {},
     "output_type": "execute_result"
    }
   ],
   "source": [
    "res = dbms.get_items(table_name='candles', where_statement=f\"WHERE trading_pair='{trading_pair}' AND date BETWEEN '{weekday_start.date()}' AND '{weekday_end.date()}'\")\n",
    "weekday_candles = [Candle(data) for data in res]\n",
    "\n",
    "df_weekday_candles = pd.DataFrame(data=[candle.to_dict() for candle in weekday_candles])\n",
    "\n",
    "df_weekday_candles['price_change'] = df_weekday_candles['close'] - df_weekday_candles['open']\n",
    "df_weekday_candles['price_direction'] = df_weekday_candles['price_change'].transform(lambda x: 'Positive' if x > 0 else 'Negative')\n",
    "df_weekday_candles['weekday'] = df_weekday_candles['date'].transform(lambda x: x.strftime('%A'))\n",
    "df_weekday_candles['month'] = df_weekday_candles['date'].transform(lambda x: x.month)\n",
    "df_weekday_candles['month-year'] = df_weekday_candles['date'].transform(lambda x: x.strftime('%Y-%m'))\n",
    "df_weekday_candles['percent_change'] = (df_weekday_candles['price_change'] / df_weekday_candles['open']) * 100\n",
    "\n",
    "df_weekday_candles.head()"
   ]
  },
  {
   "cell_type": "code",
   "execution_count": 21,
   "metadata": {},
   "outputs": [],
   "source": [
    "months = list(map(int, df_weekday_candles['month'].unique()))\n",
    "month_years = list(df_weekday_candles['month-year'].unique())\n",
    "month_years_order = sorted(month_years)\n",
    "weekdays_order = ['Sunday', 'Monday', 'Tuesday', 'Wednesday', 'Thursday', 'Friday', 'Saturday']"
   ]
  },
  {
   "cell_type": "code",
   "execution_count": 22,
   "metadata": {},
   "outputs": [
    {
     "data": {
      "application/vnd.plotly.v1+json": {
       "config": {
        "plotlyServerURL": "https://plot.ly"
       },
       "data": [
        {
         "alignmentgroup": "True",
         "hovertemplate": "price_direction=Negative<br>month-year=2024-08<br>weekday=%{x}<br>counts=%{y}<extra></extra>",
         "legendgroup": "Negative",
         "marker": {
          "color": "#636efa",
          "pattern": {
           "shape": ""
          }
         },
         "name": "Negative",
         "offsetgroup": "Negative",
         "orientation": "v",
         "showlegend": true,
         "textposition": "auto",
         "type": "bar",
         "x": [
          "Friday",
          "Monday",
          "Saturday",
          "Sunday",
          "Thursday",
          "Tuesday",
          "Wednesday"
         ],
         "xaxis": "x6",
         "y": {
          "bdata": "AQMFAgIDAg==",
          "dtype": "i1"
         },
         "yaxis": "y6"
        },
        {
         "alignmentgroup": "True",
         "hovertemplate": "price_direction=Negative<br>month-year=2024-09<br>weekday=%{x}<br>counts=%{y}<extra></extra>",
         "legendgroup": "Negative",
         "marker": {
          "color": "#636efa",
          "pattern": {
           "shape": ""
          }
         },
         "name": "Negative",
         "offsetgroup": "Negative",
         "orientation": "v",
         "showlegend": false,
         "textposition": "auto",
         "type": "bar",
         "x": [
          "Friday",
          "Monday",
          "Saturday",
          "Sunday",
          "Thursday",
          "Tuesday"
         ],
         "xaxis": "x5",
         "y": {
          "bdata": "AgIDAwEC",
          "dtype": "i1"
         },
         "yaxis": "y5"
        },
        {
         "alignmentgroup": "True",
         "hovertemplate": "price_direction=Negative<br>month-year=2024-10<br>weekday=%{x}<br>counts=%{y}<extra></extra>",
         "legendgroup": "Negative",
         "marker": {
          "color": "#636efa",
          "pattern": {
           "shape": ""
          }
         },
         "name": "Negative",
         "offsetgroup": "Negative",
         "orientation": "v",
         "showlegend": false,
         "textposition": "auto",
         "type": "bar",
         "x": [
          "Friday",
          "Monday",
          "Saturday",
          "Sunday",
          "Thursday",
          "Tuesday",
          "Wednesday"
         ],
         "xaxis": "x4",
         "y": {
          "bdata": "AQIBAgIEAg==",
          "dtype": "i1"
         },
         "yaxis": "y4"
        },
        {
         "alignmentgroup": "True",
         "hovertemplate": "price_direction=Negative<br>month-year=2024-11<br>weekday=%{x}<br>counts=%{y}<extra></extra>",
         "legendgroup": "Negative",
         "marker": {
          "color": "#636efa",
          "pattern": {
           "shape": ""
          }
         },
         "name": "Negative",
         "offsetgroup": "Negative",
         "orientation": "v",
         "showlegend": false,
         "textposition": "auto",
         "type": "bar",
         "x": [
          "Friday",
          "Monday",
          "Saturday",
          "Sunday",
          "Tuesday",
          "Wednesday"
         ],
         "xaxis": "x3",
         "y": {
          "bdata": "AQMDAQIC",
          "dtype": "i1"
         },
         "yaxis": "y3"
        },
        {
         "alignmentgroup": "True",
         "hovertemplate": "price_direction=Negative<br>month-year=2024-12<br>weekday=%{x}<br>counts=%{y}<extra></extra>",
         "legendgroup": "Negative",
         "marker": {
          "color": "#636efa",
          "pattern": {
           "shape": ""
          }
         },
         "name": "Negative",
         "offsetgroup": "Negative",
         "orientation": "v",
         "showlegend": false,
         "textposition": "auto",
         "type": "bar",
         "x": [
          "Friday",
          "Monday",
          "Saturday",
          "Sunday",
          "Tuesday",
          "Wednesday"
         ],
         "xaxis": "x2",
         "y": {
          "bdata": "AwMDAwID",
          "dtype": "i1"
         },
         "yaxis": "y2"
        },
        {
         "alignmentgroup": "True",
         "hovertemplate": "price_direction=Negative<br>month-year=2025-01<br>weekday=%{x}<br>counts=%{y}<extra></extra>",
         "legendgroup": "Negative",
         "marker": {
          "color": "#636efa",
          "pattern": {
           "shape": ""
          }
         },
         "name": "Negative",
         "offsetgroup": "Negative",
         "orientation": "v",
         "showlegend": false,
         "textposition": "auto",
         "type": "bar",
         "x": [
          "Friday",
          "Monday",
          "Saturday",
          "Sunday",
          "Thursday",
          "Tuesday",
          "Wednesday"
         ],
         "xaxis": "x",
         "y": {
          "bdata": "AwIDAwECAg==",
          "dtype": "i1"
         },
         "yaxis": "y"
        },
        {
         "alignmentgroup": "True",
         "hovertemplate": "price_direction=Positive<br>month-year=2024-08<br>weekday=%{x}<br>counts=%{y}<extra></extra>",
         "legendgroup": "Positive",
         "marker": {
          "color": "#EF553B",
          "pattern": {
           "shape": ""
          }
         },
         "name": "Positive",
         "offsetgroup": "Positive",
         "orientation": "v",
         "showlegend": true,
         "textposition": "auto",
         "type": "bar",
         "x": [
          "Friday",
          "Monday",
          "Sunday",
          "Thursday",
          "Tuesday",
          "Wednesday"
         ],
         "xaxis": "x6",
         "y": {
          "bdata": "BAECAwEC",
          "dtype": "i1"
         },
         "yaxis": "y6"
        },
        {
         "alignmentgroup": "True",
         "hovertemplate": "price_direction=Positive<br>month-year=2024-09<br>weekday=%{x}<br>counts=%{y}<extra></extra>",
         "legendgroup": "Positive",
         "marker": {
          "color": "#EF553B",
          "pattern": {
           "shape": ""
          }
         },
         "name": "Positive",
         "offsetgroup": "Positive",
         "orientation": "v",
         "showlegend": false,
         "textposition": "auto",
         "type": "bar",
         "x": [
          "Friday",
          "Monday",
          "Saturday",
          "Sunday",
          "Thursday",
          "Tuesday",
          "Wednesday"
         ],
         "xaxis": "x5",
         "y": {
          "bdata": "AgMBAgMCBA==",
          "dtype": "i1"
         },
         "yaxis": "y5"
        },
        {
         "alignmentgroup": "True",
         "hovertemplate": "price_direction=Positive<br>month-year=2024-10<br>weekday=%{x}<br>counts=%{y}<extra></extra>",
         "legendgroup": "Positive",
         "marker": {
          "color": "#EF553B",
          "pattern": {
           "shape": ""
          }
         },
         "name": "Positive",
         "offsetgroup": "Positive",
         "orientation": "v",
         "showlegend": false,
         "textposition": "auto",
         "type": "bar",
         "x": [
          "Friday",
          "Monday",
          "Saturday",
          "Sunday",
          "Thursday",
          "Tuesday",
          "Wednesday"
         ],
         "xaxis": "x4",
         "y": {
          "bdata": "AwIDAgMBAw==",
          "dtype": "i1"
         },
         "yaxis": "y4"
        },
        {
         "alignmentgroup": "True",
         "hovertemplate": "price_direction=Positive<br>month-year=2024-11<br>weekday=%{x}<br>counts=%{y}<extra></extra>",
         "legendgroup": "Positive",
         "marker": {
          "color": "#EF553B",
          "pattern": {
           "shape": ""
          }
         },
         "name": "Positive",
         "offsetgroup": "Positive",
         "orientation": "v",
         "showlegend": false,
         "textposition": "auto",
         "type": "bar",
         "x": [
          "Friday",
          "Monday",
          "Saturday",
          "Sunday",
          "Thursday",
          "Tuesday",
          "Wednesday"
         ],
         "xaxis": "x3",
         "y": {
          "bdata": "BAECAwQCAg==",
          "dtype": "i1"
         },
         "yaxis": "y3"
        },
        {
         "alignmentgroup": "True",
         "hovertemplate": "price_direction=Positive<br>month-year=2024-12<br>weekday=%{x}<br>counts=%{y}<extra></extra>",
         "legendgroup": "Positive",
         "marker": {
          "color": "#EF553B",
          "pattern": {
           "shape": ""
          }
         },
         "name": "Positive",
         "offsetgroup": "Positive",
         "orientation": "v",
         "showlegend": false,
         "textposition": "auto",
         "type": "bar",
         "x": [
          "Friday",
          "Monday",
          "Saturday",
          "Sunday",
          "Thursday",
          "Tuesday",
          "Wednesday"
         ],
         "xaxis": "x2",
         "y": {
          "bdata": "AQIBAgQDAQ==",
          "dtype": "i1"
         },
         "yaxis": "y2"
        },
        {
         "alignmentgroup": "True",
         "hovertemplate": "price_direction=Positive<br>month-year=2025-01<br>weekday=%{x}<br>counts=%{y}<extra></extra>",
         "legendgroup": "Positive",
         "marker": {
          "color": "#EF553B",
          "pattern": {
           "shape": ""
          }
         },
         "name": "Positive",
         "offsetgroup": "Positive",
         "orientation": "v",
         "showlegend": false,
         "textposition": "auto",
         "type": "bar",
         "x": [
          "Friday",
          "Monday",
          "Saturday",
          "Sunday",
          "Thursday",
          "Tuesday",
          "Wednesday"
         ],
         "xaxis": "x",
         "y": {
          "bdata": "AgIBAQQCAw==",
          "dtype": "i1"
         },
         "yaxis": "y"
        }
       ],
       "layout": {
        "annotations": [
         {
          "font": {},
          "showarrow": false,
          "text": "2025-01",
          "textangle": 90,
          "x": 0.98,
          "xanchor": "left",
          "xref": "paper",
          "y": 0.07083333333333333,
          "yanchor": "middle",
          "yref": "paper"
         },
         {
          "font": {},
          "showarrow": false,
          "text": "2024-12",
          "textangle": 90,
          "x": 0.98,
          "xanchor": "left",
          "xref": "paper",
          "y": 0.2425,
          "yanchor": "middle",
          "yref": "paper"
         },
         {
          "font": {},
          "showarrow": false,
          "text": "2024-11",
          "textangle": 90,
          "x": 0.98,
          "xanchor": "left",
          "xref": "paper",
          "y": 0.4141666666666667,
          "yanchor": "middle",
          "yref": "paper"
         },
         {
          "font": {},
          "showarrow": false,
          "text": "2024-10",
          "textangle": 90,
          "x": 0.98,
          "xanchor": "left",
          "xref": "paper",
          "y": 0.5858333333333334,
          "yanchor": "middle",
          "yref": "paper"
         },
         {
          "font": {},
          "showarrow": false,
          "text": "2024-09",
          "textangle": 90,
          "x": 0.98,
          "xanchor": "left",
          "xref": "paper",
          "y": 0.7575000000000001,
          "yanchor": "middle",
          "yref": "paper"
         },
         {
          "font": {},
          "showarrow": false,
          "text": "2024-08",
          "textangle": 90,
          "x": 0.98,
          "xanchor": "left",
          "xref": "paper",
          "y": 0.9291666666666667,
          "yanchor": "middle",
          "yref": "paper"
         }
        ],
        "barmode": "group",
        "height": 550,
        "legend": {
         "title": {
          "text": "price_direction"
         },
         "tracegroupgap": 0
        },
        "margin": {
         "t": 60
        },
        "template": {
         "data": {
          "bar": [
           {
            "error_x": {
             "color": "#2a3f5f"
            },
            "error_y": {
             "color": "#2a3f5f"
            },
            "marker": {
             "line": {
              "color": "#E5ECF6",
              "width": 0.5
             },
             "pattern": {
              "fillmode": "overlay",
              "size": 10,
              "solidity": 0.2
             }
            },
            "type": "bar"
           }
          ],
          "barpolar": [
           {
            "marker": {
             "line": {
              "color": "#E5ECF6",
              "width": 0.5
             },
             "pattern": {
              "fillmode": "overlay",
              "size": 10,
              "solidity": 0.2
             }
            },
            "type": "barpolar"
           }
          ],
          "carpet": [
           {
            "aaxis": {
             "endlinecolor": "#2a3f5f",
             "gridcolor": "white",
             "linecolor": "white",
             "minorgridcolor": "white",
             "startlinecolor": "#2a3f5f"
            },
            "baxis": {
             "endlinecolor": "#2a3f5f",
             "gridcolor": "white",
             "linecolor": "white",
             "minorgridcolor": "white",
             "startlinecolor": "#2a3f5f"
            },
            "type": "carpet"
           }
          ],
          "choropleth": [
           {
            "colorbar": {
             "outlinewidth": 0,
             "ticks": ""
            },
            "type": "choropleth"
           }
          ],
          "contour": [
           {
            "colorbar": {
             "outlinewidth": 0,
             "ticks": ""
            },
            "colorscale": [
             [
              0,
              "#0d0887"
             ],
             [
              0.1111111111111111,
              "#46039f"
             ],
             [
              0.2222222222222222,
              "#7201a8"
             ],
             [
              0.3333333333333333,
              "#9c179e"
             ],
             [
              0.4444444444444444,
              "#bd3786"
             ],
             [
              0.5555555555555556,
              "#d8576b"
             ],
             [
              0.6666666666666666,
              "#ed7953"
             ],
             [
              0.7777777777777778,
              "#fb9f3a"
             ],
             [
              0.8888888888888888,
              "#fdca26"
             ],
             [
              1,
              "#f0f921"
             ]
            ],
            "type": "contour"
           }
          ],
          "contourcarpet": [
           {
            "colorbar": {
             "outlinewidth": 0,
             "ticks": ""
            },
            "type": "contourcarpet"
           }
          ],
          "heatmap": [
           {
            "colorbar": {
             "outlinewidth": 0,
             "ticks": ""
            },
            "colorscale": [
             [
              0,
              "#0d0887"
             ],
             [
              0.1111111111111111,
              "#46039f"
             ],
             [
              0.2222222222222222,
              "#7201a8"
             ],
             [
              0.3333333333333333,
              "#9c179e"
             ],
             [
              0.4444444444444444,
              "#bd3786"
             ],
             [
              0.5555555555555556,
              "#d8576b"
             ],
             [
              0.6666666666666666,
              "#ed7953"
             ],
             [
              0.7777777777777778,
              "#fb9f3a"
             ],
             [
              0.8888888888888888,
              "#fdca26"
             ],
             [
              1,
              "#f0f921"
             ]
            ],
            "type": "heatmap"
           }
          ],
          "histogram": [
           {
            "marker": {
             "pattern": {
              "fillmode": "overlay",
              "size": 10,
              "solidity": 0.2
             }
            },
            "type": "histogram"
           }
          ],
          "histogram2d": [
           {
            "colorbar": {
             "outlinewidth": 0,
             "ticks": ""
            },
            "colorscale": [
             [
              0,
              "#0d0887"
             ],
             [
              0.1111111111111111,
              "#46039f"
             ],
             [
              0.2222222222222222,
              "#7201a8"
             ],
             [
              0.3333333333333333,
              "#9c179e"
             ],
             [
              0.4444444444444444,
              "#bd3786"
             ],
             [
              0.5555555555555556,
              "#d8576b"
             ],
             [
              0.6666666666666666,
              "#ed7953"
             ],
             [
              0.7777777777777778,
              "#fb9f3a"
             ],
             [
              0.8888888888888888,
              "#fdca26"
             ],
             [
              1,
              "#f0f921"
             ]
            ],
            "type": "histogram2d"
           }
          ],
          "histogram2dcontour": [
           {
            "colorbar": {
             "outlinewidth": 0,
             "ticks": ""
            },
            "colorscale": [
             [
              0,
              "#0d0887"
             ],
             [
              0.1111111111111111,
              "#46039f"
             ],
             [
              0.2222222222222222,
              "#7201a8"
             ],
             [
              0.3333333333333333,
              "#9c179e"
             ],
             [
              0.4444444444444444,
              "#bd3786"
             ],
             [
              0.5555555555555556,
              "#d8576b"
             ],
             [
              0.6666666666666666,
              "#ed7953"
             ],
             [
              0.7777777777777778,
              "#fb9f3a"
             ],
             [
              0.8888888888888888,
              "#fdca26"
             ],
             [
              1,
              "#f0f921"
             ]
            ],
            "type": "histogram2dcontour"
           }
          ],
          "mesh3d": [
           {
            "colorbar": {
             "outlinewidth": 0,
             "ticks": ""
            },
            "type": "mesh3d"
           }
          ],
          "parcoords": [
           {
            "line": {
             "colorbar": {
              "outlinewidth": 0,
              "ticks": ""
             }
            },
            "type": "parcoords"
           }
          ],
          "pie": [
           {
            "automargin": true,
            "type": "pie"
           }
          ],
          "scatter": [
           {
            "fillpattern": {
             "fillmode": "overlay",
             "size": 10,
             "solidity": 0.2
            },
            "type": "scatter"
           }
          ],
          "scatter3d": [
           {
            "line": {
             "colorbar": {
              "outlinewidth": 0,
              "ticks": ""
             }
            },
            "marker": {
             "colorbar": {
              "outlinewidth": 0,
              "ticks": ""
             }
            },
            "type": "scatter3d"
           }
          ],
          "scattercarpet": [
           {
            "marker": {
             "colorbar": {
              "outlinewidth": 0,
              "ticks": ""
             }
            },
            "type": "scattercarpet"
           }
          ],
          "scattergeo": [
           {
            "marker": {
             "colorbar": {
              "outlinewidth": 0,
              "ticks": ""
             }
            },
            "type": "scattergeo"
           }
          ],
          "scattergl": [
           {
            "marker": {
             "colorbar": {
              "outlinewidth": 0,
              "ticks": ""
             }
            },
            "type": "scattergl"
           }
          ],
          "scattermap": [
           {
            "marker": {
             "colorbar": {
              "outlinewidth": 0,
              "ticks": ""
             }
            },
            "type": "scattermap"
           }
          ],
          "scattermapbox": [
           {
            "marker": {
             "colorbar": {
              "outlinewidth": 0,
              "ticks": ""
             }
            },
            "type": "scattermapbox"
           }
          ],
          "scatterpolar": [
           {
            "marker": {
             "colorbar": {
              "outlinewidth": 0,
              "ticks": ""
             }
            },
            "type": "scatterpolar"
           }
          ],
          "scatterpolargl": [
           {
            "marker": {
             "colorbar": {
              "outlinewidth": 0,
              "ticks": ""
             }
            },
            "type": "scatterpolargl"
           }
          ],
          "scatterternary": [
           {
            "marker": {
             "colorbar": {
              "outlinewidth": 0,
              "ticks": ""
             }
            },
            "type": "scatterternary"
           }
          ],
          "surface": [
           {
            "colorbar": {
             "outlinewidth": 0,
             "ticks": ""
            },
            "colorscale": [
             [
              0,
              "#0d0887"
             ],
             [
              0.1111111111111111,
              "#46039f"
             ],
             [
              0.2222222222222222,
              "#7201a8"
             ],
             [
              0.3333333333333333,
              "#9c179e"
             ],
             [
              0.4444444444444444,
              "#bd3786"
             ],
             [
              0.5555555555555556,
              "#d8576b"
             ],
             [
              0.6666666666666666,
              "#ed7953"
             ],
             [
              0.7777777777777778,
              "#fb9f3a"
             ],
             [
              0.8888888888888888,
              "#fdca26"
             ],
             [
              1,
              "#f0f921"
             ]
            ],
            "type": "surface"
           }
          ],
          "table": [
           {
            "cells": {
             "fill": {
              "color": "#EBF0F8"
             },
             "line": {
              "color": "white"
             }
            },
            "header": {
             "fill": {
              "color": "#C8D4E3"
             },
             "line": {
              "color": "white"
             }
            },
            "type": "table"
           }
          ]
         },
         "layout": {
          "annotationdefaults": {
           "arrowcolor": "#2a3f5f",
           "arrowhead": 0,
           "arrowwidth": 1
          },
          "autotypenumbers": "strict",
          "coloraxis": {
           "colorbar": {
            "outlinewidth": 0,
            "ticks": ""
           }
          },
          "colorscale": {
           "diverging": [
            [
             0,
             "#8e0152"
            ],
            [
             0.1,
             "#c51b7d"
            ],
            [
             0.2,
             "#de77ae"
            ],
            [
             0.3,
             "#f1b6da"
            ],
            [
             0.4,
             "#fde0ef"
            ],
            [
             0.5,
             "#f7f7f7"
            ],
            [
             0.6,
             "#e6f5d0"
            ],
            [
             0.7,
             "#b8e186"
            ],
            [
             0.8,
             "#7fbc41"
            ],
            [
             0.9,
             "#4d9221"
            ],
            [
             1,
             "#276419"
            ]
           ],
           "sequential": [
            [
             0,
             "#0d0887"
            ],
            [
             0.1111111111111111,
             "#46039f"
            ],
            [
             0.2222222222222222,
             "#7201a8"
            ],
            [
             0.3333333333333333,
             "#9c179e"
            ],
            [
             0.4444444444444444,
             "#bd3786"
            ],
            [
             0.5555555555555556,
             "#d8576b"
            ],
            [
             0.6666666666666666,
             "#ed7953"
            ],
            [
             0.7777777777777778,
             "#fb9f3a"
            ],
            [
             0.8888888888888888,
             "#fdca26"
            ],
            [
             1,
             "#f0f921"
            ]
           ],
           "sequentialminus": [
            [
             0,
             "#0d0887"
            ],
            [
             0.1111111111111111,
             "#46039f"
            ],
            [
             0.2222222222222222,
             "#7201a8"
            ],
            [
             0.3333333333333333,
             "#9c179e"
            ],
            [
             0.4444444444444444,
             "#bd3786"
            ],
            [
             0.5555555555555556,
             "#d8576b"
            ],
            [
             0.6666666666666666,
             "#ed7953"
            ],
            [
             0.7777777777777778,
             "#fb9f3a"
            ],
            [
             0.8888888888888888,
             "#fdca26"
            ],
            [
             1,
             "#f0f921"
            ]
           ]
          },
          "colorway": [
           "#636efa",
           "#EF553B",
           "#00cc96",
           "#ab63fa",
           "#FFA15A",
           "#19d3f3",
           "#FF6692",
           "#B6E880",
           "#FF97FF",
           "#FECB52"
          ],
          "font": {
           "color": "#2a3f5f"
          },
          "geo": {
           "bgcolor": "white",
           "lakecolor": "white",
           "landcolor": "#E5ECF6",
           "showlakes": true,
           "showland": true,
           "subunitcolor": "white"
          },
          "hoverlabel": {
           "align": "left"
          },
          "hovermode": "closest",
          "mapbox": {
           "style": "light"
          },
          "paper_bgcolor": "white",
          "plot_bgcolor": "#E5ECF6",
          "polar": {
           "angularaxis": {
            "gridcolor": "white",
            "linecolor": "white",
            "ticks": ""
           },
           "bgcolor": "#E5ECF6",
           "radialaxis": {
            "gridcolor": "white",
            "linecolor": "white",
            "ticks": ""
           }
          },
          "scene": {
           "xaxis": {
            "backgroundcolor": "#E5ECF6",
            "gridcolor": "white",
            "gridwidth": 2,
            "linecolor": "white",
            "showbackground": true,
            "ticks": "",
            "zerolinecolor": "white"
           },
           "yaxis": {
            "backgroundcolor": "#E5ECF6",
            "gridcolor": "white",
            "gridwidth": 2,
            "linecolor": "white",
            "showbackground": true,
            "ticks": "",
            "zerolinecolor": "white"
           },
           "zaxis": {
            "backgroundcolor": "#E5ECF6",
            "gridcolor": "white",
            "gridwidth": 2,
            "linecolor": "white",
            "showbackground": true,
            "ticks": "",
            "zerolinecolor": "white"
           }
          },
          "shapedefaults": {
           "line": {
            "color": "#2a3f5f"
           }
          },
          "ternary": {
           "aaxis": {
            "gridcolor": "white",
            "linecolor": "white",
            "ticks": ""
           },
           "baxis": {
            "gridcolor": "white",
            "linecolor": "white",
            "ticks": ""
           },
           "bgcolor": "#E5ECF6",
           "caxis": {
            "gridcolor": "white",
            "linecolor": "white",
            "ticks": ""
           }
          },
          "title": {
           "x": 0.05
          },
          "xaxis": {
           "automargin": true,
           "gridcolor": "white",
           "linecolor": "white",
           "ticks": "",
           "title": {
            "standoff": 15
           },
           "zerolinecolor": "white",
           "zerolinewidth": 2
          },
          "yaxis": {
           "automargin": true,
           "gridcolor": "white",
           "linecolor": "white",
           "ticks": "",
           "title": {
            "standoff": 15
           },
           "zerolinecolor": "white",
           "zerolinewidth": 2
          }
         }
        },
        "width": 850,
        "xaxis": {
         "anchor": "y",
         "categoryarray": [
          "Sunday",
          "Monday",
          "Tuesday",
          "Wednesday",
          "Thursday",
          "Friday",
          "Saturday"
         ],
         "categoryorder": "array",
         "domain": [
          0,
          0.98
         ],
         "title": {
          "text": "weekday"
         }
        },
        "xaxis2": {
         "anchor": "y2",
         "domain": [
          0,
          0.98
         ],
         "matches": "x",
         "showticklabels": false
        },
        "xaxis3": {
         "anchor": "y3",
         "domain": [
          0,
          0.98
         ],
         "matches": "x",
         "showticklabels": false
        },
        "xaxis4": {
         "anchor": "y4",
         "domain": [
          0,
          0.98
         ],
         "matches": "x",
         "showticklabels": false
        },
        "xaxis5": {
         "anchor": "y5",
         "domain": [
          0,
          0.98
         ],
         "matches": "x",
         "showticklabels": false
        },
        "xaxis6": {
         "anchor": "y6",
         "domain": [
          0,
          0.98
         ],
         "matches": "x",
         "showticklabels": false
        },
        "yaxis": {
         "anchor": "x",
         "domain": [
          0,
          0.14166666666666666
         ],
         "title": {
          "text": "counts"
         }
        },
        "yaxis2": {
         "anchor": "x2",
         "domain": [
          0.17166666666666666,
          0.31333333333333335
         ],
         "matches": "y",
         "title": {
          "text": "counts"
         }
        },
        "yaxis3": {
         "anchor": "x3",
         "domain": [
          0.3433333333333333,
          0.485
         ],
         "matches": "y",
         "title": {
          "text": "counts"
         }
        },
        "yaxis4": {
         "anchor": "x4",
         "domain": [
          0.515,
          0.6566666666666667
         ],
         "matches": "y",
         "title": {
          "text": "counts"
         }
        },
        "yaxis5": {
         "anchor": "x5",
         "domain": [
          0.6866666666666666,
          0.8283333333333334
         ],
         "matches": "y",
         "title": {
          "text": "counts"
         }
        },
        "yaxis6": {
         "anchor": "x6",
         "domain": [
          0.8583333333333333,
          1
         ],
         "matches": "y",
         "title": {
          "text": "counts"
         }
        }
       }
      }
     },
     "metadata": {},
     "output_type": "display_data"
    }
   ],
   "source": [
    "wkday_price_direction_counts = df_weekday_candles.groupby(['month-year', 'weekday', 'price_direction'], as_index=False)['candle_id'].count()\n",
    "wkday_price_direction_counts.rename(columns={'candle_id':'counts'}, inplace=True)\n",
    "wkday_pdc_fig = px.bar(wkday_price_direction_counts, x='weekday', y='counts', color='price_direction', \n",
    "             barmode='group', facet_row='month-year', category_orders={'month':month_years_order, 'weekday':weekdays_order})\n",
    "wkday_pdc_fig.update_layout(\n",
    "    height=fig_height,\n",
    "    width=fig_width\n",
    ")\n",
    "wkday_pdc_fig.for_each_annotation(lambda x: x.update(text=x.text.split('=')[-1]))\n",
    "wkday_pdc_fig.show()"
   ]
  },
  {
   "cell_type": "code",
   "execution_count": 23,
   "metadata": {},
   "outputs": [
    {
     "data": {
      "application/vnd.plotly.v1+json": {
       "config": {
        "plotlyServerURL": "https://plot.ly"
       },
       "data": [
        {
         "alignmentgroup": "True",
         "hovertemplate": "price_direction=Negative<br>month-year=2024-08<br>weekday=%{x}<br>% diff=%{y}<extra></extra>",
         "legendgroup": "Negative",
         "marker": {
          "color": "#636efa",
          "pattern": {
           "shape": ""
          }
         },
         "name": "Negative",
         "offsetgroup": "Negative",
         "orientation": "v",
         "showlegend": true,
         "textposition": "auto",
         "type": "bar",
         "x": [
          "Friday",
          "Monday",
          "Saturday",
          "Sunday",
          "Thursday",
          "Tuesday",
          "Wednesday"
         ],
         "xaxis": "x6",
         "y": {
          "bdata": "AAAAAAAAAADC7auneJAlwKZMncpvXjTAN2E8aB8zM8Aspj3ccCcgwJj4aBqJwRzA2H6cs5fBGMA=",
          "dtype": "f8"
         },
         "yaxis": "y6"
        },
        {
         "alignmentgroup": "True",
         "hovertemplate": "price_direction=Positive<br>month-year=2024-08<br>weekday=%{x}<br>% diff=%{y}<extra></extra>",
         "legendgroup": "Positive",
         "marker": {
          "color": "#EF553B",
          "pattern": {
           "shape": ""
          }
         },
         "name": "Positive",
         "offsetgroup": "Positive",
         "orientation": "v",
         "showlegend": true,
         "textposition": "auto",
         "type": "bar",
         "x": [
          "Friday",
          "Monday",
          "Sunday",
          "Thursday",
          "Tuesday",
          "Wednesday"
         ],
         "xaxis": "x6",
         "y": {
          "bdata": "8BELvWQJFECfqqqqqqoQQEwSy86v2h1AUlesoiRNJ0BUx7PGikgKQLeuMHBqHTBA",
          "dtype": "f8"
         },
         "yaxis": "y6"
        },
        {
         "alignmentgroup": "True",
         "hovertemplate": "price_direction=Negative<br>month-year=2024-09<br>weekday=%{x}<br>% diff=%{y}<extra></extra>",
         "legendgroup": "Negative",
         "marker": {
          "color": "#636efa",
          "pattern": {
           "shape": ""
          }
         },
         "name": "Negative",
         "offsetgroup": "Negative",
         "orientation": "v",
         "showlegend": false,
         "textposition": "auto",
         "type": "bar",
         "x": [
          "Friday",
          "Monday",
          "Saturday",
          "Sunday",
          "Thursday",
          "Tuesday"
         ],
         "xaxis": "x5",
         "y": {
          "bdata": "UVxmukY7EcDCr3XbREYqwH4nKTgo6xnAQyk3PlwWG8C/PFtf4xAKwDiAjVsHtxjA",
          "dtype": "f8"
         },
         "yaxis": "y5"
        },
        {
         "alignmentgroup": "True",
         "hovertemplate": "price_direction=Positive<br>month-year=2024-09<br>weekday=%{x}<br>% diff=%{y}<extra></extra>",
         "legendgroup": "Positive",
         "marker": {
          "color": "#EF553B",
          "pattern": {
           "shape": ""
          }
         },
         "name": "Positive",
         "offsetgroup": "Positive",
         "orientation": "v",
         "showlegend": false,
         "textposition": "auto",
         "type": "bar",
         "x": [
          "Friday",
          "Monday",
          "Saturday",
          "Sunday",
          "Thursday",
          "Tuesday",
          "Wednesday"
         ],
         "xaxis": "x5",
         "y": {
          "bdata": "1SVIprW/JUB0W76YW+kaQAs2roNXPfk/zK1gA4UVIUB0fD5GlDcrQFRm1+/VBQBAvURvk8HsJUA=",
          "dtype": "f8"
         },
         "yaxis": "y5"
        },
        {
         "alignmentgroup": "True",
         "hovertemplate": "price_direction=Negative<br>month-year=2024-10<br>weekday=%{x}<br>% diff=%{y}<extra></extra>",
         "legendgroup": "Negative",
         "marker": {
          "color": "#636efa",
          "pattern": {
           "shape": ""
          }
         },
         "name": "Negative",
         "offsetgroup": "Negative",
         "orientation": "v",
         "showlegend": false,
         "textposition": "auto",
         "type": "bar",
         "x": [
          "Friday",
          "Monday",
          "Saturday",
          "Sunday",
          "Thursday",
          "Tuesday",
          "Wednesday"
         ],
         "xaxis": "x4",
         "y": {
          "bdata": "nWDna3LsBcBeX/pg664IwMdi4m38Svm/C0QHkrHNF8Bpc4/E52AmwExV9iq1qSjAZYNMncgQHsA=",
          "dtype": "f8"
         },
         "yaxis": "y4"
        },
        {
         "alignmentgroup": "True",
         "hovertemplate": "price_direction=Positive<br>month-year=2024-10<br>weekday=%{x}<br>% diff=%{y}<extra></extra>",
         "legendgroup": "Positive",
         "marker": {
          "color": "#EF553B",
          "pattern": {
           "shape": ""
          }
         },
         "name": "Positive",
         "offsetgroup": "Positive",
         "orientation": "v",
         "showlegend": false,
         "textposition": "auto",
         "type": "bar",
         "x": [
          "Friday",
          "Monday",
          "Saturday",
          "Sunday",
          "Thursday",
          "Tuesday",
          "Wednesday"
         ],
         "xaxis": "x4",
         "y": {
          "bdata": "cCZuMl2uBEAP3qm86KIVQJbyXz5D+iVANzbmUZTpHECSe53S4owlQJzTUU5HOf0/O+QGMibO9z8=",
          "dtype": "f8"
         },
         "yaxis": "y4"
        },
        {
         "alignmentgroup": "True",
         "hovertemplate": "price_direction=Negative<br>month-year=2024-11<br>weekday=%{x}<br>% diff=%{y}<extra></extra>",
         "legendgroup": "Negative",
         "marker": {
          "color": "#636efa",
          "pattern": {
           "shape": ""
          }
         },
         "name": "Negative",
         "offsetgroup": "Negative",
         "orientation": "v",
         "showlegend": false,
         "textposition": "auto",
         "type": "bar",
         "x": [
          "Friday",
          "Monday",
          "Saturday",
          "Sunday",
          "Tuesday",
          "Wednesday"
         ],
         "xaxis": "x3",
         "y": {
          "bdata": "BM+bjZFXBsAqghVOGgYwwI5Kl5MqOyfAS8Oz6fXc/b8MBvH0vogXwOR5OiDguCXA",
          "dtype": "f8"
         },
         "yaxis": "y3"
        },
        {
         "alignmentgroup": "True",
         "hovertemplate": "price_direction=Positive<br>month-year=2024-11<br>weekday=%{x}<br>% diff=%{y}<extra></extra>",
         "legendgroup": "Positive",
         "marker": {
          "color": "#EF553B",
          "pattern": {
           "shape": ""
          }
         },
         "name": "Positive",
         "offsetgroup": "Positive",
         "orientation": "v",
         "showlegend": false,
         "textposition": "auto",
         "type": "bar",
         "x": [
          "Friday",
          "Monday",
          "Saturday",
          "Sunday",
          "Thursday",
          "Tuesday",
          "Wednesday"
         ],
         "xaxis": "x3",
         "y": {
          "bdata": "sOb+mdsYQUD3Qae32sINQCdmYYqjNQNA3ay5oUpINUD3OEZ8BkEoQJBAeTmBAjdAfTdxUfeyNUA=",
          "dtype": "f8"
         },
         "yaxis": "y3"
        },
        {
         "alignmentgroup": "True",
         "hovertemplate": "price_direction=Negative<br>month-year=2024-12<br>weekday=%{x}<br>% diff=%{y}<extra></extra>",
         "legendgroup": "Negative",
         "marker": {
          "color": "#636efa",
          "pattern": {
           "shape": ""
          }
         },
         "name": "Negative",
         "offsetgroup": "Negative",
         "orientation": "v",
         "showlegend": false,
         "textposition": "auto",
         "type": "bar",
         "x": [
          "Friday",
          "Monday",
          "Saturday",
          "Sunday",
          "Tuesday",
          "Wednesday"
         ],
         "xaxis": "x2",
         "y": {
          "bdata": "qPJ2JAEdJ8DsR9LCC3wiwKcKwBeH2RTAF0LLravEM8AiDD5RVcclwAhl3/I/1jLA",
          "dtype": "f8"
         },
         "yaxis": "y2"
        },
        {
         "alignmentgroup": "True",
         "hovertemplate": "price_direction=Positive<br>month-year=2024-12<br>weekday=%{x}<br>% diff=%{y}<extra></extra>",
         "legendgroup": "Positive",
         "marker": {
          "color": "#EF553B",
          "pattern": {
           "shape": ""
          }
         },
         "name": "Positive",
         "offsetgroup": "Positive",
         "orientation": "v",
         "showlegend": false,
         "textposition": "auto",
         "type": "bar",
         "x": [
          "Friday",
          "Monday",
          "Saturday",
          "Sunday",
          "Thursday",
          "Tuesday",
          "Wednesday"
         ],
         "xaxis": "x2",
         "y": {
          "bdata": "vJeX2wjJ/z9IgvONNvMQQDSgwSbPAgpAng+zwAMOKkBS8CKN7GckQDbtAVeEsDJAs7UtY5t8BkA=",
          "dtype": "f8"
         },
         "yaxis": "y2"
        },
        {
         "alignmentgroup": "True",
         "hovertemplate": "price_direction=Negative<br>month-year=2025-01<br>weekday=%{x}<br>% diff=%{y}<extra></extra>",
         "legendgroup": "Negative",
         "marker": {
          "color": "#636efa",
          "pattern": {
           "shape": ""
          }
         },
         "name": "Negative",
         "offsetgroup": "Negative",
         "orientation": "v",
         "showlegend": false,
         "textposition": "auto",
         "type": "bar",
         "x": [
          "Friday",
          "Monday",
          "Saturday",
          "Sunday",
          "Thursday",
          "Tuesday",
          "Wednesday"
         ],
         "xaxis": "x",
         "y": {
          "bdata": "kEsf8O+TMMASHdtDhqQywMApmtg8rCzAkBxb4KtyIcAnAqlDBFIHwCPyy5L8gRzALKBsmLfXI8A=",
          "dtype": "f8"
         },
         "yaxis": "y"
        },
        {
         "alignmentgroup": "True",
         "hovertemplate": "price_direction=Positive<br>month-year=2025-01<br>weekday=%{x}<br>% diff=%{y}<extra></extra>",
         "legendgroup": "Positive",
         "marker": {
          "color": "#EF553B",
          "pattern": {
           "shape": ""
          }
         },
         "name": "Positive",
         "offsetgroup": "Positive",
         "orientation": "v",
         "showlegend": false,
         "textposition": "auto",
         "type": "bar",
         "x": [
          "Friday",
          "Monday",
          "Saturday",
          "Sunday",
          "Thursday",
          "Tuesday",
          "Wednesday"
         ],
         "xaxis": "x",
         "y": {
          "bdata": "cDdaWRvIHUAmnO180WEhQHocjsbgYwNAgxMEGrSEyj+wzND4LXsxQJHwb/K3FSNA9AHss/q1JUA=",
          "dtype": "f8"
         },
         "yaxis": "y"
        }
       ],
       "layout": {
        "annotations": [
         {
          "font": {},
          "showarrow": false,
          "text": "2025-01",
          "textangle": 90,
          "x": 0.98,
          "xanchor": "left",
          "xref": "paper",
          "y": 0.07083333333333333,
          "yanchor": "middle",
          "yref": "paper"
         },
         {
          "font": {},
          "showarrow": false,
          "text": "2024-12",
          "textangle": 90,
          "x": 0.98,
          "xanchor": "left",
          "xref": "paper",
          "y": 0.2425,
          "yanchor": "middle",
          "yref": "paper"
         },
         {
          "font": {},
          "showarrow": false,
          "text": "2024-11",
          "textangle": 90,
          "x": 0.98,
          "xanchor": "left",
          "xref": "paper",
          "y": 0.4141666666666667,
          "yanchor": "middle",
          "yref": "paper"
         },
         {
          "font": {},
          "showarrow": false,
          "text": "2024-10",
          "textangle": 90,
          "x": 0.98,
          "xanchor": "left",
          "xref": "paper",
          "y": 0.5858333333333334,
          "yanchor": "middle",
          "yref": "paper"
         },
         {
          "font": {},
          "showarrow": false,
          "text": "2024-09",
          "textangle": 90,
          "x": 0.98,
          "xanchor": "left",
          "xref": "paper",
          "y": 0.7575000000000001,
          "yanchor": "middle",
          "yref": "paper"
         },
         {
          "font": {},
          "showarrow": false,
          "text": "2024-08",
          "textangle": 90,
          "x": 0.98,
          "xanchor": "left",
          "xref": "paper",
          "y": 0.9291666666666667,
          "yanchor": "middle",
          "yref": "paper"
         }
        ],
        "barmode": "group",
        "height": 700,
        "legend": {
         "title": {
          "text": "price_direction"
         },
         "tracegroupgap": 0
        },
        "margin": {
         "t": 60
        },
        "template": {
         "data": {
          "bar": [
           {
            "error_x": {
             "color": "#2a3f5f"
            },
            "error_y": {
             "color": "#2a3f5f"
            },
            "marker": {
             "line": {
              "color": "#E5ECF6",
              "width": 0.5
             },
             "pattern": {
              "fillmode": "overlay",
              "size": 10,
              "solidity": 0.2
             }
            },
            "type": "bar"
           }
          ],
          "barpolar": [
           {
            "marker": {
             "line": {
              "color": "#E5ECF6",
              "width": 0.5
             },
             "pattern": {
              "fillmode": "overlay",
              "size": 10,
              "solidity": 0.2
             }
            },
            "type": "barpolar"
           }
          ],
          "carpet": [
           {
            "aaxis": {
             "endlinecolor": "#2a3f5f",
             "gridcolor": "white",
             "linecolor": "white",
             "minorgridcolor": "white",
             "startlinecolor": "#2a3f5f"
            },
            "baxis": {
             "endlinecolor": "#2a3f5f",
             "gridcolor": "white",
             "linecolor": "white",
             "minorgridcolor": "white",
             "startlinecolor": "#2a3f5f"
            },
            "type": "carpet"
           }
          ],
          "choropleth": [
           {
            "colorbar": {
             "outlinewidth": 0,
             "ticks": ""
            },
            "type": "choropleth"
           }
          ],
          "contour": [
           {
            "colorbar": {
             "outlinewidth": 0,
             "ticks": ""
            },
            "colorscale": [
             [
              0,
              "#0d0887"
             ],
             [
              0.1111111111111111,
              "#46039f"
             ],
             [
              0.2222222222222222,
              "#7201a8"
             ],
             [
              0.3333333333333333,
              "#9c179e"
             ],
             [
              0.4444444444444444,
              "#bd3786"
             ],
             [
              0.5555555555555556,
              "#d8576b"
             ],
             [
              0.6666666666666666,
              "#ed7953"
             ],
             [
              0.7777777777777778,
              "#fb9f3a"
             ],
             [
              0.8888888888888888,
              "#fdca26"
             ],
             [
              1,
              "#f0f921"
             ]
            ],
            "type": "contour"
           }
          ],
          "contourcarpet": [
           {
            "colorbar": {
             "outlinewidth": 0,
             "ticks": ""
            },
            "type": "contourcarpet"
           }
          ],
          "heatmap": [
           {
            "colorbar": {
             "outlinewidth": 0,
             "ticks": ""
            },
            "colorscale": [
             [
              0,
              "#0d0887"
             ],
             [
              0.1111111111111111,
              "#46039f"
             ],
             [
              0.2222222222222222,
              "#7201a8"
             ],
             [
              0.3333333333333333,
              "#9c179e"
             ],
             [
              0.4444444444444444,
              "#bd3786"
             ],
             [
              0.5555555555555556,
              "#d8576b"
             ],
             [
              0.6666666666666666,
              "#ed7953"
             ],
             [
              0.7777777777777778,
              "#fb9f3a"
             ],
             [
              0.8888888888888888,
              "#fdca26"
             ],
             [
              1,
              "#f0f921"
             ]
            ],
            "type": "heatmap"
           }
          ],
          "histogram": [
           {
            "marker": {
             "pattern": {
              "fillmode": "overlay",
              "size": 10,
              "solidity": 0.2
             }
            },
            "type": "histogram"
           }
          ],
          "histogram2d": [
           {
            "colorbar": {
             "outlinewidth": 0,
             "ticks": ""
            },
            "colorscale": [
             [
              0,
              "#0d0887"
             ],
             [
              0.1111111111111111,
              "#46039f"
             ],
             [
              0.2222222222222222,
              "#7201a8"
             ],
             [
              0.3333333333333333,
              "#9c179e"
             ],
             [
              0.4444444444444444,
              "#bd3786"
             ],
             [
              0.5555555555555556,
              "#d8576b"
             ],
             [
              0.6666666666666666,
              "#ed7953"
             ],
             [
              0.7777777777777778,
              "#fb9f3a"
             ],
             [
              0.8888888888888888,
              "#fdca26"
             ],
             [
              1,
              "#f0f921"
             ]
            ],
            "type": "histogram2d"
           }
          ],
          "histogram2dcontour": [
           {
            "colorbar": {
             "outlinewidth": 0,
             "ticks": ""
            },
            "colorscale": [
             [
              0,
              "#0d0887"
             ],
             [
              0.1111111111111111,
              "#46039f"
             ],
             [
              0.2222222222222222,
              "#7201a8"
             ],
             [
              0.3333333333333333,
              "#9c179e"
             ],
             [
              0.4444444444444444,
              "#bd3786"
             ],
             [
              0.5555555555555556,
              "#d8576b"
             ],
             [
              0.6666666666666666,
              "#ed7953"
             ],
             [
              0.7777777777777778,
              "#fb9f3a"
             ],
             [
              0.8888888888888888,
              "#fdca26"
             ],
             [
              1,
              "#f0f921"
             ]
            ],
            "type": "histogram2dcontour"
           }
          ],
          "mesh3d": [
           {
            "colorbar": {
             "outlinewidth": 0,
             "ticks": ""
            },
            "type": "mesh3d"
           }
          ],
          "parcoords": [
           {
            "line": {
             "colorbar": {
              "outlinewidth": 0,
              "ticks": ""
             }
            },
            "type": "parcoords"
           }
          ],
          "pie": [
           {
            "automargin": true,
            "type": "pie"
           }
          ],
          "scatter": [
           {
            "fillpattern": {
             "fillmode": "overlay",
             "size": 10,
             "solidity": 0.2
            },
            "type": "scatter"
           }
          ],
          "scatter3d": [
           {
            "line": {
             "colorbar": {
              "outlinewidth": 0,
              "ticks": ""
             }
            },
            "marker": {
             "colorbar": {
              "outlinewidth": 0,
              "ticks": ""
             }
            },
            "type": "scatter3d"
           }
          ],
          "scattercarpet": [
           {
            "marker": {
             "colorbar": {
              "outlinewidth": 0,
              "ticks": ""
             }
            },
            "type": "scattercarpet"
           }
          ],
          "scattergeo": [
           {
            "marker": {
             "colorbar": {
              "outlinewidth": 0,
              "ticks": ""
             }
            },
            "type": "scattergeo"
           }
          ],
          "scattergl": [
           {
            "marker": {
             "colorbar": {
              "outlinewidth": 0,
              "ticks": ""
             }
            },
            "type": "scattergl"
           }
          ],
          "scattermap": [
           {
            "marker": {
             "colorbar": {
              "outlinewidth": 0,
              "ticks": ""
             }
            },
            "type": "scattermap"
           }
          ],
          "scattermapbox": [
           {
            "marker": {
             "colorbar": {
              "outlinewidth": 0,
              "ticks": ""
             }
            },
            "type": "scattermapbox"
           }
          ],
          "scatterpolar": [
           {
            "marker": {
             "colorbar": {
              "outlinewidth": 0,
              "ticks": ""
             }
            },
            "type": "scatterpolar"
           }
          ],
          "scatterpolargl": [
           {
            "marker": {
             "colorbar": {
              "outlinewidth": 0,
              "ticks": ""
             }
            },
            "type": "scatterpolargl"
           }
          ],
          "scatterternary": [
           {
            "marker": {
             "colorbar": {
              "outlinewidth": 0,
              "ticks": ""
             }
            },
            "type": "scatterternary"
           }
          ],
          "surface": [
           {
            "colorbar": {
             "outlinewidth": 0,
             "ticks": ""
            },
            "colorscale": [
             [
              0,
              "#0d0887"
             ],
             [
              0.1111111111111111,
              "#46039f"
             ],
             [
              0.2222222222222222,
              "#7201a8"
             ],
             [
              0.3333333333333333,
              "#9c179e"
             ],
             [
              0.4444444444444444,
              "#bd3786"
             ],
             [
              0.5555555555555556,
              "#d8576b"
             ],
             [
              0.6666666666666666,
              "#ed7953"
             ],
             [
              0.7777777777777778,
              "#fb9f3a"
             ],
             [
              0.8888888888888888,
              "#fdca26"
             ],
             [
              1,
              "#f0f921"
             ]
            ],
            "type": "surface"
           }
          ],
          "table": [
           {
            "cells": {
             "fill": {
              "color": "#EBF0F8"
             },
             "line": {
              "color": "white"
             }
            },
            "header": {
             "fill": {
              "color": "#C8D4E3"
             },
             "line": {
              "color": "white"
             }
            },
            "type": "table"
           }
          ]
         },
         "layout": {
          "annotationdefaults": {
           "arrowcolor": "#2a3f5f",
           "arrowhead": 0,
           "arrowwidth": 1
          },
          "autotypenumbers": "strict",
          "coloraxis": {
           "colorbar": {
            "outlinewidth": 0,
            "ticks": ""
           }
          },
          "colorscale": {
           "diverging": [
            [
             0,
             "#8e0152"
            ],
            [
             0.1,
             "#c51b7d"
            ],
            [
             0.2,
             "#de77ae"
            ],
            [
             0.3,
             "#f1b6da"
            ],
            [
             0.4,
             "#fde0ef"
            ],
            [
             0.5,
             "#f7f7f7"
            ],
            [
             0.6,
             "#e6f5d0"
            ],
            [
             0.7,
             "#b8e186"
            ],
            [
             0.8,
             "#7fbc41"
            ],
            [
             0.9,
             "#4d9221"
            ],
            [
             1,
             "#276419"
            ]
           ],
           "sequential": [
            [
             0,
             "#0d0887"
            ],
            [
             0.1111111111111111,
             "#46039f"
            ],
            [
             0.2222222222222222,
             "#7201a8"
            ],
            [
             0.3333333333333333,
             "#9c179e"
            ],
            [
             0.4444444444444444,
             "#bd3786"
            ],
            [
             0.5555555555555556,
             "#d8576b"
            ],
            [
             0.6666666666666666,
             "#ed7953"
            ],
            [
             0.7777777777777778,
             "#fb9f3a"
            ],
            [
             0.8888888888888888,
             "#fdca26"
            ],
            [
             1,
             "#f0f921"
            ]
           ],
           "sequentialminus": [
            [
             0,
             "#0d0887"
            ],
            [
             0.1111111111111111,
             "#46039f"
            ],
            [
             0.2222222222222222,
             "#7201a8"
            ],
            [
             0.3333333333333333,
             "#9c179e"
            ],
            [
             0.4444444444444444,
             "#bd3786"
            ],
            [
             0.5555555555555556,
             "#d8576b"
            ],
            [
             0.6666666666666666,
             "#ed7953"
            ],
            [
             0.7777777777777778,
             "#fb9f3a"
            ],
            [
             0.8888888888888888,
             "#fdca26"
            ],
            [
             1,
             "#f0f921"
            ]
           ]
          },
          "colorway": [
           "#636efa",
           "#EF553B",
           "#00cc96",
           "#ab63fa",
           "#FFA15A",
           "#19d3f3",
           "#FF6692",
           "#B6E880",
           "#FF97FF",
           "#FECB52"
          ],
          "font": {
           "color": "#2a3f5f"
          },
          "geo": {
           "bgcolor": "white",
           "lakecolor": "white",
           "landcolor": "#E5ECF6",
           "showlakes": true,
           "showland": true,
           "subunitcolor": "white"
          },
          "hoverlabel": {
           "align": "left"
          },
          "hovermode": "closest",
          "mapbox": {
           "style": "light"
          },
          "paper_bgcolor": "white",
          "plot_bgcolor": "#E5ECF6",
          "polar": {
           "angularaxis": {
            "gridcolor": "white",
            "linecolor": "white",
            "ticks": ""
           },
           "bgcolor": "#E5ECF6",
           "radialaxis": {
            "gridcolor": "white",
            "linecolor": "white",
            "ticks": ""
           }
          },
          "scene": {
           "xaxis": {
            "backgroundcolor": "#E5ECF6",
            "gridcolor": "white",
            "gridwidth": 2,
            "linecolor": "white",
            "showbackground": true,
            "ticks": "",
            "zerolinecolor": "white"
           },
           "yaxis": {
            "backgroundcolor": "#E5ECF6",
            "gridcolor": "white",
            "gridwidth": 2,
            "linecolor": "white",
            "showbackground": true,
            "ticks": "",
            "zerolinecolor": "white"
           },
           "zaxis": {
            "backgroundcolor": "#E5ECF6",
            "gridcolor": "white",
            "gridwidth": 2,
            "linecolor": "white",
            "showbackground": true,
            "ticks": "",
            "zerolinecolor": "white"
           }
          },
          "shapedefaults": {
           "line": {
            "color": "#2a3f5f"
           }
          },
          "ternary": {
           "aaxis": {
            "gridcolor": "white",
            "linecolor": "white",
            "ticks": ""
           },
           "baxis": {
            "gridcolor": "white",
            "linecolor": "white",
            "ticks": ""
           },
           "bgcolor": "#E5ECF6",
           "caxis": {
            "gridcolor": "white",
            "linecolor": "white",
            "ticks": ""
           }
          },
          "title": {
           "x": 0.05
          },
          "xaxis": {
           "automargin": true,
           "gridcolor": "white",
           "linecolor": "white",
           "ticks": "",
           "title": {
            "standoff": 15
           },
           "zerolinecolor": "white",
           "zerolinewidth": 2
          },
          "yaxis": {
           "automargin": true,
           "gridcolor": "white",
           "linecolor": "white",
           "ticks": "",
           "title": {
            "standoff": 15
           },
           "zerolinecolor": "white",
           "zerolinewidth": 2
          }
         }
        },
        "width": 850,
        "xaxis": {
         "anchor": "y",
         "categoryarray": [
          "Sunday",
          "Monday",
          "Tuesday",
          "Wednesday",
          "Thursday",
          "Friday",
          "Saturday"
         ],
         "categoryorder": "array",
         "domain": [
          0,
          0.98
         ],
         "title": {
          "text": "weekday"
         }
        },
        "xaxis2": {
         "anchor": "y2",
         "domain": [
          0,
          0.98
         ],
         "matches": "x",
         "showticklabels": false
        },
        "xaxis3": {
         "anchor": "y3",
         "domain": [
          0,
          0.98
         ],
         "matches": "x",
         "showticklabels": false
        },
        "xaxis4": {
         "anchor": "y4",
         "domain": [
          0,
          0.98
         ],
         "matches": "x",
         "showticklabels": false
        },
        "xaxis5": {
         "anchor": "y5",
         "domain": [
          0,
          0.98
         ],
         "matches": "x",
         "showticklabels": false
        },
        "xaxis6": {
         "anchor": "y6",
         "domain": [
          0,
          0.98
         ],
         "matches": "x",
         "showticklabels": false
        },
        "yaxis": {
         "anchor": "x",
         "domain": [
          0,
          0.14166666666666666
         ],
         "title": {
          "text": "% diff"
         }
        },
        "yaxis2": {
         "anchor": "x2",
         "domain": [
          0.17166666666666666,
          0.31333333333333335
         ],
         "matches": "y",
         "title": {
          "text": "% diff"
         }
        },
        "yaxis3": {
         "anchor": "x3",
         "domain": [
          0.3433333333333333,
          0.485
         ],
         "matches": "y",
         "title": {
          "text": "% diff"
         }
        },
        "yaxis4": {
         "anchor": "x4",
         "domain": [
          0.515,
          0.6566666666666667
         ],
         "matches": "y",
         "title": {
          "text": "% diff"
         }
        },
        "yaxis5": {
         "anchor": "x5",
         "domain": [
          0.6866666666666666,
          0.8283333333333334
         ],
         "matches": "y",
         "title": {
          "text": "% diff"
         }
        },
        "yaxis6": {
         "anchor": "x6",
         "domain": [
          0.8583333333333333,
          1
         ],
         "matches": "y",
         "title": {
          "text": "% diff"
         }
        }
       }
      }
     },
     "metadata": {},
     "output_type": "display_data"
    }
   ],
   "source": [
    "wkday_price_change_total = df_weekday_candles.groupby(['month-year', 'weekday', 'price_direction'], as_index=False)['percent_change'].sum()\n",
    "wkday_price_change_total.rename(columns={'percent_change':'% diff'}, inplace=True)\n",
    "fig_wkday_pct = px.bar(wkday_price_change_total, x='weekday', y='% diff', color='price_direction',\n",
    "                       barmode='group', facet_row='month-year', category_orders={'month-year':month_years_order, 'weekday':weekdays_order})\n",
    "fig_wkday_pct.update_layout(\n",
    "    height=fig_height+150,\n",
    "    width=fig_width\n",
    ")\n",
    "fig_wkday_pct.for_each_annotation(lambda x: x.update(text=x.text.split('=')[-1]))\n",
    "fig_wkday_pct.show()"
   ]
  },
  {
   "cell_type": "code",
   "execution_count": 24,
   "metadata": {},
   "outputs": [
    {
     "data": {
      "text/html": [
       "<div>\n",
       "<style scoped>\n",
       "    .dataframe tbody tr th:only-of-type {\n",
       "        vertical-align: middle;\n",
       "    }\n",
       "\n",
       "    .dataframe tbody tr th {\n",
       "        vertical-align: top;\n",
       "    }\n",
       "\n",
       "    .dataframe thead th {\n",
       "        text-align: right;\n",
       "    }\n",
       "</style>\n",
       "<table border=\"1\" class=\"dataframe\">\n",
       "  <thead>\n",
       "    <tr style=\"text-align: right;\">\n",
       "      <th></th>\n",
       "      <th>month-year</th>\n",
       "      <th>weekday</th>\n",
       "      <th>avg change</th>\n",
       "      <th>color</th>\n",
       "    </tr>\n",
       "  </thead>\n",
       "  <tbody>\n",
       "    <tr>\n",
       "      <th>0</th>\n",
       "      <td>2024-11</td>\n",
       "      <td>Friday</td>\n",
       "      <td>0.043660</td>\n",
       "      <td>green</td>\n",
       "    </tr>\n",
       "    <tr>\n",
       "      <th>1</th>\n",
       "      <td>2024-11</td>\n",
       "      <td>Monday</td>\n",
       "      <td>-0.025750</td>\n",
       "      <td>red</td>\n",
       "    </tr>\n",
       "    <tr>\n",
       "      <th>2</th>\n",
       "      <td>2024-11</td>\n",
       "      <td>Saturday</td>\n",
       "      <td>-0.011600</td>\n",
       "      <td>red</td>\n",
       "    </tr>\n",
       "    <tr>\n",
       "      <th>3</th>\n",
       "      <td>2024-11</td>\n",
       "      <td>Sunday</td>\n",
       "      <td>0.035125</td>\n",
       "      <td>green</td>\n",
       "    </tr>\n",
       "    <tr>\n",
       "      <th>4</th>\n",
       "      <td>2024-11</td>\n",
       "      <td>Thursday</td>\n",
       "      <td>0.021100</td>\n",
       "      <td>green</td>\n",
       "    </tr>\n",
       "  </tbody>\n",
       "</table>\n",
       "</div>"
      ],
      "text/plain": [
       "  month-year   weekday  avg change  color\n",
       "0    2024-11    Friday    0.043660  green\n",
       "1    2024-11    Monday   -0.025750    red\n",
       "2    2024-11  Saturday   -0.011600    red\n",
       "3    2024-11    Sunday    0.035125  green\n",
       "4    2024-11  Thursday    0.021100  green"
      ]
     },
     "execution_count": 24,
     "metadata": {},
     "output_type": "execute_result"
    }
   ],
   "source": [
    "month_year_filter = '2024-11'\n",
    "# average price change\n",
    "avg_price_change = df_weekday_candles[df_weekday_candles['month-year']==month_year_filter].groupby(['month-year', 'weekday'], as_index=False)['price_change'].mean()\n",
    "avg_price_change.rename(columns={'price_change':'avg change'}, inplace=True)\n",
    "avg_price_change['color'] = np.where(avg_price_change['avg change']<0, 'red', 'green')\n",
    "# max price change\n",
    "max_price_change = df_weekday_candles[df_weekday_candles['month-year']==month_year_filter].groupby(['month-year', 'weekday'], as_index=False)['price_change'].max()\n",
    "max_price_change.rename(columns={'price_change':'max change'}, inplace=True)\n",
    "max_price_change['color'] = np.where(max_price_change['max change']<0, 'red', 'green')\n",
    "# min price change\n",
    "min_price_change = df_weekday_candles[df_weekday_candles['month-year']==month_year_filter].groupby(['month-year', 'weekday'], as_index=False)['price_change'].min()\n",
    "min_price_change.rename(columns={'price_change':'min change'}, inplace=True)\n",
    "min_price_change['color'] = np.where(min_price_change['min change']<0, 'red', 'green')\n",
    "\n",
    "avg_price_change.head()"
   ]
  },
  {
   "cell_type": "code",
   "execution_count": null,
   "metadata": {},
   "outputs": [
    {
     "data": {
      "application/vnd.plotly.v1+json": {
       "config": {
        "plotlyServerURL": "https://plot.ly"
       },
       "data": [
        {
         "marker": {
          "color": [
           "green",
           "red",
           "red",
           "green",
           "green",
           "green",
           "green"
          ]
         },
         "type": "bar",
         "x": [
          "Friday",
          "Monday",
          "Saturday",
          "Sunday",
          "Thursday",
          "Tuesday",
          "Wednesday"
         ],
         "y": {
          "bdata": "gGZJgJpapj+E7Xw/NV6av9qcEaW9wYe/lEOLbOf7oT9YS8gHPZuVP3yutmJ/2Z0/4HoUrkfhij8=",
          "dtype": "f8"
         }
        }
       ],
       "layout": {
        "height": 850,
        "template": {
         "data": {
          "bar": [
           {
            "error_x": {
             "color": "#2a3f5f"
            },
            "error_y": {
             "color": "#2a3f5f"
            },
            "marker": {
             "line": {
              "color": "#E5ECF6",
              "width": 0.5
             },
             "pattern": {
              "fillmode": "overlay",
              "size": 10,
              "solidity": 0.2
             }
            },
            "type": "bar"
           }
          ],
          "barpolar": [
           {
            "marker": {
             "line": {
              "color": "#E5ECF6",
              "width": 0.5
             },
             "pattern": {
              "fillmode": "overlay",
              "size": 10,
              "solidity": 0.2
             }
            },
            "type": "barpolar"
           }
          ],
          "carpet": [
           {
            "aaxis": {
             "endlinecolor": "#2a3f5f",
             "gridcolor": "white",
             "linecolor": "white",
             "minorgridcolor": "white",
             "startlinecolor": "#2a3f5f"
            },
            "baxis": {
             "endlinecolor": "#2a3f5f",
             "gridcolor": "white",
             "linecolor": "white",
             "minorgridcolor": "white",
             "startlinecolor": "#2a3f5f"
            },
            "type": "carpet"
           }
          ],
          "choropleth": [
           {
            "colorbar": {
             "outlinewidth": 0,
             "ticks": ""
            },
            "type": "choropleth"
           }
          ],
          "contour": [
           {
            "colorbar": {
             "outlinewidth": 0,
             "ticks": ""
            },
            "colorscale": [
             [
              0,
              "#0d0887"
             ],
             [
              0.1111111111111111,
              "#46039f"
             ],
             [
              0.2222222222222222,
              "#7201a8"
             ],
             [
              0.3333333333333333,
              "#9c179e"
             ],
             [
              0.4444444444444444,
              "#bd3786"
             ],
             [
              0.5555555555555556,
              "#d8576b"
             ],
             [
              0.6666666666666666,
              "#ed7953"
             ],
             [
              0.7777777777777778,
              "#fb9f3a"
             ],
             [
              0.8888888888888888,
              "#fdca26"
             ],
             [
              1,
              "#f0f921"
             ]
            ],
            "type": "contour"
           }
          ],
          "contourcarpet": [
           {
            "colorbar": {
             "outlinewidth": 0,
             "ticks": ""
            },
            "type": "contourcarpet"
           }
          ],
          "heatmap": [
           {
            "colorbar": {
             "outlinewidth": 0,
             "ticks": ""
            },
            "colorscale": [
             [
              0,
              "#0d0887"
             ],
             [
              0.1111111111111111,
              "#46039f"
             ],
             [
              0.2222222222222222,
              "#7201a8"
             ],
             [
              0.3333333333333333,
              "#9c179e"
             ],
             [
              0.4444444444444444,
              "#bd3786"
             ],
             [
              0.5555555555555556,
              "#d8576b"
             ],
             [
              0.6666666666666666,
              "#ed7953"
             ],
             [
              0.7777777777777778,
              "#fb9f3a"
             ],
             [
              0.8888888888888888,
              "#fdca26"
             ],
             [
              1,
              "#f0f921"
             ]
            ],
            "type": "heatmap"
           }
          ],
          "histogram": [
           {
            "marker": {
             "pattern": {
              "fillmode": "overlay",
              "size": 10,
              "solidity": 0.2
             }
            },
            "type": "histogram"
           }
          ],
          "histogram2d": [
           {
            "colorbar": {
             "outlinewidth": 0,
             "ticks": ""
            },
            "colorscale": [
             [
              0,
              "#0d0887"
             ],
             [
              0.1111111111111111,
              "#46039f"
             ],
             [
              0.2222222222222222,
              "#7201a8"
             ],
             [
              0.3333333333333333,
              "#9c179e"
             ],
             [
              0.4444444444444444,
              "#bd3786"
             ],
             [
              0.5555555555555556,
              "#d8576b"
             ],
             [
              0.6666666666666666,
              "#ed7953"
             ],
             [
              0.7777777777777778,
              "#fb9f3a"
             ],
             [
              0.8888888888888888,
              "#fdca26"
             ],
             [
              1,
              "#f0f921"
             ]
            ],
            "type": "histogram2d"
           }
          ],
          "histogram2dcontour": [
           {
            "colorbar": {
             "outlinewidth": 0,
             "ticks": ""
            },
            "colorscale": [
             [
              0,
              "#0d0887"
             ],
             [
              0.1111111111111111,
              "#46039f"
             ],
             [
              0.2222222222222222,
              "#7201a8"
             ],
             [
              0.3333333333333333,
              "#9c179e"
             ],
             [
              0.4444444444444444,
              "#bd3786"
             ],
             [
              0.5555555555555556,
              "#d8576b"
             ],
             [
              0.6666666666666666,
              "#ed7953"
             ],
             [
              0.7777777777777778,
              "#fb9f3a"
             ],
             [
              0.8888888888888888,
              "#fdca26"
             ],
             [
              1,
              "#f0f921"
             ]
            ],
            "type": "histogram2dcontour"
           }
          ],
          "mesh3d": [
           {
            "colorbar": {
             "outlinewidth": 0,
             "ticks": ""
            },
            "type": "mesh3d"
           }
          ],
          "parcoords": [
           {
            "line": {
             "colorbar": {
              "outlinewidth": 0,
              "ticks": ""
             }
            },
            "type": "parcoords"
           }
          ],
          "pie": [
           {
            "automargin": true,
            "type": "pie"
           }
          ],
          "scatter": [
           {
            "fillpattern": {
             "fillmode": "overlay",
             "size": 10,
             "solidity": 0.2
            },
            "type": "scatter"
           }
          ],
          "scatter3d": [
           {
            "line": {
             "colorbar": {
              "outlinewidth": 0,
              "ticks": ""
             }
            },
            "marker": {
             "colorbar": {
              "outlinewidth": 0,
              "ticks": ""
             }
            },
            "type": "scatter3d"
           }
          ],
          "scattercarpet": [
           {
            "marker": {
             "colorbar": {
              "outlinewidth": 0,
              "ticks": ""
             }
            },
            "type": "scattercarpet"
           }
          ],
          "scattergeo": [
           {
            "marker": {
             "colorbar": {
              "outlinewidth": 0,
              "ticks": ""
             }
            },
            "type": "scattergeo"
           }
          ],
          "scattergl": [
           {
            "marker": {
             "colorbar": {
              "outlinewidth": 0,
              "ticks": ""
             }
            },
            "type": "scattergl"
           }
          ],
          "scattermap": [
           {
            "marker": {
             "colorbar": {
              "outlinewidth": 0,
              "ticks": ""
             }
            },
            "type": "scattermap"
           }
          ],
          "scattermapbox": [
           {
            "marker": {
             "colorbar": {
              "outlinewidth": 0,
              "ticks": ""
             }
            },
            "type": "scattermapbox"
           }
          ],
          "scatterpolar": [
           {
            "marker": {
             "colorbar": {
              "outlinewidth": 0,
              "ticks": ""
             }
            },
            "type": "scatterpolar"
           }
          ],
          "scatterpolargl": [
           {
            "marker": {
             "colorbar": {
              "outlinewidth": 0,
              "ticks": ""
             }
            },
            "type": "scatterpolargl"
           }
          ],
          "scatterternary": [
           {
            "marker": {
             "colorbar": {
              "outlinewidth": 0,
              "ticks": ""
             }
            },
            "type": "scatterternary"
           }
          ],
          "surface": [
           {
            "colorbar": {
             "outlinewidth": 0,
             "ticks": ""
            },
            "colorscale": [
             [
              0,
              "#0d0887"
             ],
             [
              0.1111111111111111,
              "#46039f"
             ],
             [
              0.2222222222222222,
              "#7201a8"
             ],
             [
              0.3333333333333333,
              "#9c179e"
             ],
             [
              0.4444444444444444,
              "#bd3786"
             ],
             [
              0.5555555555555556,
              "#d8576b"
             ],
             [
              0.6666666666666666,
              "#ed7953"
             ],
             [
              0.7777777777777778,
              "#fb9f3a"
             ],
             [
              0.8888888888888888,
              "#fdca26"
             ],
             [
              1,
              "#f0f921"
             ]
            ],
            "type": "surface"
           }
          ],
          "table": [
           {
            "cells": {
             "fill": {
              "color": "#EBF0F8"
             },
             "line": {
              "color": "white"
             }
            },
            "header": {
             "fill": {
              "color": "#C8D4E3"
             },
             "line": {
              "color": "white"
             }
            },
            "type": "table"
           }
          ]
         },
         "layout": {
          "annotationdefaults": {
           "arrowcolor": "#2a3f5f",
           "arrowhead": 0,
           "arrowwidth": 1
          },
          "autotypenumbers": "strict",
          "coloraxis": {
           "colorbar": {
            "outlinewidth": 0,
            "ticks": ""
           }
          },
          "colorscale": {
           "diverging": [
            [
             0,
             "#8e0152"
            ],
            [
             0.1,
             "#c51b7d"
            ],
            [
             0.2,
             "#de77ae"
            ],
            [
             0.3,
             "#f1b6da"
            ],
            [
             0.4,
             "#fde0ef"
            ],
            [
             0.5,
             "#f7f7f7"
            ],
            [
             0.6,
             "#e6f5d0"
            ],
            [
             0.7,
             "#b8e186"
            ],
            [
             0.8,
             "#7fbc41"
            ],
            [
             0.9,
             "#4d9221"
            ],
            [
             1,
             "#276419"
            ]
           ],
           "sequential": [
            [
             0,
             "#0d0887"
            ],
            [
             0.1111111111111111,
             "#46039f"
            ],
            [
             0.2222222222222222,
             "#7201a8"
            ],
            [
             0.3333333333333333,
             "#9c179e"
            ],
            [
             0.4444444444444444,
             "#bd3786"
            ],
            [
             0.5555555555555556,
             "#d8576b"
            ],
            [
             0.6666666666666666,
             "#ed7953"
            ],
            [
             0.7777777777777778,
             "#fb9f3a"
            ],
            [
             0.8888888888888888,
             "#fdca26"
            ],
            [
             1,
             "#f0f921"
            ]
           ],
           "sequentialminus": [
            [
             0,
             "#0d0887"
            ],
            [
             0.1111111111111111,
             "#46039f"
            ],
            [
             0.2222222222222222,
             "#7201a8"
            ],
            [
             0.3333333333333333,
             "#9c179e"
            ],
            [
             0.4444444444444444,
             "#bd3786"
            ],
            [
             0.5555555555555556,
             "#d8576b"
            ],
            [
             0.6666666666666666,
             "#ed7953"
            ],
            [
             0.7777777777777778,
             "#fb9f3a"
            ],
            [
             0.8888888888888888,
             "#fdca26"
            ],
            [
             1,
             "#f0f921"
            ]
           ]
          },
          "colorway": [
           "#636efa",
           "#EF553B",
           "#00cc96",
           "#ab63fa",
           "#FFA15A",
           "#19d3f3",
           "#FF6692",
           "#B6E880",
           "#FF97FF",
           "#FECB52"
          ],
          "font": {
           "color": "#2a3f5f"
          },
          "geo": {
           "bgcolor": "white",
           "lakecolor": "white",
           "landcolor": "#E5ECF6",
           "showlakes": true,
           "showland": true,
           "subunitcolor": "white"
          },
          "hoverlabel": {
           "align": "left"
          },
          "hovermode": "closest",
          "mapbox": {
           "style": "light"
          },
          "paper_bgcolor": "white",
          "plot_bgcolor": "#E5ECF6",
          "polar": {
           "angularaxis": {
            "gridcolor": "white",
            "linecolor": "white",
            "ticks": ""
           },
           "bgcolor": "#E5ECF6",
           "radialaxis": {
            "gridcolor": "white",
            "linecolor": "white",
            "ticks": ""
           }
          },
          "scene": {
           "xaxis": {
            "backgroundcolor": "#E5ECF6",
            "gridcolor": "white",
            "gridwidth": 2,
            "linecolor": "white",
            "showbackground": true,
            "ticks": "",
            "zerolinecolor": "white"
           },
           "yaxis": {
            "backgroundcolor": "#E5ECF6",
            "gridcolor": "white",
            "gridwidth": 2,
            "linecolor": "white",
            "showbackground": true,
            "ticks": "",
            "zerolinecolor": "white"
           },
           "zaxis": {
            "backgroundcolor": "#E5ECF6",
            "gridcolor": "white",
            "gridwidth": 2,
            "linecolor": "white",
            "showbackground": true,
            "ticks": "",
            "zerolinecolor": "white"
           }
          },
          "shapedefaults": {
           "line": {
            "color": "#2a3f5f"
           }
          },
          "ternary": {
           "aaxis": {
            "gridcolor": "white",
            "linecolor": "white",
            "ticks": ""
           },
           "baxis": {
            "gridcolor": "white",
            "linecolor": "white",
            "ticks": ""
           },
           "bgcolor": "#E5ECF6",
           "caxis": {
            "gridcolor": "white",
            "linecolor": "white",
            "ticks": ""
           }
          },
          "title": {
           "x": 0.05
          },
          "xaxis": {
           "automargin": true,
           "gridcolor": "white",
           "linecolor": "white",
           "ticks": "",
           "title": {
            "standoff": 15
           },
           "zerolinecolor": "white",
           "zerolinewidth": 2
          },
          "yaxis": {
           "automargin": true,
           "gridcolor": "white",
           "linecolor": "white",
           "ticks": "",
           "title": {
            "standoff": 15
           },
           "zerolinecolor": "white",
           "zerolinewidth": 2
          }
         }
        },
        "title": {
         "text": "Average Price Change for ARB-USD in 2024-11"
        },
        "width": 1450,
        "xaxis": {
         "categoryarray": [
          "Sunday",
          "Monday",
          "Tuesday",
          "Wednesday",
          "Thursday",
          "Friday",
          "Saturday"
         ],
         "categoryorder": "array"
        }
       }
      }
     },
     "metadata": {},
     "output_type": "display_data"
    }
   ],
   "source": [
    "wkday_fig_height = 850\n",
    "wkday_fig_width = 1050\n",
    "\n",
    "# fig_apc = px.bar(avg_price_change, x='weekday', y='avg change', facet_row='month-year',\n",
    "#                  barmode='group', category_orders={'weekday':weekdays_order})\n",
    "# fig_apc.for_each_annotation(lambda x: x.update(text=x.text.split('=')[-1]))\n",
    "fig_apc = go.Figure(data=go.Bar(\n",
    "    x=avg_price_change['weekday'], y=avg_price_change['avg change'], marker_color=avg_price_change['color'],\n",
    "))\n",
    "fig_apc.update_layout(\n",
    "    title_text=f\"Average Price Change for {trading_pair} in {month_year_filter}\",\n",
    "    height=wkday_fig_height,\n",
    "    width=wkday_fig_width,\n",
    "    xaxis=dict(categoryorder='array', categoryarray=weekdays_order),\n",
    ")\n",
    "fig_apc.show()"
   ]
  },
  {
   "cell_type": "code",
   "execution_count": 26,
   "metadata": {},
   "outputs": [
    {
     "data": {
      "application/vnd.plotly.v1+json": {
       "config": {
        "plotlyServerURL": "https://plot.ly"
       },
       "data": [
        {
         "marker": {
          "color": [
           "green",
           "green",
           "green",
           "green",
           "green",
           "green",
           "green"
          ]
         },
         "type": "bar",
         "x": [
          "Friday",
          "Monday",
          "Saturday",
          "Sunday",
          "Thursday",
          "Tuesday",
          "Wednesday"
         ],
         "y": {
          "bdata": "aJHtfD81vj8wbqMBvAWSP4AyVTAqqYM/+FPjpZvEsD9gyAc9m1WfPxi30QDeArk/UJYhjnVxuz8=",
          "dtype": "f8"
         }
        }
       ],
       "layout": {
        "height": 750,
        "template": {
         "data": {
          "bar": [
           {
            "error_x": {
             "color": "#2a3f5f"
            },
            "error_y": {
             "color": "#2a3f5f"
            },
            "marker": {
             "line": {
              "color": "#E5ECF6",
              "width": 0.5
             },
             "pattern": {
              "fillmode": "overlay",
              "size": 10,
              "solidity": 0.2
             }
            },
            "type": "bar"
           }
          ],
          "barpolar": [
           {
            "marker": {
             "line": {
              "color": "#E5ECF6",
              "width": 0.5
             },
             "pattern": {
              "fillmode": "overlay",
              "size": 10,
              "solidity": 0.2
             }
            },
            "type": "barpolar"
           }
          ],
          "carpet": [
           {
            "aaxis": {
             "endlinecolor": "#2a3f5f",
             "gridcolor": "white",
             "linecolor": "white",
             "minorgridcolor": "white",
             "startlinecolor": "#2a3f5f"
            },
            "baxis": {
             "endlinecolor": "#2a3f5f",
             "gridcolor": "white",
             "linecolor": "white",
             "minorgridcolor": "white",
             "startlinecolor": "#2a3f5f"
            },
            "type": "carpet"
           }
          ],
          "choropleth": [
           {
            "colorbar": {
             "outlinewidth": 0,
             "ticks": ""
            },
            "type": "choropleth"
           }
          ],
          "contour": [
           {
            "colorbar": {
             "outlinewidth": 0,
             "ticks": ""
            },
            "colorscale": [
             [
              0,
              "#0d0887"
             ],
             [
              0.1111111111111111,
              "#46039f"
             ],
             [
              0.2222222222222222,
              "#7201a8"
             ],
             [
              0.3333333333333333,
              "#9c179e"
             ],
             [
              0.4444444444444444,
              "#bd3786"
             ],
             [
              0.5555555555555556,
              "#d8576b"
             ],
             [
              0.6666666666666666,
              "#ed7953"
             ],
             [
              0.7777777777777778,
              "#fb9f3a"
             ],
             [
              0.8888888888888888,
              "#fdca26"
             ],
             [
              1,
              "#f0f921"
             ]
            ],
            "type": "contour"
           }
          ],
          "contourcarpet": [
           {
            "colorbar": {
             "outlinewidth": 0,
             "ticks": ""
            },
            "type": "contourcarpet"
           }
          ],
          "heatmap": [
           {
            "colorbar": {
             "outlinewidth": 0,
             "ticks": ""
            },
            "colorscale": [
             [
              0,
              "#0d0887"
             ],
             [
              0.1111111111111111,
              "#46039f"
             ],
             [
              0.2222222222222222,
              "#7201a8"
             ],
             [
              0.3333333333333333,
              "#9c179e"
             ],
             [
              0.4444444444444444,
              "#bd3786"
             ],
             [
              0.5555555555555556,
              "#d8576b"
             ],
             [
              0.6666666666666666,
              "#ed7953"
             ],
             [
              0.7777777777777778,
              "#fb9f3a"
             ],
             [
              0.8888888888888888,
              "#fdca26"
             ],
             [
              1,
              "#f0f921"
             ]
            ],
            "type": "heatmap"
           }
          ],
          "histogram": [
           {
            "marker": {
             "pattern": {
              "fillmode": "overlay",
              "size": 10,
              "solidity": 0.2
             }
            },
            "type": "histogram"
           }
          ],
          "histogram2d": [
           {
            "colorbar": {
             "outlinewidth": 0,
             "ticks": ""
            },
            "colorscale": [
             [
              0,
              "#0d0887"
             ],
             [
              0.1111111111111111,
              "#46039f"
             ],
             [
              0.2222222222222222,
              "#7201a8"
             ],
             [
              0.3333333333333333,
              "#9c179e"
             ],
             [
              0.4444444444444444,
              "#bd3786"
             ],
             [
              0.5555555555555556,
              "#d8576b"
             ],
             [
              0.6666666666666666,
              "#ed7953"
             ],
             [
              0.7777777777777778,
              "#fb9f3a"
             ],
             [
              0.8888888888888888,
              "#fdca26"
             ],
             [
              1,
              "#f0f921"
             ]
            ],
            "type": "histogram2d"
           }
          ],
          "histogram2dcontour": [
           {
            "colorbar": {
             "outlinewidth": 0,
             "ticks": ""
            },
            "colorscale": [
             [
              0,
              "#0d0887"
             ],
             [
              0.1111111111111111,
              "#46039f"
             ],
             [
              0.2222222222222222,
              "#7201a8"
             ],
             [
              0.3333333333333333,
              "#9c179e"
             ],
             [
              0.4444444444444444,
              "#bd3786"
             ],
             [
              0.5555555555555556,
              "#d8576b"
             ],
             [
              0.6666666666666666,
              "#ed7953"
             ],
             [
              0.7777777777777778,
              "#fb9f3a"
             ],
             [
              0.8888888888888888,
              "#fdca26"
             ],
             [
              1,
              "#f0f921"
             ]
            ],
            "type": "histogram2dcontour"
           }
          ],
          "mesh3d": [
           {
            "colorbar": {
             "outlinewidth": 0,
             "ticks": ""
            },
            "type": "mesh3d"
           }
          ],
          "parcoords": [
           {
            "line": {
             "colorbar": {
              "outlinewidth": 0,
              "ticks": ""
             }
            },
            "type": "parcoords"
           }
          ],
          "pie": [
           {
            "automargin": true,
            "type": "pie"
           }
          ],
          "scatter": [
           {
            "fillpattern": {
             "fillmode": "overlay",
             "size": 10,
             "solidity": 0.2
            },
            "type": "scatter"
           }
          ],
          "scatter3d": [
           {
            "line": {
             "colorbar": {
              "outlinewidth": 0,
              "ticks": ""
             }
            },
            "marker": {
             "colorbar": {
              "outlinewidth": 0,
              "ticks": ""
             }
            },
            "type": "scatter3d"
           }
          ],
          "scattercarpet": [
           {
            "marker": {
             "colorbar": {
              "outlinewidth": 0,
              "ticks": ""
             }
            },
            "type": "scattercarpet"
           }
          ],
          "scattergeo": [
           {
            "marker": {
             "colorbar": {
              "outlinewidth": 0,
              "ticks": ""
             }
            },
            "type": "scattergeo"
           }
          ],
          "scattergl": [
           {
            "marker": {
             "colorbar": {
              "outlinewidth": 0,
              "ticks": ""
             }
            },
            "type": "scattergl"
           }
          ],
          "scattermap": [
           {
            "marker": {
             "colorbar": {
              "outlinewidth": 0,
              "ticks": ""
             }
            },
            "type": "scattermap"
           }
          ],
          "scattermapbox": [
           {
            "marker": {
             "colorbar": {
              "outlinewidth": 0,
              "ticks": ""
             }
            },
            "type": "scattermapbox"
           }
          ],
          "scatterpolar": [
           {
            "marker": {
             "colorbar": {
              "outlinewidth": 0,
              "ticks": ""
             }
            },
            "type": "scatterpolar"
           }
          ],
          "scatterpolargl": [
           {
            "marker": {
             "colorbar": {
              "outlinewidth": 0,
              "ticks": ""
             }
            },
            "type": "scatterpolargl"
           }
          ],
          "scatterternary": [
           {
            "marker": {
             "colorbar": {
              "outlinewidth": 0,
              "ticks": ""
             }
            },
            "type": "scatterternary"
           }
          ],
          "surface": [
           {
            "colorbar": {
             "outlinewidth": 0,
             "ticks": ""
            },
            "colorscale": [
             [
              0,
              "#0d0887"
             ],
             [
              0.1111111111111111,
              "#46039f"
             ],
             [
              0.2222222222222222,
              "#7201a8"
             ],
             [
              0.3333333333333333,
              "#9c179e"
             ],
             [
              0.4444444444444444,
              "#bd3786"
             ],
             [
              0.5555555555555556,
              "#d8576b"
             ],
             [
              0.6666666666666666,
              "#ed7953"
             ],
             [
              0.7777777777777778,
              "#fb9f3a"
             ],
             [
              0.8888888888888888,
              "#fdca26"
             ],
             [
              1,
              "#f0f921"
             ]
            ],
            "type": "surface"
           }
          ],
          "table": [
           {
            "cells": {
             "fill": {
              "color": "#EBF0F8"
             },
             "line": {
              "color": "white"
             }
            },
            "header": {
             "fill": {
              "color": "#C8D4E3"
             },
             "line": {
              "color": "white"
             }
            },
            "type": "table"
           }
          ]
         },
         "layout": {
          "annotationdefaults": {
           "arrowcolor": "#2a3f5f",
           "arrowhead": 0,
           "arrowwidth": 1
          },
          "autotypenumbers": "strict",
          "coloraxis": {
           "colorbar": {
            "outlinewidth": 0,
            "ticks": ""
           }
          },
          "colorscale": {
           "diverging": [
            [
             0,
             "#8e0152"
            ],
            [
             0.1,
             "#c51b7d"
            ],
            [
             0.2,
             "#de77ae"
            ],
            [
             0.3,
             "#f1b6da"
            ],
            [
             0.4,
             "#fde0ef"
            ],
            [
             0.5,
             "#f7f7f7"
            ],
            [
             0.6,
             "#e6f5d0"
            ],
            [
             0.7,
             "#b8e186"
            ],
            [
             0.8,
             "#7fbc41"
            ],
            [
             0.9,
             "#4d9221"
            ],
            [
             1,
             "#276419"
            ]
           ],
           "sequential": [
            [
             0,
             "#0d0887"
            ],
            [
             0.1111111111111111,
             "#46039f"
            ],
            [
             0.2222222222222222,
             "#7201a8"
            ],
            [
             0.3333333333333333,
             "#9c179e"
            ],
            [
             0.4444444444444444,
             "#bd3786"
            ],
            [
             0.5555555555555556,
             "#d8576b"
            ],
            [
             0.6666666666666666,
             "#ed7953"
            ],
            [
             0.7777777777777778,
             "#fb9f3a"
            ],
            [
             0.8888888888888888,
             "#fdca26"
            ],
            [
             1,
             "#f0f921"
            ]
           ],
           "sequentialminus": [
            [
             0,
             "#0d0887"
            ],
            [
             0.1111111111111111,
             "#46039f"
            ],
            [
             0.2222222222222222,
             "#7201a8"
            ],
            [
             0.3333333333333333,
             "#9c179e"
            ],
            [
             0.4444444444444444,
             "#bd3786"
            ],
            [
             0.5555555555555556,
             "#d8576b"
            ],
            [
             0.6666666666666666,
             "#ed7953"
            ],
            [
             0.7777777777777778,
             "#fb9f3a"
            ],
            [
             0.8888888888888888,
             "#fdca26"
            ],
            [
             1,
             "#f0f921"
            ]
           ]
          },
          "colorway": [
           "#636efa",
           "#EF553B",
           "#00cc96",
           "#ab63fa",
           "#FFA15A",
           "#19d3f3",
           "#FF6692",
           "#B6E880",
           "#FF97FF",
           "#FECB52"
          ],
          "font": {
           "color": "#2a3f5f"
          },
          "geo": {
           "bgcolor": "white",
           "lakecolor": "white",
           "landcolor": "#E5ECF6",
           "showlakes": true,
           "showland": true,
           "subunitcolor": "white"
          },
          "hoverlabel": {
           "align": "left"
          },
          "hovermode": "closest",
          "mapbox": {
           "style": "light"
          },
          "paper_bgcolor": "white",
          "plot_bgcolor": "#E5ECF6",
          "polar": {
           "angularaxis": {
            "gridcolor": "white",
            "linecolor": "white",
            "ticks": ""
           },
           "bgcolor": "#E5ECF6",
           "radialaxis": {
            "gridcolor": "white",
            "linecolor": "white",
            "ticks": ""
           }
          },
          "scene": {
           "xaxis": {
            "backgroundcolor": "#E5ECF6",
            "gridcolor": "white",
            "gridwidth": 2,
            "linecolor": "white",
            "showbackground": true,
            "ticks": "",
            "zerolinecolor": "white"
           },
           "yaxis": {
            "backgroundcolor": "#E5ECF6",
            "gridcolor": "white",
            "gridwidth": 2,
            "linecolor": "white",
            "showbackground": true,
            "ticks": "",
            "zerolinecolor": "white"
           },
           "zaxis": {
            "backgroundcolor": "#E5ECF6",
            "gridcolor": "white",
            "gridwidth": 2,
            "linecolor": "white",
            "showbackground": true,
            "ticks": "",
            "zerolinecolor": "white"
           }
          },
          "shapedefaults": {
           "line": {
            "color": "#2a3f5f"
           }
          },
          "ternary": {
           "aaxis": {
            "gridcolor": "white",
            "linecolor": "white",
            "ticks": ""
           },
           "baxis": {
            "gridcolor": "white",
            "linecolor": "white",
            "ticks": ""
           },
           "bgcolor": "#E5ECF6",
           "caxis": {
            "gridcolor": "white",
            "linecolor": "white",
            "ticks": ""
           }
          },
          "title": {
           "x": 0.05
          },
          "xaxis": {
           "automargin": true,
           "gridcolor": "white",
           "linecolor": "white",
           "ticks": "",
           "title": {
            "standoff": 15
           },
           "zerolinecolor": "white",
           "zerolinewidth": 2
          },
          "yaxis": {
           "automargin": true,
           "gridcolor": "white",
           "linecolor": "white",
           "ticks": "",
           "title": {
            "standoff": 15
           },
           "zerolinecolor": "white",
           "zerolinewidth": 2
          }
         }
        },
        "title": {
         "text": "Max Price Change for ARB-USD in 2024-11"
        },
        "width": 1050,
        "xaxis": {
         "categoryarray": [
          "Sunday",
          "Monday",
          "Tuesday",
          "Wednesday",
          "Thursday",
          "Friday",
          "Saturday"
         ],
         "categoryorder": "array"
        }
       }
      }
     },
     "metadata": {},
     "output_type": "display_data"
    }
   ],
   "source": [
    "# fig_maxpc = px.bar(max_price_change, x='weekday', y='max change', facet_row='month-year',\n",
    "#                  barmode='group', category_orders={'weekday':weekdays_order})\n",
    "# fig_maxpc.update_layout(\n",
    "# )\n",
    "# fig_maxpc.for_each_annotation(lambda x: x.update(text=x.text.split('=')[-1]))\n",
    "# fig_maxpc.show()\n",
    "fig_maxpc = go.Figure(data=go.Bar(\n",
    "    x=max_price_change['weekday'], y=max_price_change['max change'], marker_color=max_price_change['color']\n",
    "))\n",
    "fig_maxpc.update_layout(\n",
    "    title_text=f\"Max Price Change for {trading_pair} in {month_year_filter}\",\n",
    "    height=wkday_fig_height,\n",
    "    width=wkday_fig_width,\n",
    "    xaxis=dict(categoryorder='array', categoryarray=weekdays_order),\n",
    ")\n",
    "fig_maxpc.show()"
   ]
  },
  {
   "cell_type": "code",
   "execution_count": 27,
   "metadata": {},
   "outputs": [
    {
     "data": {
      "application/vnd.plotly.v1+json": {
       "config": {
        "plotlyServerURL": "https://plot.ly"
       },
       "data": [
        {
         "marker": {
          "color": [
           "red",
           "red",
           "red",
           "red",
           "green",
           "red",
           "red"
          ]
         },
         "type": "bar",
         "x": [
          "Friday",
          "Monday",
          "Saturday",
          "Sunday",
          "Thursday",
          "Tuesday",
          "Wednesday"
         ],
         "y": {
          "bdata": "AARWDi2yjb/QK2UZ4linvyDSb18Hzqm/QN9PjZdugr8ATYQNT6+EP6D2Bl+YTJW/kLIMcayLq78=",
          "dtype": "f8"
         }
        }
       ],
       "layout": {
        "height": 750,
        "template": {
         "data": {
          "bar": [
           {
            "error_x": {
             "color": "#2a3f5f"
            },
            "error_y": {
             "color": "#2a3f5f"
            },
            "marker": {
             "line": {
              "color": "#E5ECF6",
              "width": 0.5
             },
             "pattern": {
              "fillmode": "overlay",
              "size": 10,
              "solidity": 0.2
             }
            },
            "type": "bar"
           }
          ],
          "barpolar": [
           {
            "marker": {
             "line": {
              "color": "#E5ECF6",
              "width": 0.5
             },
             "pattern": {
              "fillmode": "overlay",
              "size": 10,
              "solidity": 0.2
             }
            },
            "type": "barpolar"
           }
          ],
          "carpet": [
           {
            "aaxis": {
             "endlinecolor": "#2a3f5f",
             "gridcolor": "white",
             "linecolor": "white",
             "minorgridcolor": "white",
             "startlinecolor": "#2a3f5f"
            },
            "baxis": {
             "endlinecolor": "#2a3f5f",
             "gridcolor": "white",
             "linecolor": "white",
             "minorgridcolor": "white",
             "startlinecolor": "#2a3f5f"
            },
            "type": "carpet"
           }
          ],
          "choropleth": [
           {
            "colorbar": {
             "outlinewidth": 0,
             "ticks": ""
            },
            "type": "choropleth"
           }
          ],
          "contour": [
           {
            "colorbar": {
             "outlinewidth": 0,
             "ticks": ""
            },
            "colorscale": [
             [
              0,
              "#0d0887"
             ],
             [
              0.1111111111111111,
              "#46039f"
             ],
             [
              0.2222222222222222,
              "#7201a8"
             ],
             [
              0.3333333333333333,
              "#9c179e"
             ],
             [
              0.4444444444444444,
              "#bd3786"
             ],
             [
              0.5555555555555556,
              "#d8576b"
             ],
             [
              0.6666666666666666,
              "#ed7953"
             ],
             [
              0.7777777777777778,
              "#fb9f3a"
             ],
             [
              0.8888888888888888,
              "#fdca26"
             ],
             [
              1,
              "#f0f921"
             ]
            ],
            "type": "contour"
           }
          ],
          "contourcarpet": [
           {
            "colorbar": {
             "outlinewidth": 0,
             "ticks": ""
            },
            "type": "contourcarpet"
           }
          ],
          "heatmap": [
           {
            "colorbar": {
             "outlinewidth": 0,
             "ticks": ""
            },
            "colorscale": [
             [
              0,
              "#0d0887"
             ],
             [
              0.1111111111111111,
              "#46039f"
             ],
             [
              0.2222222222222222,
              "#7201a8"
             ],
             [
              0.3333333333333333,
              "#9c179e"
             ],
             [
              0.4444444444444444,
              "#bd3786"
             ],
             [
              0.5555555555555556,
              "#d8576b"
             ],
             [
              0.6666666666666666,
              "#ed7953"
             ],
             [
              0.7777777777777778,
              "#fb9f3a"
             ],
             [
              0.8888888888888888,
              "#fdca26"
             ],
             [
              1,
              "#f0f921"
             ]
            ],
            "type": "heatmap"
           }
          ],
          "histogram": [
           {
            "marker": {
             "pattern": {
              "fillmode": "overlay",
              "size": 10,
              "solidity": 0.2
             }
            },
            "type": "histogram"
           }
          ],
          "histogram2d": [
           {
            "colorbar": {
             "outlinewidth": 0,
             "ticks": ""
            },
            "colorscale": [
             [
              0,
              "#0d0887"
             ],
             [
              0.1111111111111111,
              "#46039f"
             ],
             [
              0.2222222222222222,
              "#7201a8"
             ],
             [
              0.3333333333333333,
              "#9c179e"
             ],
             [
              0.4444444444444444,
              "#bd3786"
             ],
             [
              0.5555555555555556,
              "#d8576b"
             ],
             [
              0.6666666666666666,
              "#ed7953"
             ],
             [
              0.7777777777777778,
              "#fb9f3a"
             ],
             [
              0.8888888888888888,
              "#fdca26"
             ],
             [
              1,
              "#f0f921"
             ]
            ],
            "type": "histogram2d"
           }
          ],
          "histogram2dcontour": [
           {
            "colorbar": {
             "outlinewidth": 0,
             "ticks": ""
            },
            "colorscale": [
             [
              0,
              "#0d0887"
             ],
             [
              0.1111111111111111,
              "#46039f"
             ],
             [
              0.2222222222222222,
              "#7201a8"
             ],
             [
              0.3333333333333333,
              "#9c179e"
             ],
             [
              0.4444444444444444,
              "#bd3786"
             ],
             [
              0.5555555555555556,
              "#d8576b"
             ],
             [
              0.6666666666666666,
              "#ed7953"
             ],
             [
              0.7777777777777778,
              "#fb9f3a"
             ],
             [
              0.8888888888888888,
              "#fdca26"
             ],
             [
              1,
              "#f0f921"
             ]
            ],
            "type": "histogram2dcontour"
           }
          ],
          "mesh3d": [
           {
            "colorbar": {
             "outlinewidth": 0,
             "ticks": ""
            },
            "type": "mesh3d"
           }
          ],
          "parcoords": [
           {
            "line": {
             "colorbar": {
              "outlinewidth": 0,
              "ticks": ""
             }
            },
            "type": "parcoords"
           }
          ],
          "pie": [
           {
            "automargin": true,
            "type": "pie"
           }
          ],
          "scatter": [
           {
            "fillpattern": {
             "fillmode": "overlay",
             "size": 10,
             "solidity": 0.2
            },
            "type": "scatter"
           }
          ],
          "scatter3d": [
           {
            "line": {
             "colorbar": {
              "outlinewidth": 0,
              "ticks": ""
             }
            },
            "marker": {
             "colorbar": {
              "outlinewidth": 0,
              "ticks": ""
             }
            },
            "type": "scatter3d"
           }
          ],
          "scattercarpet": [
           {
            "marker": {
             "colorbar": {
              "outlinewidth": 0,
              "ticks": ""
             }
            },
            "type": "scattercarpet"
           }
          ],
          "scattergeo": [
           {
            "marker": {
             "colorbar": {
              "outlinewidth": 0,
              "ticks": ""
             }
            },
            "type": "scattergeo"
           }
          ],
          "scattergl": [
           {
            "marker": {
             "colorbar": {
              "outlinewidth": 0,
              "ticks": ""
             }
            },
            "type": "scattergl"
           }
          ],
          "scattermap": [
           {
            "marker": {
             "colorbar": {
              "outlinewidth": 0,
              "ticks": ""
             }
            },
            "type": "scattermap"
           }
          ],
          "scattermapbox": [
           {
            "marker": {
             "colorbar": {
              "outlinewidth": 0,
              "ticks": ""
             }
            },
            "type": "scattermapbox"
           }
          ],
          "scatterpolar": [
           {
            "marker": {
             "colorbar": {
              "outlinewidth": 0,
              "ticks": ""
             }
            },
            "type": "scatterpolar"
           }
          ],
          "scatterpolargl": [
           {
            "marker": {
             "colorbar": {
              "outlinewidth": 0,
              "ticks": ""
             }
            },
            "type": "scatterpolargl"
           }
          ],
          "scatterternary": [
           {
            "marker": {
             "colorbar": {
              "outlinewidth": 0,
              "ticks": ""
             }
            },
            "type": "scatterternary"
           }
          ],
          "surface": [
           {
            "colorbar": {
             "outlinewidth": 0,
             "ticks": ""
            },
            "colorscale": [
             [
              0,
              "#0d0887"
             ],
             [
              0.1111111111111111,
              "#46039f"
             ],
             [
              0.2222222222222222,
              "#7201a8"
             ],
             [
              0.3333333333333333,
              "#9c179e"
             ],
             [
              0.4444444444444444,
              "#bd3786"
             ],
             [
              0.5555555555555556,
              "#d8576b"
             ],
             [
              0.6666666666666666,
              "#ed7953"
             ],
             [
              0.7777777777777778,
              "#fb9f3a"
             ],
             [
              0.8888888888888888,
              "#fdca26"
             ],
             [
              1,
              "#f0f921"
             ]
            ],
            "type": "surface"
           }
          ],
          "table": [
           {
            "cells": {
             "fill": {
              "color": "#EBF0F8"
             },
             "line": {
              "color": "white"
             }
            },
            "header": {
             "fill": {
              "color": "#C8D4E3"
             },
             "line": {
              "color": "white"
             }
            },
            "type": "table"
           }
          ]
         },
         "layout": {
          "annotationdefaults": {
           "arrowcolor": "#2a3f5f",
           "arrowhead": 0,
           "arrowwidth": 1
          },
          "autotypenumbers": "strict",
          "coloraxis": {
           "colorbar": {
            "outlinewidth": 0,
            "ticks": ""
           }
          },
          "colorscale": {
           "diverging": [
            [
             0,
             "#8e0152"
            ],
            [
             0.1,
             "#c51b7d"
            ],
            [
             0.2,
             "#de77ae"
            ],
            [
             0.3,
             "#f1b6da"
            ],
            [
             0.4,
             "#fde0ef"
            ],
            [
             0.5,
             "#f7f7f7"
            ],
            [
             0.6,
             "#e6f5d0"
            ],
            [
             0.7,
             "#b8e186"
            ],
            [
             0.8,
             "#7fbc41"
            ],
            [
             0.9,
             "#4d9221"
            ],
            [
             1,
             "#276419"
            ]
           ],
           "sequential": [
            [
             0,
             "#0d0887"
            ],
            [
             0.1111111111111111,
             "#46039f"
            ],
            [
             0.2222222222222222,
             "#7201a8"
            ],
            [
             0.3333333333333333,
             "#9c179e"
            ],
            [
             0.4444444444444444,
             "#bd3786"
            ],
            [
             0.5555555555555556,
             "#d8576b"
            ],
            [
             0.6666666666666666,
             "#ed7953"
            ],
            [
             0.7777777777777778,
             "#fb9f3a"
            ],
            [
             0.8888888888888888,
             "#fdca26"
            ],
            [
             1,
             "#f0f921"
            ]
           ],
           "sequentialminus": [
            [
             0,
             "#0d0887"
            ],
            [
             0.1111111111111111,
             "#46039f"
            ],
            [
             0.2222222222222222,
             "#7201a8"
            ],
            [
             0.3333333333333333,
             "#9c179e"
            ],
            [
             0.4444444444444444,
             "#bd3786"
            ],
            [
             0.5555555555555556,
             "#d8576b"
            ],
            [
             0.6666666666666666,
             "#ed7953"
            ],
            [
             0.7777777777777778,
             "#fb9f3a"
            ],
            [
             0.8888888888888888,
             "#fdca26"
            ],
            [
             1,
             "#f0f921"
            ]
           ]
          },
          "colorway": [
           "#636efa",
           "#EF553B",
           "#00cc96",
           "#ab63fa",
           "#FFA15A",
           "#19d3f3",
           "#FF6692",
           "#B6E880",
           "#FF97FF",
           "#FECB52"
          ],
          "font": {
           "color": "#2a3f5f"
          },
          "geo": {
           "bgcolor": "white",
           "lakecolor": "white",
           "landcolor": "#E5ECF6",
           "showlakes": true,
           "showland": true,
           "subunitcolor": "white"
          },
          "hoverlabel": {
           "align": "left"
          },
          "hovermode": "closest",
          "mapbox": {
           "style": "light"
          },
          "paper_bgcolor": "white",
          "plot_bgcolor": "#E5ECF6",
          "polar": {
           "angularaxis": {
            "gridcolor": "white",
            "linecolor": "white",
            "ticks": ""
           },
           "bgcolor": "#E5ECF6",
           "radialaxis": {
            "gridcolor": "white",
            "linecolor": "white",
            "ticks": ""
           }
          },
          "scene": {
           "xaxis": {
            "backgroundcolor": "#E5ECF6",
            "gridcolor": "white",
            "gridwidth": 2,
            "linecolor": "white",
            "showbackground": true,
            "ticks": "",
            "zerolinecolor": "white"
           },
           "yaxis": {
            "backgroundcolor": "#E5ECF6",
            "gridcolor": "white",
            "gridwidth": 2,
            "linecolor": "white",
            "showbackground": true,
            "ticks": "",
            "zerolinecolor": "white"
           },
           "zaxis": {
            "backgroundcolor": "#E5ECF6",
            "gridcolor": "white",
            "gridwidth": 2,
            "linecolor": "white",
            "showbackground": true,
            "ticks": "",
            "zerolinecolor": "white"
           }
          },
          "shapedefaults": {
           "line": {
            "color": "#2a3f5f"
           }
          },
          "ternary": {
           "aaxis": {
            "gridcolor": "white",
            "linecolor": "white",
            "ticks": ""
           },
           "baxis": {
            "gridcolor": "white",
            "linecolor": "white",
            "ticks": ""
           },
           "bgcolor": "#E5ECF6",
           "caxis": {
            "gridcolor": "white",
            "linecolor": "white",
            "ticks": ""
           }
          },
          "title": {
           "x": 0.05
          },
          "xaxis": {
           "automargin": true,
           "gridcolor": "white",
           "linecolor": "white",
           "ticks": "",
           "title": {
            "standoff": 15
           },
           "zerolinecolor": "white",
           "zerolinewidth": 2
          },
          "yaxis": {
           "automargin": true,
           "gridcolor": "white",
           "linecolor": "white",
           "ticks": "",
           "title": {
            "standoff": 15
           },
           "zerolinecolor": "white",
           "zerolinewidth": 2
          }
         }
        },
        "title": {
         "text": "Min Price Change for ARB-USD in 2024-11"
        },
        "width": 1050,
        "xaxis": {
         "categoryarray": [
          "Sunday",
          "Monday",
          "Tuesday",
          "Wednesday",
          "Thursday",
          "Friday",
          "Saturday"
         ],
         "categoryorder": "array"
        }
       }
      }
     },
     "metadata": {},
     "output_type": "display_data"
    }
   ],
   "source": [
    "# fig_minpc = px.bar(min_price_change, x='weekday', y='min change', facet_row='month-year',\n",
    "#                  barmode='group', category_orders={'weekday':weekdays_order})\n",
    "# fig_minpc.update_layout(\n",
    "# )\n",
    "# fig_minpc.for_each_annotation(lambda x: x.update(text=x.text.split('=')[-1]))\n",
    "# fig_minpc.show()\n",
    "fig_minpc = go.Figure(data=go.Bar(\n",
    "    x=min_price_change['weekday'], y=min_price_change['min change'], marker_color=min_price_change['color']\n",
    "))\n",
    "fig_minpc.update_layout(\n",
    "    title_text=f\"Min Price Change for {trading_pair} in {month_year_filter}\",\n",
    "    height=wkday_fig_height,\n",
    "    width=wkday_fig_width,\n",
    "    xaxis=dict(categoryorder='array', categoryarray=weekdays_order),\n",
    ")\n",
    "fig_minpc.show()"
   ]
  },
  {
   "cell_type": "code",
   "execution_count": 28,
   "metadata": {},
   "outputs": [
    {
     "data": {
      "text/html": [
       "<div>\n",
       "<style scoped>\n",
       "    .dataframe tbody tr th:only-of-type {\n",
       "        vertical-align: middle;\n",
       "    }\n",
       "\n",
       "    .dataframe tbody tr th {\n",
       "        vertical-align: top;\n",
       "    }\n",
       "\n",
       "    .dataframe thead th {\n",
       "        text-align: right;\n",
       "    }\n",
       "</style>\n",
       "<table border=\"1\" class=\"dataframe\">\n",
       "  <thead>\n",
       "    <tr style=\"text-align: right;\">\n",
       "      <th></th>\n",
       "      <th>candle_id</th>\n",
       "      <th>date</th>\n",
       "      <th>start</th>\n",
       "      <th>trading_pair</th>\n",
       "      <th>open</th>\n",
       "      <th>high</th>\n",
       "      <th>low</th>\n",
       "      <th>close</th>\n",
       "      <th>volume</th>\n",
       "      <th>price_change</th>\n",
       "      <th>price_direction</th>\n",
       "      <th>weekday</th>\n",
       "      <th>month</th>\n",
       "      <th>month-year</th>\n",
       "      <th>percent_change</th>\n",
       "    </tr>\n",
       "  </thead>\n",
       "  <tbody>\n",
       "    <tr>\n",
       "      <th>0</th>\n",
       "      <td>ARB-1734480000</td>\n",
       "      <td>2024-12-17 16:00:00-08:00</td>\n",
       "      <td>1734480000</td>\n",
       "      <td>ARB-USD</td>\n",
       "      <td>0.9492</td>\n",
       "      <td>0.9558</td>\n",
       "      <td>0.8510</td>\n",
       "      <td>0.8615</td>\n",
       "      <td>9782590.86</td>\n",
       "      <td>-0.0877</td>\n",
       "      <td>Negative</td>\n",
       "      <td>Tuesday</td>\n",
       "      <td>12</td>\n",
       "      <td>2024-12</td>\n",
       "      <td>-9.239359</td>\n",
       "    </tr>\n",
       "    <tr>\n",
       "      <th>1</th>\n",
       "      <td>ARB-1734393600</td>\n",
       "      <td>2024-12-16 16:00:00-08:00</td>\n",
       "      <td>1734393600</td>\n",
       "      <td>ARB-USD</td>\n",
       "      <td>1.0034</td>\n",
       "      <td>1.0167</td>\n",
       "      <td>0.9343</td>\n",
       "      <td>0.9489</td>\n",
       "      <td>6079050.40</td>\n",
       "      <td>-0.0545</td>\n",
       "      <td>Negative</td>\n",
       "      <td>Monday</td>\n",
       "      <td>12</td>\n",
       "      <td>2024-12</td>\n",
       "      <td>-5.431533</td>\n",
       "    </tr>\n",
       "    <tr>\n",
       "      <th>2</th>\n",
       "      <td>ARB-1734307200</td>\n",
       "      <td>2024-12-15 16:00:00-08:00</td>\n",
       "      <td>1734307200</td>\n",
       "      <td>ARB-USD</td>\n",
       "      <td>1.0169</td>\n",
       "      <td>1.0546</td>\n",
       "      <td>0.9643</td>\n",
       "      <td>1.0032</td>\n",
       "      <td>11107753.24</td>\n",
       "      <td>-0.0137</td>\n",
       "      <td>Negative</td>\n",
       "      <td>Sunday</td>\n",
       "      <td>12</td>\n",
       "      <td>2024-12</td>\n",
       "      <td>-1.347232</td>\n",
       "    </tr>\n",
       "    <tr>\n",
       "      <th>3</th>\n",
       "      <td>ARB-1735516800</td>\n",
       "      <td>2024-12-29 16:00:00-08:00</td>\n",
       "      <td>1735516800</td>\n",
       "      <td>ARB-USD</td>\n",
       "      <td>0.7414</td>\n",
       "      <td>0.7702</td>\n",
       "      <td>0.7161</td>\n",
       "      <td>0.7319</td>\n",
       "      <td>14215223.65</td>\n",
       "      <td>-0.0095</td>\n",
       "      <td>Negative</td>\n",
       "      <td>Sunday</td>\n",
       "      <td>12</td>\n",
       "      <td>2024-12</td>\n",
       "      <td>-1.281360</td>\n",
       "    </tr>\n",
       "    <tr>\n",
       "      <th>4</th>\n",
       "      <td>ARB-1735430400</td>\n",
       "      <td>2024-12-28 16:00:00-08:00</td>\n",
       "      <td>1735430400</td>\n",
       "      <td>ARB-USD</td>\n",
       "      <td>0.7755</td>\n",
       "      <td>0.7819</td>\n",
       "      <td>0.7326</td>\n",
       "      <td>0.7411</td>\n",
       "      <td>2435685.80</td>\n",
       "      <td>-0.0344</td>\n",
       "      <td>Negative</td>\n",
       "      <td>Saturday</td>\n",
       "      <td>12</td>\n",
       "      <td>2024-12</td>\n",
       "      <td>-4.435848</td>\n",
       "    </tr>\n",
       "  </tbody>\n",
       "</table>\n",
       "</div>"
      ],
      "text/plain": [
       "        candle_id                       date       start trading_pair    open  \\\n",
       "0  ARB-1734480000  2024-12-17 16:00:00-08:00  1734480000      ARB-USD  0.9492   \n",
       "1  ARB-1734393600  2024-12-16 16:00:00-08:00  1734393600      ARB-USD  1.0034   \n",
       "2  ARB-1734307200  2024-12-15 16:00:00-08:00  1734307200      ARB-USD  1.0169   \n",
       "3  ARB-1735516800  2024-12-29 16:00:00-08:00  1735516800      ARB-USD  0.7414   \n",
       "4  ARB-1735430400  2024-12-28 16:00:00-08:00  1735430400      ARB-USD  0.7755   \n",
       "\n",
       "     high     low   close       volume  price_change price_direction  \\\n",
       "0  0.9558  0.8510  0.8615   9782590.86       -0.0877        Negative   \n",
       "1  1.0167  0.9343  0.9489   6079050.40       -0.0545        Negative   \n",
       "2  1.0546  0.9643  1.0032  11107753.24       -0.0137        Negative   \n",
       "3  0.7702  0.7161  0.7319  14215223.65       -0.0095        Negative   \n",
       "4  0.7819  0.7326  0.7411   2435685.80       -0.0344        Negative   \n",
       "\n",
       "    weekday  month month-year  percent_change  \n",
       "0   Tuesday     12    2024-12       -9.239359  \n",
       "1    Monday     12    2024-12       -5.431533  \n",
       "2    Sunday     12    2024-12       -1.347232  \n",
       "3    Sunday     12    2024-12       -1.281360  \n",
       "4  Saturday     12    2024-12       -4.435848  "
      ]
     },
     "execution_count": 28,
     "metadata": {},
     "output_type": "execute_result"
    }
   ],
   "source": [
    "df_weekday_candles.head()"
   ]
  },
  {
   "cell_type": "code",
   "execution_count": 55,
   "metadata": {},
   "outputs": [
    {
     "data": {
      "application/vnd.plotly.v1+json": {
       "config": {
        "plotlyServerURL": "https://plot.ly"
       },
       "data": [
        {
         "alignmentgroup": "True",
         "hovertemplate": "weekday=Sunday<br>month-year=%{x}<br>price_change=%{y}<extra></extra>",
         "legendgroup": "",
         "marker": {
          "color": "#636efa"
         },
         "name": "",
         "notched": false,
         "offsetgroup": "",
         "orientation": "v",
         "showlegend": false,
         "type": "box",
         "x": [
          "2024-12",
          "2024-12",
          "2024-12",
          "2024-12",
          "2024-12",
          "2024-11",
          "2024-11",
          "2024-11",
          "2024-11",
          "2024-10",
          "2024-10",
          "2024-10",
          "2024-10",
          "2025-01",
          "2025-01",
          "2025-01",
          "2025-01",
          "2024-09",
          "2024-09",
          "2024-09",
          "2024-09",
          "2024-09",
          "2024-08",
          "2024-08",
          "2024-08",
          "2024-08"
         ],
         "x0": " ",
         "xaxis": "x7",
         "y": {
          "bdata": "gD+k374OjL/A+X5qvHSDv1AldQKaCKs/rIvbaABvyb+gWfW52oqtP/AvuycPC6U/+FPjpZvEsD9ALv8h/falP0DfT42XboK/AH9qvHSTaD8g0m9fB86ZvzBuowG8BaI/AL4wmSoYhb8QG55eKcugvwDMf0i/fU2/oCO5/If0m78AkDF3LSFfPyAv3SQGgaW/AEQc6+I2Sr8AvLiNBvBGv8AA3gIJio8/0M73U+Olmz/gzvdT46Wbv4BuowG8BXI/IMKGp1fKoj94aJHtfD+1vw==",
          "dtype": "f8"
         },
         "y0": " ",
         "yaxis": "y7"
        },
        {
         "alignmentgroup": "True",
         "hovertemplate": "weekday=Monday<br>month-year=%{x}<br>price_change=%{y}<extra></extra>",
         "legendgroup": "",
         "marker": {
          "color": "#636efa"
         },
         "name": "",
         "notched": false,
         "offsetgroup": "",
         "orientation": "v",
         "showlegend": false,
         "type": "box",
         "x": [
          "2024-12",
          "2024-12",
          "2024-12",
          "2024-12",
          "2024-12",
          "2024-11",
          "2024-11",
          "2024-11",
          "2024-11",
          "2024-10",
          "2024-10",
          "2024-10",
          "2024-10",
          "2025-01",
          "2025-01",
          "2025-01",
          "2025-01",
          "2024-09",
          "2024-09",
          "2024-09",
          "2024-09",
          "2024-09",
          "2024-08",
          "2024-08",
          "2024-08",
          "2024-08"
         ],
         "x0": " ",
         "xaxis": "x6",
         "y": {
          "bdata": "kJVDi2znq7/AuriNBvCGv8D5fmq8dJM/gC0hH/Rslr8AFmpN846TP5DEILByaKG/0CtlGeJYp7/AoUW28/2kvzBuowG8BZI/INJvXwfOmT8AjErqBDSBvwAmdQKaCGs/wBcmUwWjgr/ApnnHKTqiP9CYu5aQD6q/YO5aQj7omT+wtmJ/2T25vzAIrBxaZKu/IFUwKqkTkD+A1edqK/aHP8D5fmq8dIM/8GX35GGhlr8AutqK/WWnvwC7uI0G8Ha/AL4wmSoYhb+wMJkqGJWUPw==",
          "dtype": "f8"
         },
         "y0": " ",
         "yaxis": "y6"
        },
        {
         "alignmentgroup": "True",
         "hovertemplate": "weekday=Tuesday<br>month-year=%{x}<br>price_change=%{y}<extra></extra>",
         "legendgroup": "",
         "marker": {
          "color": "#636efa"
         },
         "name": "",
         "notched": false,
         "offsetgroup": "",
         "orientation": "v",
         "showlegend": false,
         "type": "box",
         "x": [
          "2024-12",
          "2024-12",
          "2024-12",
          "2024-12",
          "2024-12",
          "2024-11",
          "2024-11",
          "2024-11",
          "2024-11",
          "2024-10",
          "2024-10",
          "2024-10",
          "2024-10",
          "2024-10",
          "2025-01",
          "2025-01",
          "2025-01",
          "2025-01",
          "2024-09",
          "2024-09",
          "2024-09",
          "2024-09",
          "2024-08",
          "2024-08",
          "2024-08",
          "2024-08"
         ],
         "x0": " ",
         "xaxis": "x5",
         "y": {
          "bdata": "iPTb14Fztr+AKO0NvjCZPwDP91PjpYu/MDqSy39Irz8gDwu1pnm3Pxi30QDeArk/oPYGX5hMlb/AFyZTBaOSv/h14JwRpa0/gBSuR+F6hD8AvjCZKhiVv0CgibDh6YW/IBZqTfOOk7+AbOf7qfGSv2Cz6nO1Fas/ACL99nXgjD/ASQwCK4eWv/D91HjpJqG/gOLHmLuWkL+AHoXrUbh+P6Ddk4eFWpO/gLq4jQbwZj8AB84ZUdprv0BuowG8BZI/AIxK6gQ0kb8QNBE2PL2Svw==",
          "dtype": "f8"
         },
         "y0": " ",
         "yaxis": "y5"
        },
        {
         "alignmentgroup": "True",
         "hovertemplate": "weekday=Wednesday<br>month-year=%{x}<br>price_change=%{y}<extra></extra>",
         "legendgroup": "",
         "marker": {
          "color": "#636efa"
         },
         "name": "",
         "notched": false,
         "offsetgroup": "",
         "orientation": "v",
         "showlegend": false,
         "type": "box",
         "x": [
          "2024-12",
          "2024-12",
          "2024-12",
          "2024-12",
          "2024-11",
          "2024-11",
          "2024-11",
          "2024-11",
          "2024-10",
          "2024-10",
          "2024-10",
          "2024-10",
          "2024-10",
          "2025-01",
          "2025-01",
          "2025-01",
          "2025-01",
          "2025-01",
          "2024-09",
          "2024-09",
          "2024-09",
          "2024-09",
          "2024-08",
          "2024-08",
          "2024-08",
          "2024-08"
         ],
         "x0": " ",
         "xaxis": "x4",
         "y": {
          "bdata": "cF8HzhlRqr8g2/l+ary0v8AFEhQ/xpw/gBniWBe3ob+QsgxxrIurv1CWIY51cbs/oHA9CtejoL9wcRsN4C2gP6BVn6ut2J+/ALq4jQbwVj/A2F92Tx6GvwCq8dJNYnA/ABSuR+F6ZD/Qw0Ktad6hvyAqqRPQRJg/4NvXgXNGlD/w9EpZhjimv4Dk8h/Sb58/YLx0kxgElj9AzTtO0ZGcP0C+MJkqGIU/AKrx0k1iQD9A/fZ14JyBv0BuowG8BYI/4CYxCKwcmr8wbqMBvAWyPw==",
          "dtype": "f8"
         },
         "y0": " ",
         "yaxis": "y4"
        },
        {
         "alignmentgroup": "True",
         "hovertemplate": "weekday=Thursday<br>month-year=%{x}<br>price_change=%{y}<extra></extra>",
         "legendgroup": "",
         "marker": {
          "color": "#636efa"
         },
         "name": "",
         "notched": false,
         "offsetgroup": "",
         "orientation": "v",
         "showlegend": false,
         "type": "box",
         "x": [
          "2024-12",
          "2024-12",
          "2024-12",
          "2024-12",
          "2024-11",
          "2024-11",
          "2024-11",
          "2024-11",
          "2024-10",
          "2024-10",
          "2024-10",
          "2024-10",
          "2024-10",
          "2025-01",
          "2025-01",
          "2025-01",
          "2025-01",
          "2025-01",
          "2024-09",
          "2024-09",
          "2024-09",
          "2024-09",
          "2024-08",
          "2024-08",
          "2024-08",
          "2024-08",
          "2024-08"
         ],
         "x0": " ",
         "xaxis": "x3",
         "y": {
          "bdata": "gHh6pSxDfD+A4seYu5aQPwC0yHa+n3o/kML1KFyPsj9AqDXNO06RP2DIBz2bVZ8/QJYhjnVxmz8ATYQNT6+EP4DLf0i/fX2/UOoENBE2rL9gio7k8h+SP0BuowG8BYI/EMe6uI0GoD8AL90kBoGFPyAv3SQGgZW/oDws1JrmrT8AG55eKctwP/BYF7fRAK4/MCqpE9BEqD/AMJkqGJWUPwBhw9MrZYk/gOLHmLuWkL8AvLiNBvBGP1DaG3xhMqU/AIxK6gQ0Yb9gZDvfT42XP+C1hHzQs6m/",
          "dtype": "f8"
         },
         "y0": " ",
         "yaxis": "y3"
        },
        {
         "alignmentgroup": "True",
         "hovertemplate": "weekday=Friday<br>month-year=%{x}<br>price_change=%{y}<extra></extra>",
         "legendgroup": "",
         "marker": {
          "color": "#636efa"
         },
         "name": "",
         "notched": false,
         "offsetgroup": "",
         "orientation": "v",
         "showlegend": false,
         "type": "box",
         "x": [
          "2024-12",
          "2024-12",
          "2024-12",
          "2024-12",
          "2024-11",
          "2024-11",
          "2024-11",
          "2024-11",
          "2024-11",
          "2024-10",
          "2024-10",
          "2024-10",
          "2024-10",
          "2025-01",
          "2025-01",
          "2025-01",
          "2025-01",
          "2025-01",
          "2024-09",
          "2024-09",
          "2024-09",
          "2024-09",
          "2024-08",
          "2024-08",
          "2024-08",
          "2024-08",
          "2024-08"
         ],
         "x0": " ",
         "xaxis": "x2",
         "y": {
          "bdata": "QFdbsb/sjj+w8dJNYhCov7C2Yn/ZPam/gPYGX5hMhb+QhVrTvOOkPwArhxbZzqc/aJHtfD81vj9AXI/C9SicPwAEVg4tso2/gI8xdy0hfz8AbqMBvAViPwCt2F92T24/QDm0yHa+j7+4jQbwFkiwvwAyVTAqqVM/cAskKH6Mqb8AG55eKctwv6ABvAUSFK8/AE2EDU+vlL9ApN++DpyjP4B4eqUsQ3y/gIVa07zjlD8AAAAAAAAAAAA0ETY8vZI/ANJvXwfOeT8AQBzr4jYqPwBQ/Bhz13I/",
          "dtype": "f8"
         },
         "y0": " ",
         "yaxis": "y2"
        },
        {
         "alignmentgroup": "True",
         "hovertemplate": "weekday=Saturday<br>month-year=%{x}<br>price_change=%{y}<extra></extra>",
         "legendgroup": "",
         "marker": {
          "color": "#636efa"
         },
         "name": "",
         "notched": false,
         "offsetgroup": "",
         "orientation": "v",
         "showlegend": false,
         "type": "box",
         "x": [
          "2024-12",
          "2024-12",
          "2024-12",
          "2024-12",
          "2024-11",
          "2024-11",
          "2024-11",
          "2024-11",
          "2024-11",
          "2024-10",
          "2024-10",
          "2024-10",
          "2024-10",
          "2025-01",
          "2025-01",
          "2025-01",
          "2025-01",
          "2024-09",
          "2024-09",
          "2024-09",
          "2024-09",
          "2024-08",
          "2024-08",
          "2024-08",
          "2024-08",
          "2024-08"
         ],
         "x0": " ",
         "xaxis": "x",
         "y": {
          "bdata": "IP32deCcob8A9wZfmExlvwCq8dJNYqA/ABWuR+F6dL8AjErqBDRhv4A8LNSa5n0/INJvXwfOqb+AMlUwKqmDP8C6uI0G8Ja/gLq4jQbwdj9gZDvfT42nP4DEILByaIG/QKMBvAUShD8g0m9fB86Zv8gZUdobfLG/gAfOGVHai78A9UpZhjiWPwCq8dJNYmC/AHKKjuTyj7+gTkATYcOTv4BxGw3gLYA/0CtlGeJYl7+AKO0NvjCZvwAldQKaCGu/gNCzWfW5mr+AaJHtfD+lvw==",
          "dtype": "f8"
         },
         "y0": " ",
         "yaxis": "y"
        }
       ],
       "layout": {
        "annotations": [
         {
          "font": {},
          "showarrow": false,
          "text": "Saturday",
          "textangle": 90,
          "x": 0.98,
          "xanchor": "left",
          "xref": "paper",
          "y": 0.05857142857142857,
          "yanchor": "middle",
          "yref": "paper"
         },
         {
          "font": {},
          "showarrow": false,
          "text": "Friday",
          "textangle": 90,
          "x": 0.98,
          "xanchor": "left",
          "xref": "paper",
          "y": 0.2057142857142857,
          "yanchor": "middle",
          "yref": "paper"
         },
         {
          "font": {},
          "showarrow": false,
          "text": "Thursday",
          "textangle": 90,
          "x": 0.98,
          "xanchor": "left",
          "xref": "paper",
          "y": 0.35285714285714287,
          "yanchor": "middle",
          "yref": "paper"
         },
         {
          "font": {},
          "showarrow": false,
          "text": "Wednesday",
          "textangle": 90,
          "x": 0.98,
          "xanchor": "left",
          "xref": "paper",
          "y": 0.49999999999999994,
          "yanchor": "middle",
          "yref": "paper"
         },
         {
          "font": {},
          "showarrow": false,
          "text": "Tuesday",
          "textangle": 90,
          "x": 0.98,
          "xanchor": "left",
          "xref": "paper",
          "y": 0.647142857142857,
          "yanchor": "middle",
          "yref": "paper"
         },
         {
          "font": {},
          "showarrow": false,
          "text": "Monday",
          "textangle": 90,
          "x": 0.98,
          "xanchor": "left",
          "xref": "paper",
          "y": 0.7942857142857143,
          "yanchor": "middle",
          "yref": "paper"
         },
         {
          "font": {},
          "showarrow": false,
          "text": "Sunday",
          "textangle": 90,
          "x": 0.98,
          "xanchor": "left",
          "xref": "paper",
          "y": 0.9414285714285713,
          "yanchor": "middle",
          "yref": "paper"
         }
        ],
        "boxmode": "group",
        "height": 1100,
        "legend": {
         "tracegroupgap": 0
        },
        "margin": {
         "t": 60
        },
        "template": {
         "data": {
          "bar": [
           {
            "error_x": {
             "color": "#2a3f5f"
            },
            "error_y": {
             "color": "#2a3f5f"
            },
            "marker": {
             "line": {
              "color": "#E5ECF6",
              "width": 0.5
             },
             "pattern": {
              "fillmode": "overlay",
              "size": 10,
              "solidity": 0.2
             }
            },
            "type": "bar"
           }
          ],
          "barpolar": [
           {
            "marker": {
             "line": {
              "color": "#E5ECF6",
              "width": 0.5
             },
             "pattern": {
              "fillmode": "overlay",
              "size": 10,
              "solidity": 0.2
             }
            },
            "type": "barpolar"
           }
          ],
          "carpet": [
           {
            "aaxis": {
             "endlinecolor": "#2a3f5f",
             "gridcolor": "white",
             "linecolor": "white",
             "minorgridcolor": "white",
             "startlinecolor": "#2a3f5f"
            },
            "baxis": {
             "endlinecolor": "#2a3f5f",
             "gridcolor": "white",
             "linecolor": "white",
             "minorgridcolor": "white",
             "startlinecolor": "#2a3f5f"
            },
            "type": "carpet"
           }
          ],
          "choropleth": [
           {
            "colorbar": {
             "outlinewidth": 0,
             "ticks": ""
            },
            "type": "choropleth"
           }
          ],
          "contour": [
           {
            "colorbar": {
             "outlinewidth": 0,
             "ticks": ""
            },
            "colorscale": [
             [
              0,
              "#0d0887"
             ],
             [
              0.1111111111111111,
              "#46039f"
             ],
             [
              0.2222222222222222,
              "#7201a8"
             ],
             [
              0.3333333333333333,
              "#9c179e"
             ],
             [
              0.4444444444444444,
              "#bd3786"
             ],
             [
              0.5555555555555556,
              "#d8576b"
             ],
             [
              0.6666666666666666,
              "#ed7953"
             ],
             [
              0.7777777777777778,
              "#fb9f3a"
             ],
             [
              0.8888888888888888,
              "#fdca26"
             ],
             [
              1,
              "#f0f921"
             ]
            ],
            "type": "contour"
           }
          ],
          "contourcarpet": [
           {
            "colorbar": {
             "outlinewidth": 0,
             "ticks": ""
            },
            "type": "contourcarpet"
           }
          ],
          "heatmap": [
           {
            "colorbar": {
             "outlinewidth": 0,
             "ticks": ""
            },
            "colorscale": [
             [
              0,
              "#0d0887"
             ],
             [
              0.1111111111111111,
              "#46039f"
             ],
             [
              0.2222222222222222,
              "#7201a8"
             ],
             [
              0.3333333333333333,
              "#9c179e"
             ],
             [
              0.4444444444444444,
              "#bd3786"
             ],
             [
              0.5555555555555556,
              "#d8576b"
             ],
             [
              0.6666666666666666,
              "#ed7953"
             ],
             [
              0.7777777777777778,
              "#fb9f3a"
             ],
             [
              0.8888888888888888,
              "#fdca26"
             ],
             [
              1,
              "#f0f921"
             ]
            ],
            "type": "heatmap"
           }
          ],
          "histogram": [
           {
            "marker": {
             "pattern": {
              "fillmode": "overlay",
              "size": 10,
              "solidity": 0.2
             }
            },
            "type": "histogram"
           }
          ],
          "histogram2d": [
           {
            "colorbar": {
             "outlinewidth": 0,
             "ticks": ""
            },
            "colorscale": [
             [
              0,
              "#0d0887"
             ],
             [
              0.1111111111111111,
              "#46039f"
             ],
             [
              0.2222222222222222,
              "#7201a8"
             ],
             [
              0.3333333333333333,
              "#9c179e"
             ],
             [
              0.4444444444444444,
              "#bd3786"
             ],
             [
              0.5555555555555556,
              "#d8576b"
             ],
             [
              0.6666666666666666,
              "#ed7953"
             ],
             [
              0.7777777777777778,
              "#fb9f3a"
             ],
             [
              0.8888888888888888,
              "#fdca26"
             ],
             [
              1,
              "#f0f921"
             ]
            ],
            "type": "histogram2d"
           }
          ],
          "histogram2dcontour": [
           {
            "colorbar": {
             "outlinewidth": 0,
             "ticks": ""
            },
            "colorscale": [
             [
              0,
              "#0d0887"
             ],
             [
              0.1111111111111111,
              "#46039f"
             ],
             [
              0.2222222222222222,
              "#7201a8"
             ],
             [
              0.3333333333333333,
              "#9c179e"
             ],
             [
              0.4444444444444444,
              "#bd3786"
             ],
             [
              0.5555555555555556,
              "#d8576b"
             ],
             [
              0.6666666666666666,
              "#ed7953"
             ],
             [
              0.7777777777777778,
              "#fb9f3a"
             ],
             [
              0.8888888888888888,
              "#fdca26"
             ],
             [
              1,
              "#f0f921"
             ]
            ],
            "type": "histogram2dcontour"
           }
          ],
          "mesh3d": [
           {
            "colorbar": {
             "outlinewidth": 0,
             "ticks": ""
            },
            "type": "mesh3d"
           }
          ],
          "parcoords": [
           {
            "line": {
             "colorbar": {
              "outlinewidth": 0,
              "ticks": ""
             }
            },
            "type": "parcoords"
           }
          ],
          "pie": [
           {
            "automargin": true,
            "type": "pie"
           }
          ],
          "scatter": [
           {
            "fillpattern": {
             "fillmode": "overlay",
             "size": 10,
             "solidity": 0.2
            },
            "type": "scatter"
           }
          ],
          "scatter3d": [
           {
            "line": {
             "colorbar": {
              "outlinewidth": 0,
              "ticks": ""
             }
            },
            "marker": {
             "colorbar": {
              "outlinewidth": 0,
              "ticks": ""
             }
            },
            "type": "scatter3d"
           }
          ],
          "scattercarpet": [
           {
            "marker": {
             "colorbar": {
              "outlinewidth": 0,
              "ticks": ""
             }
            },
            "type": "scattercarpet"
           }
          ],
          "scattergeo": [
           {
            "marker": {
             "colorbar": {
              "outlinewidth": 0,
              "ticks": ""
             }
            },
            "type": "scattergeo"
           }
          ],
          "scattergl": [
           {
            "marker": {
             "colorbar": {
              "outlinewidth": 0,
              "ticks": ""
             }
            },
            "type": "scattergl"
           }
          ],
          "scattermap": [
           {
            "marker": {
             "colorbar": {
              "outlinewidth": 0,
              "ticks": ""
             }
            },
            "type": "scattermap"
           }
          ],
          "scattermapbox": [
           {
            "marker": {
             "colorbar": {
              "outlinewidth": 0,
              "ticks": ""
             }
            },
            "type": "scattermapbox"
           }
          ],
          "scatterpolar": [
           {
            "marker": {
             "colorbar": {
              "outlinewidth": 0,
              "ticks": ""
             }
            },
            "type": "scatterpolar"
           }
          ],
          "scatterpolargl": [
           {
            "marker": {
             "colorbar": {
              "outlinewidth": 0,
              "ticks": ""
             }
            },
            "type": "scatterpolargl"
           }
          ],
          "scatterternary": [
           {
            "marker": {
             "colorbar": {
              "outlinewidth": 0,
              "ticks": ""
             }
            },
            "type": "scatterternary"
           }
          ],
          "surface": [
           {
            "colorbar": {
             "outlinewidth": 0,
             "ticks": ""
            },
            "colorscale": [
             [
              0,
              "#0d0887"
             ],
             [
              0.1111111111111111,
              "#46039f"
             ],
             [
              0.2222222222222222,
              "#7201a8"
             ],
             [
              0.3333333333333333,
              "#9c179e"
             ],
             [
              0.4444444444444444,
              "#bd3786"
             ],
             [
              0.5555555555555556,
              "#d8576b"
             ],
             [
              0.6666666666666666,
              "#ed7953"
             ],
             [
              0.7777777777777778,
              "#fb9f3a"
             ],
             [
              0.8888888888888888,
              "#fdca26"
             ],
             [
              1,
              "#f0f921"
             ]
            ],
            "type": "surface"
           }
          ],
          "table": [
           {
            "cells": {
             "fill": {
              "color": "#EBF0F8"
             },
             "line": {
              "color": "white"
             }
            },
            "header": {
             "fill": {
              "color": "#C8D4E3"
             },
             "line": {
              "color": "white"
             }
            },
            "type": "table"
           }
          ]
         },
         "layout": {
          "annotationdefaults": {
           "arrowcolor": "#2a3f5f",
           "arrowhead": 0,
           "arrowwidth": 1
          },
          "autotypenumbers": "strict",
          "coloraxis": {
           "colorbar": {
            "outlinewidth": 0,
            "ticks": ""
           }
          },
          "colorscale": {
           "diverging": [
            [
             0,
             "#8e0152"
            ],
            [
             0.1,
             "#c51b7d"
            ],
            [
             0.2,
             "#de77ae"
            ],
            [
             0.3,
             "#f1b6da"
            ],
            [
             0.4,
             "#fde0ef"
            ],
            [
             0.5,
             "#f7f7f7"
            ],
            [
             0.6,
             "#e6f5d0"
            ],
            [
             0.7,
             "#b8e186"
            ],
            [
             0.8,
             "#7fbc41"
            ],
            [
             0.9,
             "#4d9221"
            ],
            [
             1,
             "#276419"
            ]
           ],
           "sequential": [
            [
             0,
             "#0d0887"
            ],
            [
             0.1111111111111111,
             "#46039f"
            ],
            [
             0.2222222222222222,
             "#7201a8"
            ],
            [
             0.3333333333333333,
             "#9c179e"
            ],
            [
             0.4444444444444444,
             "#bd3786"
            ],
            [
             0.5555555555555556,
             "#d8576b"
            ],
            [
             0.6666666666666666,
             "#ed7953"
            ],
            [
             0.7777777777777778,
             "#fb9f3a"
            ],
            [
             0.8888888888888888,
             "#fdca26"
            ],
            [
             1,
             "#f0f921"
            ]
           ],
           "sequentialminus": [
            [
             0,
             "#0d0887"
            ],
            [
             0.1111111111111111,
             "#46039f"
            ],
            [
             0.2222222222222222,
             "#7201a8"
            ],
            [
             0.3333333333333333,
             "#9c179e"
            ],
            [
             0.4444444444444444,
             "#bd3786"
            ],
            [
             0.5555555555555556,
             "#d8576b"
            ],
            [
             0.6666666666666666,
             "#ed7953"
            ],
            [
             0.7777777777777778,
             "#fb9f3a"
            ],
            [
             0.8888888888888888,
             "#fdca26"
            ],
            [
             1,
             "#f0f921"
            ]
           ]
          },
          "colorway": [
           "#636efa",
           "#EF553B",
           "#00cc96",
           "#ab63fa",
           "#FFA15A",
           "#19d3f3",
           "#FF6692",
           "#B6E880",
           "#FF97FF",
           "#FECB52"
          ],
          "font": {
           "color": "#2a3f5f"
          },
          "geo": {
           "bgcolor": "white",
           "lakecolor": "white",
           "landcolor": "#E5ECF6",
           "showlakes": true,
           "showland": true,
           "subunitcolor": "white"
          },
          "hoverlabel": {
           "align": "left"
          },
          "hovermode": "closest",
          "mapbox": {
           "style": "light"
          },
          "paper_bgcolor": "white",
          "plot_bgcolor": "#E5ECF6",
          "polar": {
           "angularaxis": {
            "gridcolor": "white",
            "linecolor": "white",
            "ticks": ""
           },
           "bgcolor": "#E5ECF6",
           "radialaxis": {
            "gridcolor": "white",
            "linecolor": "white",
            "ticks": ""
           }
          },
          "scene": {
           "xaxis": {
            "backgroundcolor": "#E5ECF6",
            "gridcolor": "white",
            "gridwidth": 2,
            "linecolor": "white",
            "showbackground": true,
            "ticks": "",
            "zerolinecolor": "white"
           },
           "yaxis": {
            "backgroundcolor": "#E5ECF6",
            "gridcolor": "white",
            "gridwidth": 2,
            "linecolor": "white",
            "showbackground": true,
            "ticks": "",
            "zerolinecolor": "white"
           },
           "zaxis": {
            "backgroundcolor": "#E5ECF6",
            "gridcolor": "white",
            "gridwidth": 2,
            "linecolor": "white",
            "showbackground": true,
            "ticks": "",
            "zerolinecolor": "white"
           }
          },
          "shapedefaults": {
           "line": {
            "color": "#2a3f5f"
           }
          },
          "ternary": {
           "aaxis": {
            "gridcolor": "white",
            "linecolor": "white",
            "ticks": ""
           },
           "baxis": {
            "gridcolor": "white",
            "linecolor": "white",
            "ticks": ""
           },
           "bgcolor": "#E5ECF6",
           "caxis": {
            "gridcolor": "white",
            "linecolor": "white",
            "ticks": ""
           }
          },
          "title": {
           "x": 0.05
          },
          "xaxis": {
           "automargin": true,
           "gridcolor": "white",
           "linecolor": "white",
           "ticks": "",
           "title": {
            "standoff": 15
           },
           "zerolinecolor": "white",
           "zerolinewidth": 2
          },
          "yaxis": {
           "automargin": true,
           "gridcolor": "white",
           "linecolor": "white",
           "ticks": "",
           "title": {
            "standoff": 15
           },
           "zerolinecolor": "white",
           "zerolinewidth": 2
          }
         }
        },
        "width": 1000,
        "xaxis": {
         "anchor": "y",
         "categoryarray": [
          "2024-08",
          "2024-09",
          "2024-10",
          "2024-11",
          "2024-12",
          "2025-01"
         ],
         "categoryorder": "array",
         "domain": [
          0,
          0.98
         ],
         "title": {
          "text": "month-year"
         }
        },
        "xaxis2": {
         "anchor": "y2",
         "domain": [
          0,
          0.98
         ],
         "matches": "x",
         "showticklabels": false
        },
        "xaxis3": {
         "anchor": "y3",
         "domain": [
          0,
          0.98
         ],
         "matches": "x",
         "showticklabels": false
        },
        "xaxis4": {
         "anchor": "y4",
         "domain": [
          0,
          0.98
         ],
         "matches": "x",
         "showticklabels": false
        },
        "xaxis5": {
         "anchor": "y5",
         "domain": [
          0,
          0.98
         ],
         "matches": "x",
         "showticklabels": false
        },
        "xaxis6": {
         "anchor": "y6",
         "domain": [
          0,
          0.98
         ],
         "matches": "x",
         "showticklabels": false
        },
        "xaxis7": {
         "anchor": "y7",
         "domain": [
          0,
          0.98
         ],
         "matches": "x",
         "showticklabels": false
        },
        "yaxis": {
         "anchor": "x",
         "domain": [
          0,
          0.11714285714285715
         ],
         "title": {
          "text": "price_change"
         }
        },
        "yaxis2": {
         "anchor": "x2",
         "domain": [
          0.14714285714285713,
          0.2642857142857143
         ],
         "matches": "y",
         "title": {
          "text": "price_change"
         }
        },
        "yaxis3": {
         "anchor": "x3",
         "domain": [
          0.29428571428571426,
          0.4114285714285714
         ],
         "matches": "y",
         "title": {
          "text": "price_change"
         }
        },
        "yaxis4": {
         "anchor": "x4",
         "domain": [
          0.4414285714285714,
          0.5585714285714285
         ],
         "matches": "y",
         "title": {
          "text": "price_change"
         }
        },
        "yaxis5": {
         "anchor": "x5",
         "domain": [
          0.5885714285714285,
          0.7057142857142856
         ],
         "matches": "y",
         "title": {
          "text": "price_change"
         }
        },
        "yaxis6": {
         "anchor": "x6",
         "domain": [
          0.7357142857142858,
          0.8528571428571429
         ],
         "matches": "y",
         "title": {
          "text": "price_change"
         }
        },
        "yaxis7": {
         "anchor": "x7",
         "domain": [
          0.8828571428571428,
          0.9999999999999999
         ],
         "matches": "y",
         "title": {
          "text": "price_change"
         }
        }
       }
      }
     },
     "metadata": {},
     "output_type": "display_data"
    }
   ],
   "source": [
    "df_weekday_prices = df_weekday_candles[['month-year', 'weekday', 'price_change']]\n",
    "fig_wkday_prices = px.box(df_weekday_prices, x='month-year', y='price_change', facet_row='weekday',\n",
    "                          category_orders={'month-year':month_years_order, 'weekday': weekdays_order})\n",
    "fig_wkday_prices.for_each_annotation(lambda x: x.update(text=x.text.split('=')[-1]))\n",
    "fig_wkday_prices.update_layout(\n",
    "    height=wkday_fig_height+250,\n",
    "    width=wkday_fig_width-450\n",
    ")\n",
    "fig_wkday_prices.show()"
   ]
  },
  {
   "cell_type": "code",
   "execution_count": 107,
   "metadata": {},
   "outputs": [
    {
     "data": {
      "text/html": [
       "<div>\n",
       "<style scoped>\n",
       "    .dataframe tbody tr th:only-of-type {\n",
       "        vertical-align: middle;\n",
       "    }\n",
       "\n",
       "    .dataframe tbody tr th {\n",
       "        vertical-align: top;\n",
       "    }\n",
       "\n",
       "    .dataframe thead th {\n",
       "        text-align: right;\n",
       "    }\n",
       "</style>\n",
       "<table border=\"1\" class=\"dataframe\">\n",
       "  <thead>\n",
       "    <tr style=\"text-align: right;\">\n",
       "      <th></th>\n",
       "      <th>month-year</th>\n",
       "      <th>weekday</th>\n",
       "      <th>max</th>\n",
       "      <th>min</th>\n",
       "      <th>avg</th>\n",
       "    </tr>\n",
       "  </thead>\n",
       "  <tbody>\n",
       "    <tr>\n",
       "      <th>0</th>\n",
       "      <td>2024-08</td>\n",
       "      <td>Friday</td>\n",
       "      <td>0.0183</td>\n",
       "      <td>0.0000</td>\n",
       "      <td>0.005880</td>\n",
       "    </tr>\n",
       "    <tr>\n",
       "      <th>1</th>\n",
       "      <td>2024-08</td>\n",
       "      <td>Monday</td>\n",
       "      <td>0.0201</td>\n",
       "      <td>-0.0457</td>\n",
       "      <td>-0.010375</td>\n",
       "    </tr>\n",
       "    <tr>\n",
       "      <th>2</th>\n",
       "      <td>2024-08</td>\n",
       "      <td>Saturday</td>\n",
       "      <td>-0.0033</td>\n",
       "      <td>-0.0415</td>\n",
       "      <td>-0.023660</td>\n",
       "    </tr>\n",
       "    <tr>\n",
       "      <th>3</th>\n",
       "      <td>2024-08</td>\n",
       "      <td>Sunday</td>\n",
       "      <td>0.0367</td>\n",
       "      <td>-0.0830</td>\n",
       "      <td>-0.017225</td>\n",
       "    </tr>\n",
       "    <tr>\n",
       "      <th>4</th>\n",
       "      <td>2024-08</td>\n",
       "      <td>Thursday</td>\n",
       "      <td>0.0414</td>\n",
       "      <td>-0.0502</td>\n",
       "      <td>0.002560</td>\n",
       "    </tr>\n",
       "  </tbody>\n",
       "</table>\n",
       "</div>"
      ],
      "text/plain": [
       "  month-year   weekday     max     min       avg\n",
       "0    2024-08    Friday  0.0183  0.0000  0.005880\n",
       "1    2024-08    Monday  0.0201 -0.0457 -0.010375\n",
       "2    2024-08  Saturday -0.0033 -0.0415 -0.023660\n",
       "3    2024-08    Sunday  0.0367 -0.0830 -0.017225\n",
       "4    2024-08  Thursday  0.0414 -0.0502  0.002560"
      ]
     },
     "execution_count": 107,
     "metadata": {},
     "output_type": "execute_result"
    }
   ],
   "source": [
    "df_max_min = df_weekday_candles[['month-year', 'weekday', 'price_change']].groupby(['month-year', 'weekday'], as_index=False).agg(\n",
    "    max=pd.NamedAgg(column='price_change', aggfunc='max'),\n",
    "    min=pd.NamedAgg(column='price_change', aggfunc='min'),\n",
    "    avg=pd.NamedAgg(column='price_change', aggfunc='mean'),\n",
    "    )\n",
    "df_max_min.head()"
   ]
  },
  {
   "cell_type": "code",
   "execution_count": 110,
   "metadata": {},
   "outputs": [
    {
     "data": {
      "application/vnd.plotly.v1+json": {
       "config": {
        "plotlyServerURL": "https://plot.ly"
       },
       "data": [
        {
         "alignmentgroup": "True",
         "hovertemplate": "variable=avg<br>weekday=Sunday<br>month-year=%{x}<br>value=%{y}<extra></extra>",
         "legendgroup": "avg",
         "marker": {
          "color": "#636efa",
          "pattern": {
           "shape": ""
          }
         },
         "name": "avg",
         "offsetgroup": "avg",
         "orientation": "v",
         "showlegend": true,
         "textposition": "auto",
         "type": "bar",
         "x": [
          "2024-08",
          "2024-09",
          "2024-10",
          "2024-11",
          "2024-12",
          "2025-01"
         ],
         "xaxis": "x7",
         "y": {
          "bdata": "OMSxLm6jkb/NtDic+dUsvwDZX3ZPHkY/lEOLbOf7oT+gZWt9kdCWv5AfY+5aQo6/",
          "dtype": "f8"
         },
         "yaxis": "y7"
        },
        {
         "alignmentgroup": "True",
         "hovertemplate": "variable=max<br>weekday=Sunday<br>month-year=%{x}<br>value=%{y}<extra></extra>",
         "legendgroup": "max",
         "marker": {
          "color": "#EF553B",
          "pattern": {
           "shape": ""
          }
         },
         "name": "max",
         "offsetgroup": "max",
         "orientation": "v",
         "showlegend": true,
         "textposition": "auto",
         "type": "bar",
         "x": [
          "2024-08",
          "2024-09",
          "2024-10",
          "2024-11",
          "2024-12",
          "2025-01"
         ],
         "xaxis": "x7",
         "y": {
          "bdata": "IMKGp1fKoj/QzvdT46WbPzBuowG8BaI/+FPjpZvEsD+gWfW52oqtPwCQMXctIV8/",
          "dtype": "f8"
         },
         "yaxis": "y7"
        },
        {
         "alignmentgroup": "True",
         "hovertemplate": "variable=min<br>weekday=Sunday<br>month-year=%{x}<br>value=%{y}<extra></extra>",
         "legendgroup": "min",
         "marker": {
          "color": "#00cc96",
          "pattern": {
           "shape": ""
          }
         },
         "name": "min",
         "offsetgroup": "min",
         "orientation": "v",
         "showlegend": true,
         "textposition": "auto",
         "type": "bar",
         "x": [
          "2024-08",
          "2024-09",
          "2024-10",
          "2024-11",
          "2024-12",
          "2025-01"
         ],
         "xaxis": "x7",
         "y": {
          "bdata": "eGiR7Xw/tb8gL90kBoGlvyDSb18Hzpm/QN9PjZdugr+si9toAG/JvxAbnl4py6C/",
          "dtype": "f8"
         },
         "yaxis": "y7"
        },
        {
         "alignmentgroup": "True",
         "hovertemplate": "variable=avg<br>weekday=Monday<br>month-year=%{x}<br>value=%{y}<extra></extra>",
         "legendgroup": "avg",
         "marker": {
          "color": "#636efa",
          "pattern": {
           "shape": ""
          }
         },
         "name": "avg",
         "offsetgroup": "avg",
         "orientation": "v",
         "showlegend": false,
         "textposition": "auto",
         "type": "bar",
         "x": [
          "2024-08",
          "2024-09",
          "2024-10",
          "2024-11",
          "2024-12",
          "2025-01"
         ],
         "xaxis": "x6",
         "y": {
          "bdata": "iGiR7Xw/hb+mx+9t+rN/vwBKDAIrh2Y/hO18PzVemr8a3NeBc0aEvyD0bFZ9rpa/",
          "dtype": "f8"
         },
         "yaxis": "y6"
        },
        {
         "alignmentgroup": "True",
         "hovertemplate": "variable=max<br>weekday=Monday<br>month-year=%{x}<br>value=%{y}<extra></extra>",
         "legendgroup": "max",
         "marker": {
          "color": "#EF553B",
          "pattern": {
           "shape": ""
          }
         },
         "name": "max",
         "offsetgroup": "max",
         "orientation": "v",
         "showlegend": false,
         "textposition": "auto",
         "type": "bar",
         "x": [
          "2024-08",
          "2024-09",
          "2024-10",
          "2024-11",
          "2024-12",
          "2025-01"
         ],
         "xaxis": "x6",
         "y": {
          "bdata": "sDCZKhiVlD8gVTAqqROQPyDSb18Hzpk/MG6jAbwFkj8AFmpN846TP8CmeccpOqI/",
          "dtype": "f8"
         },
         "yaxis": "y6"
        },
        {
         "alignmentgroup": "True",
         "hovertemplate": "variable=min<br>weekday=Monday<br>month-year=%{x}<br>value=%{y}<extra></extra>",
         "legendgroup": "min",
         "marker": {
          "color": "#00cc96",
          "pattern": {
           "shape": ""
          }
         },
         "name": "min",
         "offsetgroup": "min",
         "orientation": "v",
         "showlegend": false,
         "textposition": "auto",
         "type": "bar",
         "x": [
          "2024-08",
          "2024-09",
          "2024-10",
          "2024-11",
          "2024-12",
          "2025-01"
         ],
         "xaxis": "x6",
         "y": {
          "bdata": "ALraiv1lp78wCKwcWmSrv8AXJlMFo4K/0CtlGeJYp7+QlUOLbOerv7C2Yn/ZPbm/",
          "dtype": "f8"
         },
         "yaxis": "y6"
        },
        {
         "alignmentgroup": "True",
         "hovertemplate": "variable=avg<br>weekday=Tuesday<br>month-year=%{x}<br>value=%{y}<extra></extra>",
         "legendgroup": "avg",
         "marker": {
          "color": "#636efa",
          "pattern": {
           "shape": ""
          }
         },
         "name": "avg",
         "offsetgroup": "avg",
         "orientation": "v",
         "showlegend": false,
         "textposition": "auto",
         "type": "bar",
         "x": [
          "2024-08",
          "2024-09",
          "2024-10",
          "2024-11",
          "2024-12",
          "2025-01"
         ],
         "xaxis": "x5",
         "y": {
          "bdata": "sBLyQc9mdb8wYcPTK2V5vzOc+dUcIIi/fK62Yn/ZnT8ac7osJjaPP0BkO99PjWc/",
          "dtype": "f8"
         },
         "yaxis": "y5"
        },
        {
         "alignmentgroup": "True",
         "hovertemplate": "variable=max<br>weekday=Tuesday<br>month-year=%{x}<br>value=%{y}<extra></extra>",
         "legendgroup": "max",
         "marker": {
          "color": "#EF553B",
          "pattern": {
           "shape": ""
          }
         },
         "name": "max",
         "offsetgroup": "max",
         "orientation": "v",
         "showlegend": false,
         "textposition": "auto",
         "type": "bar",
         "x": [
          "2024-08",
          "2024-09",
          "2024-10",
          "2024-11",
          "2024-12",
          "2025-01"
         ],
         "xaxis": "x5",
         "y": {
          "bdata": "QG6jAbwFkj+AHoXrUbh+P4AUrkfheoQ/GLfRAN4CuT8gDwu1pnm3P2Cz6nO1Fas/",
          "dtype": "f8"
         },
         "yaxis": "y5"
        },
        {
         "alignmentgroup": "True",
         "hovertemplate": "variable=min<br>weekday=Tuesday<br>month-year=%{x}<br>value=%{y}<extra></extra>",
         "legendgroup": "min",
         "marker": {
          "color": "#00cc96",
          "pattern": {
           "shape": ""
          }
         },
         "name": "min",
         "offsetgroup": "min",
         "orientation": "v",
         "showlegend": false,
         "textposition": "auto",
         "type": "bar",
         "x": [
          "2024-08",
          "2024-09",
          "2024-10",
          "2024-11",
          "2024-12",
          "2025-01"
         ],
         "xaxis": "x5",
         "y": {
          "bdata": "EDQRNjy9kr+g3ZOHhVqTvwC+MJkqGJW/oPYGX5hMlb+I9NvXgXO2v/D91HjpJqG/",
          "dtype": "f8"
         },
         "yaxis": "y5"
        },
        {
         "alignmentgroup": "True",
         "hovertemplate": "variable=avg<br>weekday=Wednesday<br>month-year=%{x}<br>value=%{y}<extra></extra>",
         "legendgroup": "avg",
         "marker": {
          "color": "#636efa",
          "pattern": {
           "shape": ""
          }
         },
         "name": "avg",
         "offsetgroup": "avg",
         "orientation": "v",
         "showlegend": false,
         "textposition": "auto",
         "type": "bar",
         "x": [
          "2024-08",
          "2024-09",
          "2024-10",
          "2024-11",
          "2024-12",
          "2025-01"
         ],
         "xaxis": "x4",
         "y": {
          "bdata": "MGUZ4lgXhz8IO3DOiNKOP4AHzhlR2nu/4HoUrkfhij8UC7WmecehvwBgY5eo3kq/",
          "dtype": "f8"
         },
         "yaxis": "y4"
        },
        {
         "alignmentgroup": "True",
         "hovertemplate": "variable=max<br>weekday=Wednesday<br>month-year=%{x}<br>value=%{y}<extra></extra>",
         "legendgroup": "max",
         "marker": {
          "color": "#EF553B",
          "pattern": {
           "shape": ""
          }
         },
         "name": "max",
         "offsetgroup": "max",
         "orientation": "v",
         "showlegend": false,
         "textposition": "auto",
         "type": "bar",
         "x": [
          "2024-08",
          "2024-09",
          "2024-10",
          "2024-11",
          "2024-12",
          "2025-01"
         ],
         "xaxis": "x4",
         "y": {
          "bdata": "MG6jAbwFsj9AzTtO0ZGcPwCq8dJNYnA/UJYhjnVxuz/ABRIUP8acP4Dk8h/Sb58/",
          "dtype": "f8"
         },
         "yaxis": "y4"
        },
        {
         "alignmentgroup": "True",
         "hovertemplate": "variable=min<br>weekday=Wednesday<br>month-year=%{x}<br>value=%{y}<extra></extra>",
         "legendgroup": "min",
         "marker": {
          "color": "#00cc96",
          "pattern": {
           "shape": ""
          }
         },
         "name": "min",
         "offsetgroup": "min",
         "orientation": "v",
         "showlegend": false,
         "textposition": "auto",
         "type": "bar",
         "x": [
          "2024-08",
          "2024-09",
          "2024-10",
          "2024-11",
          "2024-12",
          "2025-01"
         ],
         "xaxis": "x4",
         "y": {
          "bdata": "4CYxCKwcmr8AqvHSTWJAP6BVn6ut2J+/kLIMcayLq78g2/l+ary0v/D0SlmGOKa/",
          "dtype": "f8"
         },
         "yaxis": "y4"
        },
        {
         "alignmentgroup": "True",
         "hovertemplate": "variable=avg<br>weekday=Thursday<br>month-year=%{x}<br>value=%{y}<extra></extra>",
         "legendgroup": "avg",
         "marker": {
          "color": "#636efa",
          "pattern": {
           "shape": ""
          }
         },
         "name": "avg",
         "offsetgroup": "avg",
         "orientation": "v",
         "showlegend": false,
         "textposition": "auto",
         "type": "bar",
         "x": [
          "2024-08",
          "2024-09",
          "2024-10",
          "2024-11",
          "2024-12",
          "2025-01"
         ],
         "xaxis": "x3",
         "y": {
          "bdata": "AGnjiLX4ZD/IVMGopE6QPwDMf0i/fU2/WEvIBz2blT/47evAOSOaP9qeWRKgppY/",
          "dtype": "f8"
         },
         "yaxis": "y3"
        },
        {
         "alignmentgroup": "True",
         "hovertemplate": "variable=max<br>weekday=Thursday<br>month-year=%{x}<br>value=%{y}<extra></extra>",
         "legendgroup": "max",
         "marker": {
          "color": "#EF553B",
          "pattern": {
           "shape": ""
          }
         },
         "name": "max",
         "offsetgroup": "max",
         "orientation": "v",
         "showlegend": false,
         "textposition": "auto",
         "type": "bar",
         "x": [
          "2024-08",
          "2024-09",
          "2024-10",
          "2024-11",
          "2024-12",
          "2025-01"
         ],
         "xaxis": "x3",
         "y": {
          "bdata": "UNobfGEypT8wKqkT0ESoPxDHuriNBqA/YMgHPZtVnz+QwvUoXI+yP/BYF7fRAK4/",
          "dtype": "f8"
         },
         "yaxis": "y3"
        },
        {
         "alignmentgroup": "True",
         "hovertemplate": "variable=min<br>weekday=Thursday<br>month-year=%{x}<br>value=%{y}<extra></extra>",
         "legendgroup": "min",
         "marker": {
          "color": "#00cc96",
          "pattern": {
           "shape": ""
          }
         },
         "name": "min",
         "offsetgroup": "min",
         "orientation": "v",
         "showlegend": false,
         "textposition": "auto",
         "type": "bar",
         "x": [
          "2024-08",
          "2024-09",
          "2024-10",
          "2024-11",
          "2024-12",
          "2025-01"
         ],
         "xaxis": "x3",
         "y": {
          "bdata": "4LWEfNCzqb+A4seYu5aQv1DqBDQRNqy/AE2EDU+vhD8AtMh2vp96PyAv3SQGgZW/",
          "dtype": "f8"
         },
         "yaxis": "y3"
        },
        {
         "alignmentgroup": "True",
         "hovertemplate": "variable=avg<br>weekday=Friday<br>month-year=%{x}<br>value=%{y}<extra></extra>",
         "legendgroup": "avg",
         "marker": {
          "color": "#636efa",
          "pattern": {
           "shape": ""
          }
         },
         "name": "avg",
         "offsetgroup": "avg",
         "orientation": "v",
         "showlegend": false,
         "textposition": "auto",
         "type": "bar",
         "x": [
          "2024-08",
          "2024-09",
          "2024-10",
          "2024-11",
          "2024-12",
          "2025-01"
         ],
         "xaxis": "x2",
         "y": {
          "bdata": "Zio1e6AVeD9wcRsN4C2APwCr8dJNYkC/gGZJgJpapj8YSFD8GHOXv6Zla32R0Ia/",
          "dtype": "f8"
         },
         "yaxis": "y2"
        },
        {
         "alignmentgroup": "True",
         "hovertemplate": "variable=max<br>weekday=Friday<br>month-year=%{x}<br>value=%{y}<extra></extra>",
         "legendgroup": "max",
         "marker": {
          "color": "#EF553B",
          "pattern": {
           "shape": ""
          }
         },
         "name": "max",
         "offsetgroup": "max",
         "orientation": "v",
         "showlegend": false,
         "textposition": "auto",
         "type": "bar",
         "x": [
          "2024-08",
          "2024-09",
          "2024-10",
          "2024-11",
          "2024-12",
          "2025-01"
         ],
         "xaxis": "x2",
         "y": {
          "bdata": "ADQRNjy9kj9ApN++DpyjP4CPMXctIX8/aJHtfD81vj9AV1uxv+yOP6ABvAUSFK8/",
          "dtype": "f8"
         },
         "yaxis": "y2"
        },
        {
         "alignmentgroup": "True",
         "hovertemplate": "variable=min<br>weekday=Friday<br>month-year=%{x}<br>value=%{y}<extra></extra>",
         "legendgroup": "min",
         "marker": {
          "color": "#00cc96",
          "pattern": {
           "shape": ""
          }
         },
         "name": "min",
         "offsetgroup": "min",
         "orientation": "v",
         "showlegend": false,
         "textposition": "auto",
         "type": "bar",
         "x": [
          "2024-08",
          "2024-09",
          "2024-10",
          "2024-11",
          "2024-12",
          "2025-01"
         ],
         "xaxis": "x2",
         "y": {
          "bdata": "AAAAAAAAAAAATYQNT6+Uv0A5tMh2vo+/AARWDi2yjb+wtmJ/2T2pv7iNBvAWSLC/",
          "dtype": "f8"
         },
         "yaxis": "y2"
        },
        {
         "alignmentgroup": "True",
         "hovertemplate": "variable=avg<br>weekday=Saturday<br>month-year=%{x}<br>value=%{y}<extra></extra>",
         "legendgroup": "avg",
         "marker": {
          "color": "#636efa",
          "pattern": {
           "shape": ""
          }
         },
         "name": "avg",
         "offsetgroup": "avg",
         "orientation": "v",
         "showlegend": false,
         "textposition": "auto",
         "type": "bar",
         "x": [
          "2024-08",
          "2024-09",
          "2024-10",
          "2024-11",
          "2024-12",
          "2025-01"
         ],
         "xaxis": "x",
         "y": {
          "bdata": "fbjkuFM6mL8gBFYOLbJ9v2Cz6nO1FYs/2pwRpb3Bh7/AFK5H4XpkvwASFD/G3JW/",
          "dtype": "f8"
         },
         "yaxis": "y"
        },
        {
         "alignmentgroup": "True",
         "hovertemplate": "variable=max<br>weekday=Saturday<br>month-year=%{x}<br>value=%{y}<extra></extra>",
         "legendgroup": "max",
         "marker": {
          "color": "#EF553B",
          "pattern": {
           "shape": ""
          }
         },
         "name": "max",
         "offsetgroup": "max",
         "orientation": "v",
         "showlegend": false,
         "textposition": "auto",
         "type": "bar",
         "x": [
          "2024-08",
          "2024-09",
          "2024-10",
          "2024-11",
          "2024-12",
          "2025-01"
         ],
         "xaxis": "x",
         "y": {
          "bdata": "ACV1ApoIa7+AcRsN4C2AP2BkO99Pjac/gDJVMCqpgz8AqvHSTWKgPwD1SlmGOJY/",
          "dtype": "f8"
         },
         "yaxis": "y"
        },
        {
         "alignmentgroup": "True",
         "hovertemplate": "variable=min<br>weekday=Saturday<br>month-year=%{x}<br>value=%{y}<extra></extra>",
         "legendgroup": "min",
         "marker": {
          "color": "#00cc96",
          "pattern": {
           "shape": ""
          }
         },
         "name": "min",
         "offsetgroup": "min",
         "orientation": "v",
         "showlegend": false,
         "textposition": "auto",
         "type": "bar",
         "x": [
          "2024-08",
          "2024-09",
          "2024-10",
          "2024-11",
          "2024-12",
          "2025-01"
         ],
         "xaxis": "x",
         "y": {
          "bdata": "gGiR7Xw/pb+gTkATYcOTv4DEILByaIG/INJvXwfOqb8g/fZ14Jyhv8gZUdobfLG/",
          "dtype": "f8"
         },
         "yaxis": "y"
        }
       ],
       "layout": {
        "annotations": [
         {
          "font": {},
          "showarrow": false,
          "text": "Saturday",
          "textangle": 90,
          "x": 0.98,
          "xanchor": "left",
          "xref": "paper",
          "y": 0.05857142857142857,
          "yanchor": "middle",
          "yref": "paper"
         },
         {
          "font": {},
          "showarrow": false,
          "text": "Friday",
          "textangle": 90,
          "x": 0.98,
          "xanchor": "left",
          "xref": "paper",
          "y": 0.2057142857142857,
          "yanchor": "middle",
          "yref": "paper"
         },
         {
          "font": {},
          "showarrow": false,
          "text": "Thursday",
          "textangle": 90,
          "x": 0.98,
          "xanchor": "left",
          "xref": "paper",
          "y": 0.35285714285714287,
          "yanchor": "middle",
          "yref": "paper"
         },
         {
          "font": {},
          "showarrow": false,
          "text": "Wednesday",
          "textangle": 90,
          "x": 0.98,
          "xanchor": "left",
          "xref": "paper",
          "y": 0.49999999999999994,
          "yanchor": "middle",
          "yref": "paper"
         },
         {
          "font": {},
          "showarrow": false,
          "text": "Tuesday",
          "textangle": 90,
          "x": 0.98,
          "xanchor": "left",
          "xref": "paper",
          "y": 0.647142857142857,
          "yanchor": "middle",
          "yref": "paper"
         },
         {
          "font": {},
          "showarrow": false,
          "text": "Monday",
          "textangle": 90,
          "x": 0.98,
          "xanchor": "left",
          "xref": "paper",
          "y": 0.7942857142857143,
          "yanchor": "middle",
          "yref": "paper"
         },
         {
          "font": {},
          "showarrow": false,
          "text": "Sunday",
          "textangle": 90,
          "x": 0.98,
          "xanchor": "left",
          "xref": "paper",
          "y": 0.9414285714285713,
          "yanchor": "middle",
          "yref": "paper"
         }
        ],
        "barmode": "group",
        "height": 1300,
        "legend": {
         "title": {
          "text": "variable"
         },
         "tracegroupgap": 0
        },
        "margin": {
         "t": 60
        },
        "template": {
         "data": {
          "bar": [
           {
            "error_x": {
             "color": "#2a3f5f"
            },
            "error_y": {
             "color": "#2a3f5f"
            },
            "marker": {
             "line": {
              "color": "#E5ECF6",
              "width": 0.5
             },
             "pattern": {
              "fillmode": "overlay",
              "size": 10,
              "solidity": 0.2
             }
            },
            "type": "bar"
           }
          ],
          "barpolar": [
           {
            "marker": {
             "line": {
              "color": "#E5ECF6",
              "width": 0.5
             },
             "pattern": {
              "fillmode": "overlay",
              "size": 10,
              "solidity": 0.2
             }
            },
            "type": "barpolar"
           }
          ],
          "carpet": [
           {
            "aaxis": {
             "endlinecolor": "#2a3f5f",
             "gridcolor": "white",
             "linecolor": "white",
             "minorgridcolor": "white",
             "startlinecolor": "#2a3f5f"
            },
            "baxis": {
             "endlinecolor": "#2a3f5f",
             "gridcolor": "white",
             "linecolor": "white",
             "minorgridcolor": "white",
             "startlinecolor": "#2a3f5f"
            },
            "type": "carpet"
           }
          ],
          "choropleth": [
           {
            "colorbar": {
             "outlinewidth": 0,
             "ticks": ""
            },
            "type": "choropleth"
           }
          ],
          "contour": [
           {
            "colorbar": {
             "outlinewidth": 0,
             "ticks": ""
            },
            "colorscale": [
             [
              0,
              "#0d0887"
             ],
             [
              0.1111111111111111,
              "#46039f"
             ],
             [
              0.2222222222222222,
              "#7201a8"
             ],
             [
              0.3333333333333333,
              "#9c179e"
             ],
             [
              0.4444444444444444,
              "#bd3786"
             ],
             [
              0.5555555555555556,
              "#d8576b"
             ],
             [
              0.6666666666666666,
              "#ed7953"
             ],
             [
              0.7777777777777778,
              "#fb9f3a"
             ],
             [
              0.8888888888888888,
              "#fdca26"
             ],
             [
              1,
              "#f0f921"
             ]
            ],
            "type": "contour"
           }
          ],
          "contourcarpet": [
           {
            "colorbar": {
             "outlinewidth": 0,
             "ticks": ""
            },
            "type": "contourcarpet"
           }
          ],
          "heatmap": [
           {
            "colorbar": {
             "outlinewidth": 0,
             "ticks": ""
            },
            "colorscale": [
             [
              0,
              "#0d0887"
             ],
             [
              0.1111111111111111,
              "#46039f"
             ],
             [
              0.2222222222222222,
              "#7201a8"
             ],
             [
              0.3333333333333333,
              "#9c179e"
             ],
             [
              0.4444444444444444,
              "#bd3786"
             ],
             [
              0.5555555555555556,
              "#d8576b"
             ],
             [
              0.6666666666666666,
              "#ed7953"
             ],
             [
              0.7777777777777778,
              "#fb9f3a"
             ],
             [
              0.8888888888888888,
              "#fdca26"
             ],
             [
              1,
              "#f0f921"
             ]
            ],
            "type": "heatmap"
           }
          ],
          "histogram": [
           {
            "marker": {
             "pattern": {
              "fillmode": "overlay",
              "size": 10,
              "solidity": 0.2
             }
            },
            "type": "histogram"
           }
          ],
          "histogram2d": [
           {
            "colorbar": {
             "outlinewidth": 0,
             "ticks": ""
            },
            "colorscale": [
             [
              0,
              "#0d0887"
             ],
             [
              0.1111111111111111,
              "#46039f"
             ],
             [
              0.2222222222222222,
              "#7201a8"
             ],
             [
              0.3333333333333333,
              "#9c179e"
             ],
             [
              0.4444444444444444,
              "#bd3786"
             ],
             [
              0.5555555555555556,
              "#d8576b"
             ],
             [
              0.6666666666666666,
              "#ed7953"
             ],
             [
              0.7777777777777778,
              "#fb9f3a"
             ],
             [
              0.8888888888888888,
              "#fdca26"
             ],
             [
              1,
              "#f0f921"
             ]
            ],
            "type": "histogram2d"
           }
          ],
          "histogram2dcontour": [
           {
            "colorbar": {
             "outlinewidth": 0,
             "ticks": ""
            },
            "colorscale": [
             [
              0,
              "#0d0887"
             ],
             [
              0.1111111111111111,
              "#46039f"
             ],
             [
              0.2222222222222222,
              "#7201a8"
             ],
             [
              0.3333333333333333,
              "#9c179e"
             ],
             [
              0.4444444444444444,
              "#bd3786"
             ],
             [
              0.5555555555555556,
              "#d8576b"
             ],
             [
              0.6666666666666666,
              "#ed7953"
             ],
             [
              0.7777777777777778,
              "#fb9f3a"
             ],
             [
              0.8888888888888888,
              "#fdca26"
             ],
             [
              1,
              "#f0f921"
             ]
            ],
            "type": "histogram2dcontour"
           }
          ],
          "mesh3d": [
           {
            "colorbar": {
             "outlinewidth": 0,
             "ticks": ""
            },
            "type": "mesh3d"
           }
          ],
          "parcoords": [
           {
            "line": {
             "colorbar": {
              "outlinewidth": 0,
              "ticks": ""
             }
            },
            "type": "parcoords"
           }
          ],
          "pie": [
           {
            "automargin": true,
            "type": "pie"
           }
          ],
          "scatter": [
           {
            "fillpattern": {
             "fillmode": "overlay",
             "size": 10,
             "solidity": 0.2
            },
            "type": "scatter"
           }
          ],
          "scatter3d": [
           {
            "line": {
             "colorbar": {
              "outlinewidth": 0,
              "ticks": ""
             }
            },
            "marker": {
             "colorbar": {
              "outlinewidth": 0,
              "ticks": ""
             }
            },
            "type": "scatter3d"
           }
          ],
          "scattercarpet": [
           {
            "marker": {
             "colorbar": {
              "outlinewidth": 0,
              "ticks": ""
             }
            },
            "type": "scattercarpet"
           }
          ],
          "scattergeo": [
           {
            "marker": {
             "colorbar": {
              "outlinewidth": 0,
              "ticks": ""
             }
            },
            "type": "scattergeo"
           }
          ],
          "scattergl": [
           {
            "marker": {
             "colorbar": {
              "outlinewidth": 0,
              "ticks": ""
             }
            },
            "type": "scattergl"
           }
          ],
          "scattermap": [
           {
            "marker": {
             "colorbar": {
              "outlinewidth": 0,
              "ticks": ""
             }
            },
            "type": "scattermap"
           }
          ],
          "scattermapbox": [
           {
            "marker": {
             "colorbar": {
              "outlinewidth": 0,
              "ticks": ""
             }
            },
            "type": "scattermapbox"
           }
          ],
          "scatterpolar": [
           {
            "marker": {
             "colorbar": {
              "outlinewidth": 0,
              "ticks": ""
             }
            },
            "type": "scatterpolar"
           }
          ],
          "scatterpolargl": [
           {
            "marker": {
             "colorbar": {
              "outlinewidth": 0,
              "ticks": ""
             }
            },
            "type": "scatterpolargl"
           }
          ],
          "scatterternary": [
           {
            "marker": {
             "colorbar": {
              "outlinewidth": 0,
              "ticks": ""
             }
            },
            "type": "scatterternary"
           }
          ],
          "surface": [
           {
            "colorbar": {
             "outlinewidth": 0,
             "ticks": ""
            },
            "colorscale": [
             [
              0,
              "#0d0887"
             ],
             [
              0.1111111111111111,
              "#46039f"
             ],
             [
              0.2222222222222222,
              "#7201a8"
             ],
             [
              0.3333333333333333,
              "#9c179e"
             ],
             [
              0.4444444444444444,
              "#bd3786"
             ],
             [
              0.5555555555555556,
              "#d8576b"
             ],
             [
              0.6666666666666666,
              "#ed7953"
             ],
             [
              0.7777777777777778,
              "#fb9f3a"
             ],
             [
              0.8888888888888888,
              "#fdca26"
             ],
             [
              1,
              "#f0f921"
             ]
            ],
            "type": "surface"
           }
          ],
          "table": [
           {
            "cells": {
             "fill": {
              "color": "#EBF0F8"
             },
             "line": {
              "color": "white"
             }
            },
            "header": {
             "fill": {
              "color": "#C8D4E3"
             },
             "line": {
              "color": "white"
             }
            },
            "type": "table"
           }
          ]
         },
         "layout": {
          "annotationdefaults": {
           "arrowcolor": "#2a3f5f",
           "arrowhead": 0,
           "arrowwidth": 1
          },
          "autotypenumbers": "strict",
          "coloraxis": {
           "colorbar": {
            "outlinewidth": 0,
            "ticks": ""
           }
          },
          "colorscale": {
           "diverging": [
            [
             0,
             "#8e0152"
            ],
            [
             0.1,
             "#c51b7d"
            ],
            [
             0.2,
             "#de77ae"
            ],
            [
             0.3,
             "#f1b6da"
            ],
            [
             0.4,
             "#fde0ef"
            ],
            [
             0.5,
             "#f7f7f7"
            ],
            [
             0.6,
             "#e6f5d0"
            ],
            [
             0.7,
             "#b8e186"
            ],
            [
             0.8,
             "#7fbc41"
            ],
            [
             0.9,
             "#4d9221"
            ],
            [
             1,
             "#276419"
            ]
           ],
           "sequential": [
            [
             0,
             "#0d0887"
            ],
            [
             0.1111111111111111,
             "#46039f"
            ],
            [
             0.2222222222222222,
             "#7201a8"
            ],
            [
             0.3333333333333333,
             "#9c179e"
            ],
            [
             0.4444444444444444,
             "#bd3786"
            ],
            [
             0.5555555555555556,
             "#d8576b"
            ],
            [
             0.6666666666666666,
             "#ed7953"
            ],
            [
             0.7777777777777778,
             "#fb9f3a"
            ],
            [
             0.8888888888888888,
             "#fdca26"
            ],
            [
             1,
             "#f0f921"
            ]
           ],
           "sequentialminus": [
            [
             0,
             "#0d0887"
            ],
            [
             0.1111111111111111,
             "#46039f"
            ],
            [
             0.2222222222222222,
             "#7201a8"
            ],
            [
             0.3333333333333333,
             "#9c179e"
            ],
            [
             0.4444444444444444,
             "#bd3786"
            ],
            [
             0.5555555555555556,
             "#d8576b"
            ],
            [
             0.6666666666666666,
             "#ed7953"
            ],
            [
             0.7777777777777778,
             "#fb9f3a"
            ],
            [
             0.8888888888888888,
             "#fdca26"
            ],
            [
             1,
             "#f0f921"
            ]
           ]
          },
          "colorway": [
           "#636efa",
           "#EF553B",
           "#00cc96",
           "#ab63fa",
           "#FFA15A",
           "#19d3f3",
           "#FF6692",
           "#B6E880",
           "#FF97FF",
           "#FECB52"
          ],
          "font": {
           "color": "#2a3f5f"
          },
          "geo": {
           "bgcolor": "white",
           "lakecolor": "white",
           "landcolor": "#E5ECF6",
           "showlakes": true,
           "showland": true,
           "subunitcolor": "white"
          },
          "hoverlabel": {
           "align": "left"
          },
          "hovermode": "closest",
          "mapbox": {
           "style": "light"
          },
          "paper_bgcolor": "white",
          "plot_bgcolor": "#E5ECF6",
          "polar": {
           "angularaxis": {
            "gridcolor": "white",
            "linecolor": "white",
            "ticks": ""
           },
           "bgcolor": "#E5ECF6",
           "radialaxis": {
            "gridcolor": "white",
            "linecolor": "white",
            "ticks": ""
           }
          },
          "scene": {
           "xaxis": {
            "backgroundcolor": "#E5ECF6",
            "gridcolor": "white",
            "gridwidth": 2,
            "linecolor": "white",
            "showbackground": true,
            "ticks": "",
            "zerolinecolor": "white"
           },
           "yaxis": {
            "backgroundcolor": "#E5ECF6",
            "gridcolor": "white",
            "gridwidth": 2,
            "linecolor": "white",
            "showbackground": true,
            "ticks": "",
            "zerolinecolor": "white"
           },
           "zaxis": {
            "backgroundcolor": "#E5ECF6",
            "gridcolor": "white",
            "gridwidth": 2,
            "linecolor": "white",
            "showbackground": true,
            "ticks": "",
            "zerolinecolor": "white"
           }
          },
          "shapedefaults": {
           "line": {
            "color": "#2a3f5f"
           }
          },
          "ternary": {
           "aaxis": {
            "gridcolor": "white",
            "linecolor": "white",
            "ticks": ""
           },
           "baxis": {
            "gridcolor": "white",
            "linecolor": "white",
            "ticks": ""
           },
           "bgcolor": "#E5ECF6",
           "caxis": {
            "gridcolor": "white",
            "linecolor": "white",
            "ticks": ""
           }
          },
          "title": {
           "x": 0.05
          },
          "xaxis": {
           "automargin": true,
           "gridcolor": "white",
           "linecolor": "white",
           "ticks": "",
           "title": {
            "standoff": 15
           },
           "zerolinecolor": "white",
           "zerolinewidth": 2
          },
          "yaxis": {
           "automargin": true,
           "gridcolor": "white",
           "linecolor": "white",
           "ticks": "",
           "title": {
            "standoff": 15
           },
           "zerolinecolor": "white",
           "zerolinewidth": 2
          }
         }
        },
        "width": 1200,
        "xaxis": {
         "anchor": "y",
         "domain": [
          0,
          0.98
         ],
         "title": {
          "text": "month-year"
         }
        },
        "xaxis2": {
         "anchor": "y2",
         "domain": [
          0,
          0.98
         ],
         "matches": "x",
         "showticklabels": false
        },
        "xaxis3": {
         "anchor": "y3",
         "domain": [
          0,
          0.98
         ],
         "matches": "x",
         "showticklabels": false
        },
        "xaxis4": {
         "anchor": "y4",
         "domain": [
          0,
          0.98
         ],
         "matches": "x",
         "showticklabels": false
        },
        "xaxis5": {
         "anchor": "y5",
         "domain": [
          0,
          0.98
         ],
         "matches": "x",
         "showticklabels": false
        },
        "xaxis6": {
         "anchor": "y6",
         "domain": [
          0,
          0.98
         ],
         "matches": "x",
         "showticklabels": false
        },
        "xaxis7": {
         "anchor": "y7",
         "domain": [
          0,
          0.98
         ],
         "matches": "x",
         "showticklabels": false
        },
        "yaxis": {
         "anchor": "x",
         "domain": [
          0,
          0.11714285714285715
         ],
         "title": {
          "text": "value"
         }
        },
        "yaxis2": {
         "anchor": "x2",
         "domain": [
          0.14714285714285713,
          0.2642857142857143
         ],
         "matches": "y",
         "title": {
          "text": "value"
         }
        },
        "yaxis3": {
         "anchor": "x3",
         "domain": [
          0.29428571428571426,
          0.4114285714285714
         ],
         "matches": "y",
         "title": {
          "text": "value"
         }
        },
        "yaxis4": {
         "anchor": "x4",
         "domain": [
          0.4414285714285714,
          0.5585714285714285
         ],
         "matches": "y",
         "title": {
          "text": "value"
         }
        },
        "yaxis5": {
         "anchor": "x5",
         "domain": [
          0.5885714285714285,
          0.7057142857142856
         ],
         "matches": "y",
         "title": {
          "text": "value"
         }
        },
        "yaxis6": {
         "anchor": "x6",
         "domain": [
          0.7357142857142858,
          0.8528571428571429
         ],
         "matches": "y",
         "title": {
          "text": "value"
         }
        },
        "yaxis7": {
         "anchor": "x7",
         "domain": [
          0.8828571428571428,
          0.9999999999999999
         ],
         "matches": "y",
         "title": {
          "text": "value"
         }
        }
       }
      }
     },
     "metadata": {},
     "output_type": "display_data"
    }
   ],
   "source": [
    "fig_max_min = px.bar(df_max_min, x='month-year', y=['avg', 'max', 'min'], facet_row='weekday', barmode='group',\n",
    "           category_orders={'weekday':weekdays_order, 'month_years':month_years_order})\n",
    "fig_max_min.for_each_annotation(lambda x: x.update(text=x.text.split('=')[-1]))\n",
    "fig_max_min.update_layout(\n",
    "    height=wkday_fig_height+450,\n",
    "    width=wkday_fig_width-250,\n",
    ")\n",
    "fig_max_min.show()"
   ]
  },
  {
   "cell_type": "code",
   "execution_count": null,
   "metadata": {},
   "outputs": [],
   "source": []
  }
 ],
 "metadata": {
  "kernelspec": {
   "display_name": ".venv",
   "language": "python",
   "name": "python3"
  },
  "language_info": {
   "codemirror_mode": {
    "name": "ipython",
    "version": 3
   },
   "file_extension": ".py",
   "mimetype": "text/x-python",
   "name": "python",
   "nbconvert_exporter": "python",
   "pygments_lexer": "ipython3",
   "version": "3.12.1"
  }
 },
 "nbformat": 4,
 "nbformat_minor": 2
}
